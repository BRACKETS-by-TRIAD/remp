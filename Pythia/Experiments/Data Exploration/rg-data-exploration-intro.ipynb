{
 "cells": [
  {
   "cell_type": "code",
   "execution_count": 31,
   "metadata": {
    "collapsed": false,
    "deletable": true,
    "editable": true
   },
   "outputs": [],
   "source": [
    "%reload_ext autoreload \n",
    "%autoreload 2\n",
    "\n",
    "import pandas as pd\n",
    "import numpy as np\n",
    "import re\n",
    "import os\n",
    "import sys\n",
    "import time\n",
    "import sqlalchemy\n",
    "import matplotlib.pyplot as plt\n",
    "import numpy as np\n",
    "sys.path.append(\"../../\")\n",
    "from typing import List, Dict\n",
    "from os.path import join, dirname\n",
    "from pydrive.auth import GoogleAuth\n",
    "from datetime import datetime\n",
    "from dateutil.parser import parse\n",
    "from utils import gdrive_downloader"
   ]
  },
  {
   "cell_type": "code",
   "execution_count": 3,
   "metadata": {
    "collapsed": false
   },
   "outputs": [
    {
     "name": "stdout",
     "output_type": "stream",
     "text": [
      "Your browser has been opened to visit:\n",
      "\n",
      "    https://accounts.google.com/o/oauth2/auth?client_id=17797463459-h3beca6cno86q9eu3of312ki2g8dv7f5.apps.googleusercontent.com&redirect_uri=http%3A%2F%2Flocalhost%3A8080%2F&scope=https%3A%2F%2Fwww.googleapis.com%2Fauth%2Fdrive&access_type=offline&response_type=code\n",
      "\n",
      "Authentication successful.\n"
     ]
    }
   ],
   "source": [
    "GoogleAuth.DEFAULT_SETTINGS['client_config_file'] = '../../utils/client_secrets.json'\n",
    "drive = gdrive_downloader.gdrive_authenticate()"
   ]
  },
  {
   "cell_type": "code",
   "execution_count": 4,
   "metadata": {
    "collapsed": false
   },
   "outputs": [
    {
     "name": "stdout",
     "output_type": "stream",
     "text": [
      "pageviews\n",
      "0.0\n",
      "0.09615384615384616\n",
      "0.19230769230769232\n",
      "0.28846153846153844\n",
      "0.38461538461538464\n",
      "0.4807692307692308\n",
      "0.5769230769230769\n",
      "0.6730769230769231\n",
      "0.7692307692307693\n",
      "0.8653846153846154\n",
      "0.9615384615384616\n",
      "0.9807692307692307\n",
      "events\n",
      "0.0\n",
      "0.09433962264150944\n",
      "0.18867924528301888\n",
      "0.2830188679245283\n",
      "0.37735849056603776\n",
      "0.4716981132075472\n",
      "0.5660377358490566\n",
      "0.660377358490566\n",
      "0.7547169811320755\n",
      "0.8490566037735849\n",
      "0.9433962264150944\n",
      "0.9811320754716981\n",
      "commerce\n",
      "0.0\n",
      "0.09433962264150944\n",
      "0.18867924528301888\n",
      "0.2830188679245283\n",
      "0.37735849056603776\n",
      "0.4716981132075472\n",
      "0.5660377358490566\n",
      "0.660377358490566\n",
      "0.7547169811320755\n",
      "0.8490566037735849\n",
      "0.9433962264150944\n",
      "0.9811320754716981\n"
     ]
    },
    {
     "data": {
      "text/plain": [
       "[{'pageviews': 16768691}, {'events': 5127821}, {'commerce': 78860}]"
      ]
     },
     "execution_count": 4,
     "metadata": {},
     "output_type": "execute_result"
    }
   ],
   "source": [
    "df_dict = gdrive_downloader.download_data(drive)\n",
    "[{key: len(value)} for key, value in df_dict.items()]"
   ]
  },
  {
   "cell_type": "code",
   "execution_count": 5,
   "metadata": {
    "collapsed": true
   },
   "outputs": [],
   "source": [
    "pageviews, events, commerce = [df for df in df_dict.values()]"
   ]
  },
  {
   "cell_type": "markdown",
   "metadata": {},
   "source": [
    "Reformat pageviews dataframe"
   ]
  },
  {
   "cell_type": "code",
   "execution_count": 6,
   "metadata": {
    "collapsed": false
   },
   "outputs": [
    {
     "data": {
      "text/html": [
       "<div>\n",
       "<table border=\"1\" class=\"dataframe\">\n",
       "  <thead>\n",
       "    <tr style=\"text-align: right;\">\n",
       "      <th></th>\n",
       "      <th>is_article</th>\n",
       "      <th>action</th>\n",
       "      <th>article_id</th>\n",
       "      <th>browser_id</th>\n",
       "      <th>category</th>\n",
       "      <th>host</th>\n",
       "      <th>name</th>\n",
       "      <th>referer</th>\n",
       "      <th>remp_session_id</th>\n",
       "      <th>signed_in</th>\n",
       "      <th>...</th>\n",
       "      <th>title_variant</th>\n",
       "      <th>token</th>\n",
       "      <th>url</th>\n",
       "      <th>user_agent</th>\n",
       "      <th>user_id</th>\n",
       "      <th>utm_campaign</th>\n",
       "      <th>utm_content</th>\n",
       "      <th>utm_medium</th>\n",
       "      <th>utm_source</th>\n",
       "      <th>date</th>\n",
       "    </tr>\n",
       "  </thead>\n",
       "  <tbody>\n",
       "    <tr>\n",
       "      <th>0</th>\n",
       "      <td>True</td>\n",
       "      <td>load</td>\n",
       "      <td>1021629.0</td>\n",
       "      <td>fa5076eb-2f1a-47fc-be3e-271008b9c839</td>\n",
       "      <td>slovensko</td>\n",
       "      <td>npress-influxdb-n2.ewhs.bntb.net</td>\n",
       "      <td>pageviews</td>\n",
       "      <td>NaN</td>\n",
       "      <td>b3c843ad-f854-4fdb-aab4-84c5a8a15969</td>\n",
       "      <td>0</td>\n",
       "      <td>...</td>\n",
       "      <td>A</td>\n",
       "      <td>1a8feb16-3e30-4f9b-bf74-20037ea8505a</td>\n",
       "      <td>https://dennikn.sk/1021629/vynimku-na-osemrocn...</td>\n",
       "      <td>Mozilla/5.0 (Linux; Android 5.1.1; SM-J320FN B...</td>\n",
       "      <td>NaN</td>\n",
       "      <td>daily-newsletter-7.2.2018</td>\n",
       "      <td>2736</td>\n",
       "      <td>email</td>\n",
       "      <td>newsletter_daily</td>\n",
       "      <td>2018-02-10</td>\n",
       "    </tr>\n",
       "    <tr>\n",
       "      <th>1</th>\n",
       "      <td>True</td>\n",
       "      <td>load</td>\n",
       "      <td>1024531.0</td>\n",
       "      <td>170610cc-8561-482e-a49e-6fa8613e3c18</td>\n",
       "      <td>sport</td>\n",
       "      <td>npress-influxdb-n2.ewhs.bntb.net</td>\n",
       "      <td>pageviews</td>\n",
       "      <td>https://dennikn.sk/</td>\n",
       "      <td>98421e52-d062-41bf-98f4-844159669ec1</td>\n",
       "      <td>1</td>\n",
       "      <td>...</td>\n",
       "      <td>A</td>\n",
       "      <td>1a8feb16-3e30-4f9b-bf74-20037ea8505a</td>\n",
       "      <td>https://dennikn.sk/1024531/severokorejcanky-vs...</td>\n",
       "      <td>Mozilla/5.0 (iPad; CPU OS 11_2_5 like Mac OS X...</td>\n",
       "      <td>66</td>\n",
       "      <td></td>\n",
       "      <td></td>\n",
       "      <td></td>\n",
       "      <td></td>\n",
       "      <td>2018-02-10</td>\n",
       "    </tr>\n",
       "    <tr>\n",
       "      <th>2</th>\n",
       "      <td>True</td>\n",
       "      <td>load</td>\n",
       "      <td>1017349.0</td>\n",
       "      <td>2dfb3791-a51c-4c7a-819d-f7a94a29c015</td>\n",
       "      <td>hlavna</td>\n",
       "      <td>npress-influxdb-n2.ewhs.bntb.net</td>\n",
       "      <td>pageviews</td>\n",
       "      <td>NaN</td>\n",
       "      <td>6b60d544-53b4-4524-ad7a-06ce791ffa3b</td>\n",
       "      <td>0</td>\n",
       "      <td>...</td>\n",
       "      <td>A</td>\n",
       "      <td>1a8feb16-3e30-4f9b-bf74-20037ea8505a</td>\n",
       "      <td>https://dennikn.sk/minuta/1017349/?ref=ampm</td>\n",
       "      <td>Mozilla/5.0 (X11; Linux x86_64) AppleWebKit/53...</td>\n",
       "      <td>NaN</td>\n",
       "      <td></td>\n",
       "      <td></td>\n",
       "      <td></td>\n",
       "      <td></td>\n",
       "      <td>2018-02-10</td>\n",
       "    </tr>\n",
       "    <tr>\n",
       "      <th>3</th>\n",
       "      <td>True</td>\n",
       "      <td>load</td>\n",
       "      <td>821309.0</td>\n",
       "      <td>a51cc7a8-19df-47a9-8a29-c0156b60d544</td>\n",
       "      <td>blog</td>\n",
       "      <td>npress-influxdb-n2.ewhs.bntb.net</td>\n",
       "      <td>pageviews</td>\n",
       "      <td>NaN</td>\n",
       "      <td>53b45242-d7a0-46ce-b91f-fa3b3b36d94d</td>\n",
       "      <td>0</td>\n",
       "      <td>...</td>\n",
       "      <td>A</td>\n",
       "      <td>1a8feb16-3e30-4f9b-bf74-20037ea8505a</td>\n",
       "      <td>https://dennikn.sk/blog/821309/nikto-nedokaze-...</td>\n",
       "      <td>Mozilla/5.0 (X11; Linux x86_64) AppleWebKit/53...</td>\n",
       "      <td>NaN</td>\n",
       "      <td></td>\n",
       "      <td></td>\n",
       "      <td></td>\n",
       "      <td></td>\n",
       "      <td>2018-02-10</td>\n",
       "    </tr>\n",
       "    <tr>\n",
       "      <th>4</th>\n",
       "      <td>False</td>\n",
       "      <td>load</td>\n",
       "      <td></td>\n",
       "      <td>2dfb3791-a51c-4c7a-819d-f7a94a29c015</td>\n",
       "      <td>pageview</td>\n",
       "      <td>npress-influxdb-n2.ewhs.bntb.net</td>\n",
       "      <td>pageviews</td>\n",
       "      <td>NaN</td>\n",
       "      <td>6b60d544-53b4-4524-ad7a-06ce791ffa3b</td>\n",
       "      <td>0</td>\n",
       "      <td>...</td>\n",
       "      <td>NaN</td>\n",
       "      <td>1a8feb16-3e30-4f9b-bf74-20037ea8505a</td>\n",
       "      <td>https://dennikn.sk/tema/nfs/</td>\n",
       "      <td>Mozilla/5.0 (X11; Linux x86_64) AppleWebKit/53...</td>\n",
       "      <td>NaN</td>\n",
       "      <td></td>\n",
       "      <td></td>\n",
       "      <td></td>\n",
       "      <td></td>\n",
       "      <td>2018-02-10</td>\n",
       "    </tr>\n",
       "  </tbody>\n",
       "</table>\n",
       "<p>5 rows × 24 columns</p>\n",
       "</div>"
      ],
      "text/plain": [
       "  is_article action article_id                            browser_id  \\\n",
       "0       True   load  1021629.0  fa5076eb-2f1a-47fc-be3e-271008b9c839   \n",
       "1       True   load  1024531.0  170610cc-8561-482e-a49e-6fa8613e3c18   \n",
       "2       True   load  1017349.0  2dfb3791-a51c-4c7a-819d-f7a94a29c015   \n",
       "3       True   load   821309.0  a51cc7a8-19df-47a9-8a29-c0156b60d544   \n",
       "4      False   load             2dfb3791-a51c-4c7a-819d-f7a94a29c015   \n",
       "\n",
       "    category                              host       name  \\\n",
       "0  slovensko  npress-influxdb-n2.ewhs.bntb.net  pageviews   \n",
       "1      sport  npress-influxdb-n2.ewhs.bntb.net  pageviews   \n",
       "2     hlavna  npress-influxdb-n2.ewhs.bntb.net  pageviews   \n",
       "3       blog  npress-influxdb-n2.ewhs.bntb.net  pageviews   \n",
       "4   pageview  npress-influxdb-n2.ewhs.bntb.net  pageviews   \n",
       "\n",
       "               referer                       remp_session_id signed_in  \\\n",
       "0                  NaN  b3c843ad-f854-4fdb-aab4-84c5a8a15969         0   \n",
       "1  https://dennikn.sk/  98421e52-d062-41bf-98f4-844159669ec1         1   \n",
       "2                  NaN  6b60d544-53b4-4524-ad7a-06ce791ffa3b         0   \n",
       "3                  NaN  53b45242-d7a0-46ce-b91f-fa3b3b36d94d         0   \n",
       "4                  NaN  6b60d544-53b4-4524-ad7a-06ce791ffa3b         0   \n",
       "\n",
       "      ...     title_variant                                 token  \\\n",
       "0     ...                 A  1a8feb16-3e30-4f9b-bf74-20037ea8505a   \n",
       "1     ...                 A  1a8feb16-3e30-4f9b-bf74-20037ea8505a   \n",
       "2     ...                 A  1a8feb16-3e30-4f9b-bf74-20037ea8505a   \n",
       "3     ...                 A  1a8feb16-3e30-4f9b-bf74-20037ea8505a   \n",
       "4     ...               NaN  1a8feb16-3e30-4f9b-bf74-20037ea8505a   \n",
       "\n",
       "                                                 url  \\\n",
       "0  https://dennikn.sk/1021629/vynimku-na-osemrocn...   \n",
       "1  https://dennikn.sk/1024531/severokorejcanky-vs...   \n",
       "2        https://dennikn.sk/minuta/1017349/?ref=ampm   \n",
       "3  https://dennikn.sk/blog/821309/nikto-nedokaze-...   \n",
       "4                       https://dennikn.sk/tema/nfs/   \n",
       "\n",
       "                                          user_agent user_id  \\\n",
       "0  Mozilla/5.0 (Linux; Android 5.1.1; SM-J320FN B...     NaN   \n",
       "1  Mozilla/5.0 (iPad; CPU OS 11_2_5 like Mac OS X...      66   \n",
       "2  Mozilla/5.0 (X11; Linux x86_64) AppleWebKit/53...     NaN   \n",
       "3  Mozilla/5.0 (X11; Linux x86_64) AppleWebKit/53...     NaN   \n",
       "4  Mozilla/5.0 (X11; Linux x86_64) AppleWebKit/53...     NaN   \n",
       "\n",
       "                utm_campaign utm_content utm_medium        utm_source  \\\n",
       "0  daily-newsletter-7.2.2018        2736      email  newsletter_daily   \n",
       "1                                                                       \n",
       "2                                                                       \n",
       "3                                                                       \n",
       "4                                                                       \n",
       "\n",
       "         date  \n",
       "0  2018-02-10  \n",
       "1  2018-02-10  \n",
       "2  2018-02-10  \n",
       "3  2018-02-10  \n",
       "4  2018-02-10  \n",
       "\n",
       "[5 rows x 24 columns]"
      ]
     },
     "execution_count": 6,
     "metadata": {},
     "output_type": "execute_result"
    }
   ],
   "source": [
    "pageviews.rename(columns={'_article': 'is_article'}, inplace=True)\n",
    "pageviews['article_id'].fillna('', inplace=True)\n",
    "pageviews['is_article'] = pageviews['is_article'].astype(bool)\n",
    "pageviews['article_id'] = pageviews['article_id'].astype(str)\n",
    "pageviews['time'] = pd.to_datetime(pageviews['time'])\n",
    "pageviews['date'] = pageviews['time'].dt.date\n",
    "pageviews['remp_session_id'].fillna('', inplace = True)\n",
    "pageviews['signed_in'].fillna('', inplace = True)\n",
    "pageviews['social'].fillna('', inplace = True)\n",
    "pageviews['tags'].fillna('', inplace = True)\n",
    "pageviews['title'].fillna('', inplace = True)\n",
    "pageviews['user_agent'].fillna('', inplace = True)\n",
    "[pageviews[column].fillna('', inplace = True) for column in pageviews.columns if re.search('utm_', column) is not None]\n",
    "pageviews.head()"
   ]
  },
  {
   "cell_type": "markdown",
   "metadata": {},
   "source": [
    "Reformat commerce dataframe"
   ]
  },
  {
   "cell_type": "code",
   "execution_count": 7,
   "metadata": {
    "collapsed": false
   },
   "outputs": [
    {
     "data": {
      "text/html": [
       "<div>\n",
       "<table border=\"1\" class=\"dataframe\">\n",
       "  <thead>\n",
       "    <tr style=\"text-align: right;\">\n",
       "      <th></th>\n",
       "      <th>article_id</th>\n",
       "      <th>author_id</th>\n",
       "      <th>currency</th>\n",
       "      <th>funnel_id</th>\n",
       "      <th>host</th>\n",
       "      <th>name</th>\n",
       "      <th>product_ids</th>\n",
       "      <th>revenue</th>\n",
       "      <th>signed_in</th>\n",
       "      <th>step</th>\n",
       "      <th>time</th>\n",
       "      <th>token</th>\n",
       "      <th>transaction_id</th>\n",
       "      <th>url</th>\n",
       "      <th>user_agent</th>\n",
       "      <th>user_id</th>\n",
       "      <th>utm_campaign</th>\n",
       "      <th>utm_content</th>\n",
       "      <th>utm_medium</th>\n",
       "      <th>utm_source</th>\n",
       "    </tr>\n",
       "  </thead>\n",
       "  <tbody>\n",
       "    <tr>\n",
       "      <th>0</th>\n",
       "      <td>NaN</td>\n",
       "      <td>NaN</td>\n",
       "      <td>NaN</td>\n",
       "      <td>31</td>\n",
       "      <td>npress-influxdb-n2.ewhs.bntb.net</td>\n",
       "      <td>commerce</td>\n",
       "      <td>NaN</td>\n",
       "      <td>NaN</td>\n",
       "      <td>1.0</td>\n",
       "      <td>checkout</td>\n",
       "      <td>1518220800000000000</td>\n",
       "      <td>1a8feb16-3e30-4f9b-bf74-20037ea8505a</td>\n",
       "      <td>NaN</td>\n",
       "      <td>NaN</td>\n",
       "      <td>NaN</td>\n",
       "      <td>13449</td>\n",
       "      <td>50perc-zlava-byvali-predplatitelia-1A</td>\n",
       "      <td>2811</td>\n",
       "      <td>email</td>\n",
       "      <td>promo</td>\n",
       "    </tr>\n",
       "    <tr>\n",
       "      <th>1</th>\n",
       "      <td>NaN</td>\n",
       "      <td>NaN</td>\n",
       "      <td>NaN</td>\n",
       "      <td>31</td>\n",
       "      <td>npress-influxdb-n2.ewhs.bntb.net</td>\n",
       "      <td>commerce</td>\n",
       "      <td>NaN</td>\n",
       "      <td>NaN</td>\n",
       "      <td>1.0</td>\n",
       "      <td>checkout</td>\n",
       "      <td>1518220851000000000</td>\n",
       "      <td>1a8feb16-3e30-4f9b-bf74-20037ea8505a</td>\n",
       "      <td>NaN</td>\n",
       "      <td>NaN</td>\n",
       "      <td>NaN</td>\n",
       "      <td>73997</td>\n",
       "      <td>50perc-zlava-byvali-predplatitelia-1A</td>\n",
       "      <td>2811</td>\n",
       "      <td>email</td>\n",
       "      <td>promo</td>\n",
       "    </tr>\n",
       "    <tr>\n",
       "      <th>2</th>\n",
       "      <td>NaN</td>\n",
       "      <td>NaN</td>\n",
       "      <td>NaN</td>\n",
       "      <td>31</td>\n",
       "      <td>npress-influxdb-n2.ewhs.bntb.net</td>\n",
       "      <td>commerce</td>\n",
       "      <td>NaN</td>\n",
       "      <td>NaN</td>\n",
       "      <td>1.0</td>\n",
       "      <td>checkout</td>\n",
       "      <td>1518220891000000000</td>\n",
       "      <td>1a8feb16-3e30-4f9b-bf74-20037ea8505a</td>\n",
       "      <td>NaN</td>\n",
       "      <td>NaN</td>\n",
       "      <td>NaN</td>\n",
       "      <td>25147</td>\n",
       "      <td>50perc-zlava-byvali-predplatitelia-1A</td>\n",
       "      <td>2811</td>\n",
       "      <td>email</td>\n",
       "      <td>promo</td>\n",
       "    </tr>\n",
       "    <tr>\n",
       "      <th>3</th>\n",
       "      <td>NaN</td>\n",
       "      <td>NaN</td>\n",
       "      <td>EUR</td>\n",
       "      <td>31</td>\n",
       "      <td>npress-influxdb-n2.ewhs.bntb.net</td>\n",
       "      <td>commerce</td>\n",
       "      <td>158</td>\n",
       "      <td>26.94</td>\n",
       "      <td>1.0</td>\n",
       "      <td>payment</td>\n",
       "      <td>1518221109000000000</td>\n",
       "      <td>1a8feb16-3e30-4f9b-bf74-20037ea8505a</td>\n",
       "      <td>4104862169</td>\n",
       "      <td>https://predplatne.dennikn.sk/sales-funnel/sal...</td>\n",
       "      <td>Mozilla/5.0 (Windows NT 6.1; Win64; x64) Apple...</td>\n",
       "      <td>46221</td>\n",
       "      <td>NaN</td>\n",
       "      <td>NaN</td>\n",
       "      <td>NaN</td>\n",
       "      <td>NaN</td>\n",
       "    </tr>\n",
       "    <tr>\n",
       "      <th>4</th>\n",
       "      <td>NaN</td>\n",
       "      <td>NaN</td>\n",
       "      <td>NaN</td>\n",
       "      <td>30</td>\n",
       "      <td>npress-influxdb-n2.ewhs.bntb.net</td>\n",
       "      <td>commerce</td>\n",
       "      <td>NaN</td>\n",
       "      <td>NaN</td>\n",
       "      <td>1.0</td>\n",
       "      <td>checkout</td>\n",
       "      <td>1518221287000000000</td>\n",
       "      <td>1a8feb16-3e30-4f9b-bf74-20037ea8505a</td>\n",
       "      <td>NaN</td>\n",
       "      <td>NaN</td>\n",
       "      <td>NaN</td>\n",
       "      <td>39538</td>\n",
       "      <td>1589494e-5a03-4535-a92f-a7c19381f054</td>\n",
       "      <td>3a2af47f-c45e-48ec-b2f0-9c4040ebe1b1</td>\n",
       "      <td>inline</td>\n",
       "      <td>remp_campaign</td>\n",
       "    </tr>\n",
       "  </tbody>\n",
       "</table>\n",
       "</div>"
      ],
      "text/plain": [
       "   article_id author_id currency funnel_id                              host  \\\n",
       "0         NaN       NaN      NaN        31  npress-influxdb-n2.ewhs.bntb.net   \n",
       "1         NaN       NaN      NaN        31  npress-influxdb-n2.ewhs.bntb.net   \n",
       "2         NaN       NaN      NaN        31  npress-influxdb-n2.ewhs.bntb.net   \n",
       "3         NaN       NaN      EUR        31  npress-influxdb-n2.ewhs.bntb.net   \n",
       "4         NaN       NaN      NaN        30  npress-influxdb-n2.ewhs.bntb.net   \n",
       "\n",
       "       name product_ids  revenue  signed_in      step                 time  \\\n",
       "0  commerce         NaN      NaN        1.0  checkout  1518220800000000000   \n",
       "1  commerce         NaN      NaN        1.0  checkout  1518220851000000000   \n",
       "2  commerce         NaN      NaN        1.0  checkout  1518220891000000000   \n",
       "3  commerce         158    26.94        1.0   payment  1518221109000000000   \n",
       "4  commerce         NaN      NaN        1.0  checkout  1518221287000000000   \n",
       "\n",
       "                                  token transaction_id  \\\n",
       "0  1a8feb16-3e30-4f9b-bf74-20037ea8505a            NaN   \n",
       "1  1a8feb16-3e30-4f9b-bf74-20037ea8505a            NaN   \n",
       "2  1a8feb16-3e30-4f9b-bf74-20037ea8505a            NaN   \n",
       "3  1a8feb16-3e30-4f9b-bf74-20037ea8505a     4104862169   \n",
       "4  1a8feb16-3e30-4f9b-bf74-20037ea8505a            NaN   \n",
       "\n",
       "                                                 url  \\\n",
       "0                                                NaN   \n",
       "1                                                NaN   \n",
       "2                                                NaN   \n",
       "3  https://predplatne.dennikn.sk/sales-funnel/sal...   \n",
       "4                                                NaN   \n",
       "\n",
       "                                          user_agent user_id  \\\n",
       "0                                                NaN   13449   \n",
       "1                                                NaN   73997   \n",
       "2                                                NaN   25147   \n",
       "3  Mozilla/5.0 (Windows NT 6.1; Win64; x64) Apple...   46221   \n",
       "4                                                NaN   39538   \n",
       "\n",
       "                            utm_campaign  \\\n",
       "0  50perc-zlava-byvali-predplatitelia-1A   \n",
       "1  50perc-zlava-byvali-predplatitelia-1A   \n",
       "2  50perc-zlava-byvali-predplatitelia-1A   \n",
       "3                                    NaN   \n",
       "4   1589494e-5a03-4535-a92f-a7c19381f054   \n",
       "\n",
       "                            utm_content utm_medium     utm_source  \n",
       "0                                  2811      email          promo  \n",
       "1                                  2811      email          promo  \n",
       "2                                  2811      email          promo  \n",
       "3                                   NaN        NaN            NaN  \n",
       "4  3a2af47f-c45e-48ec-b2f0-9c4040ebe1b1     inline  remp_campaign  "
      ]
     },
     "execution_count": 7,
     "metadata": {},
     "output_type": "execute_result"
    }
   ],
   "source": [
    "commerce.head()"
   ]
  },
  {
   "cell_type": "code",
   "execution_count": 8,
   "metadata": {
    "collapsed": true
   },
   "outputs": [],
   "source": [
    "commerce_test = df_dict['commerce']"
   ]
  },
  {
   "cell_type": "code",
   "execution_count": 9,
   "metadata": {
    "collapsed": false
   },
   "outputs": [
    {
     "name": "stdout",
     "output_type": "stream",
     "text": [
      "Index(['article_id', 'author_id', 'currency', 'funnel_id', 'host', 'name',\n",
      "       'product_ids', 'revenue', 'signed_in', 'step', 'time', 'token',\n",
      "       'transaction_id', 'url', 'user_agent', 'user_id', 'utm_campaign',\n",
      "       'utm_content', 'utm_medium', 'utm_source'],\n",
      "      dtype='object')\n"
     ]
    },
    {
     "data": {
      "text/html": [
       "<div>\n",
       "<table border=\"1\" class=\"dataframe\">\n",
       "  <thead>\n",
       "    <tr style=\"text-align: right;\">\n",
       "      <th></th>\n",
       "      <th>article_id</th>\n",
       "      <th>author_id</th>\n",
       "      <th>currency</th>\n",
       "      <th>funnel_id</th>\n",
       "      <th>host</th>\n",
       "      <th>name</th>\n",
       "      <th>product_ids</th>\n",
       "      <th>revenue</th>\n",
       "      <th>signed_in</th>\n",
       "      <th>step</th>\n",
       "      <th>...</th>\n",
       "      <th>token</th>\n",
       "      <th>transaction_id</th>\n",
       "      <th>url</th>\n",
       "      <th>user_agent</th>\n",
       "      <th>user_id</th>\n",
       "      <th>utm_campaign</th>\n",
       "      <th>utm_content</th>\n",
       "      <th>utm_medium</th>\n",
       "      <th>utm_source</th>\n",
       "      <th>date</th>\n",
       "    </tr>\n",
       "  </thead>\n",
       "  <tbody>\n",
       "    <tr>\n",
       "      <th>0</th>\n",
       "      <td></td>\n",
       "      <td></td>\n",
       "      <td></td>\n",
       "      <td>31</td>\n",
       "      <td>npress-influxdb-n2.ewhs.bntb.net</td>\n",
       "      <td>commerce</td>\n",
       "      <td></td>\n",
       "      <td>0.00</td>\n",
       "      <td>1.0</td>\n",
       "      <td>checkout</td>\n",
       "      <td>...</td>\n",
       "      <td>1a8feb16-3e30-4f9b-bf74-20037ea8505a</td>\n",
       "      <td></td>\n",
       "      <td></td>\n",
       "      <td></td>\n",
       "      <td>13449</td>\n",
       "      <td>50perc-zlava-byvali-predplatitelia-1A</td>\n",
       "      <td>2811</td>\n",
       "      <td>email</td>\n",
       "      <td>promo</td>\n",
       "      <td>2018-02-10</td>\n",
       "    </tr>\n",
       "    <tr>\n",
       "      <th>1</th>\n",
       "      <td></td>\n",
       "      <td></td>\n",
       "      <td></td>\n",
       "      <td>31</td>\n",
       "      <td>npress-influxdb-n2.ewhs.bntb.net</td>\n",
       "      <td>commerce</td>\n",
       "      <td></td>\n",
       "      <td>0.00</td>\n",
       "      <td>1.0</td>\n",
       "      <td>checkout</td>\n",
       "      <td>...</td>\n",
       "      <td>1a8feb16-3e30-4f9b-bf74-20037ea8505a</td>\n",
       "      <td></td>\n",
       "      <td></td>\n",
       "      <td></td>\n",
       "      <td>73997</td>\n",
       "      <td>50perc-zlava-byvali-predplatitelia-1A</td>\n",
       "      <td>2811</td>\n",
       "      <td>email</td>\n",
       "      <td>promo</td>\n",
       "      <td>2018-02-10</td>\n",
       "    </tr>\n",
       "    <tr>\n",
       "      <th>2</th>\n",
       "      <td></td>\n",
       "      <td></td>\n",
       "      <td></td>\n",
       "      <td>31</td>\n",
       "      <td>npress-influxdb-n2.ewhs.bntb.net</td>\n",
       "      <td>commerce</td>\n",
       "      <td></td>\n",
       "      <td>0.00</td>\n",
       "      <td>1.0</td>\n",
       "      <td>checkout</td>\n",
       "      <td>...</td>\n",
       "      <td>1a8feb16-3e30-4f9b-bf74-20037ea8505a</td>\n",
       "      <td></td>\n",
       "      <td></td>\n",
       "      <td></td>\n",
       "      <td>25147</td>\n",
       "      <td>50perc-zlava-byvali-predplatitelia-1A</td>\n",
       "      <td>2811</td>\n",
       "      <td>email</td>\n",
       "      <td>promo</td>\n",
       "      <td>2018-02-10</td>\n",
       "    </tr>\n",
       "    <tr>\n",
       "      <th>3</th>\n",
       "      <td></td>\n",
       "      <td></td>\n",
       "      <td>EUR</td>\n",
       "      <td>31</td>\n",
       "      <td>npress-influxdb-n2.ewhs.bntb.net</td>\n",
       "      <td>commerce</td>\n",
       "      <td>158.0</td>\n",
       "      <td>26.94</td>\n",
       "      <td>1.0</td>\n",
       "      <td>payment</td>\n",
       "      <td>...</td>\n",
       "      <td>1a8feb16-3e30-4f9b-bf74-20037ea8505a</td>\n",
       "      <td>4104862169</td>\n",
       "      <td>https://predplatne.dennikn.sk/sales-funnel/sal...</td>\n",
       "      <td>Mozilla/5.0 (Windows NT 6.1; Win64; x64) Apple...</td>\n",
       "      <td>46221</td>\n",
       "      <td></td>\n",
       "      <td></td>\n",
       "      <td></td>\n",
       "      <td></td>\n",
       "      <td>2018-02-10</td>\n",
       "    </tr>\n",
       "    <tr>\n",
       "      <th>4</th>\n",
       "      <td></td>\n",
       "      <td></td>\n",
       "      <td></td>\n",
       "      <td>30</td>\n",
       "      <td>npress-influxdb-n2.ewhs.bntb.net</td>\n",
       "      <td>commerce</td>\n",
       "      <td></td>\n",
       "      <td>0.00</td>\n",
       "      <td>1.0</td>\n",
       "      <td>checkout</td>\n",
       "      <td>...</td>\n",
       "      <td>1a8feb16-3e30-4f9b-bf74-20037ea8505a</td>\n",
       "      <td></td>\n",
       "      <td></td>\n",
       "      <td></td>\n",
       "      <td>39538</td>\n",
       "      <td>1589494e-5a03-4535-a92f-a7c19381f054</td>\n",
       "      <td>3a2af47f-c45e-48ec-b2f0-9c4040ebe1b1</td>\n",
       "      <td>inline</td>\n",
       "      <td>remp_campaign</td>\n",
       "      <td>2018-02-10</td>\n",
       "    </tr>\n",
       "  </tbody>\n",
       "</table>\n",
       "<p>5 rows × 21 columns</p>\n",
       "</div>"
      ],
      "text/plain": [
       "  article_id author_id currency funnel_id                              host  \\\n",
       "0                                      31  npress-influxdb-n2.ewhs.bntb.net   \n",
       "1                                      31  npress-influxdb-n2.ewhs.bntb.net   \n",
       "2                                      31  npress-influxdb-n2.ewhs.bntb.net   \n",
       "3                           EUR        31  npress-influxdb-n2.ewhs.bntb.net   \n",
       "4                                      30  npress-influxdb-n2.ewhs.bntb.net   \n",
       "\n",
       "       name product_ids  revenue signed_in      step     ...      \\\n",
       "0  commerce                 0.00       1.0  checkout     ...       \n",
       "1  commerce                 0.00       1.0  checkout     ...       \n",
       "2  commerce                 0.00       1.0  checkout     ...       \n",
       "3  commerce       158.0    26.94       1.0   payment     ...       \n",
       "4  commerce                 0.00       1.0  checkout     ...       \n",
       "\n",
       "                                  token transaction_id  \\\n",
       "0  1a8feb16-3e30-4f9b-bf74-20037ea8505a                  \n",
       "1  1a8feb16-3e30-4f9b-bf74-20037ea8505a                  \n",
       "2  1a8feb16-3e30-4f9b-bf74-20037ea8505a                  \n",
       "3  1a8feb16-3e30-4f9b-bf74-20037ea8505a     4104862169   \n",
       "4  1a8feb16-3e30-4f9b-bf74-20037ea8505a                  \n",
       "\n",
       "                                                 url  \\\n",
       "0                                                      \n",
       "1                                                      \n",
       "2                                                      \n",
       "3  https://predplatne.dennikn.sk/sales-funnel/sal...   \n",
       "4                                                      \n",
       "\n",
       "                                          user_agent user_id  \\\n",
       "0                                                      13449   \n",
       "1                                                      73997   \n",
       "2                                                      25147   \n",
       "3  Mozilla/5.0 (Windows NT 6.1; Win64; x64) Apple...   46221   \n",
       "4                                                      39538   \n",
       "\n",
       "                            utm_campaign  \\\n",
       "0  50perc-zlava-byvali-predplatitelia-1A   \n",
       "1  50perc-zlava-byvali-predplatitelia-1A   \n",
       "2  50perc-zlava-byvali-predplatitelia-1A   \n",
       "3                                          \n",
       "4   1589494e-5a03-4535-a92f-a7c19381f054   \n",
       "\n",
       "                            utm_content utm_medium     utm_source        date  \n",
       "0                                  2811      email          promo  2018-02-10  \n",
       "1                                  2811      email          promo  2018-02-10  \n",
       "2                                  2811      email          promo  2018-02-10  \n",
       "3                                                                  2018-02-10  \n",
       "4  3a2af47f-c45e-48ec-b2f0-9c4040ebe1b1     inline  remp_campaign  2018-02-10  \n",
       "\n",
       "[5 rows x 21 columns]"
      ]
     },
     "execution_count": 9,
     "metadata": {},
     "output_type": "execute_result"
    }
   ],
   "source": [
    "print(commerce.columns)\n",
    "commerce['time'] = pd.to_datetime(commerce['time'].astype(int))\n",
    "commerce['date'] = commerce['time'].dt.date\n",
    "for column in commerce.columns:\n",
    "    if column not in ['revenue']:\n",
    "        commerce[column] = commerce[column].astype(str)\n",
    "        commerce[column] = commerce[column].str.replace('nan', '')\n",
    "    else:\n",
    "        commerce['revenue'] = commerce['revenue'].astype(float)\n",
    "        commerce['revenue'] = commerce['revenue'].fillna(0)\n",
    "commerce.head()"
   ]
  },
  {
   "cell_type": "markdown",
   "metadata": {},
   "source": [
    "We need our comparisons to have a fixed date range and we're currently using the 20180122073050 MySQL snapshot"
   ]
  },
  {
   "cell_type": "code",
   "execution_count": 50,
   "metadata": {
    "collapsed": false
   },
   "outputs": [],
   "source": [
    "max_date = datetime.datetime.strptime('2018-01-22 07:30:15', '%Y-%m-%d %H:%M:%S')\n",
    "last_30_days = pd.Series(pageviews['date'].unique()).sort_values(ascending=False)\n",
    "last_30_days = last_30_days[pd.to_datetime(last_30_days) < max_date].tolist()[-30:]"
   ]
  },
  {
   "cell_type": "markdown",
   "metadata": {},
   "source": [
    "Comparing with funnel report built in Exponea @ https://cloud.infinario.com/p/dennikn-sk/analytics/funnels/5a76c32534e299737da62ffb"
   ]
  },
  {
   "cell_type": "code",
   "execution_count": 51,
   "metadata": {
    "collapsed": false
   },
   "outputs": [
    {
     "name": "stdout",
     "output_type": "stream",
     "text": [
      "Unique visitors, last 30 days: \n",
      "REMP data collection:  978680\n",
      "Exponea: 1126722\n"
     ]
    }
   ],
   "source": [
    "print('Unique visitors, last 30 days: ')\n",
    "print('REMP data collection: ', len(pageviews.loc[pageviews['date'].isin(last_30_days), 'user_id'].unique()))\n",
    "print('Exponea: 1126722')"
   ]
  },
  {
   "cell_type": "code",
   "execution_count": 52,
   "metadata": {
    "collapsed": false
   },
   "outputs": [
    {
     "name": "stdout",
     "output_type": "stream",
     "text": [
      "Unique visitors on articles, last 30 days: \n",
      "REMP data collection:  844131\n",
      "Exponea: 519 050\n"
     ]
    }
   ],
   "source": [
    "print('Unique visitors on articles, last 30 days: ')\n",
    "print('REMP data collection: ', len(df_dict['pageviews'].loc[(pageviews['date'].isin(last_30_days)) &\n",
    "                                                             (pageviews['is_article'] == True), 'user_id'].unique()))\n",
    "print('Exponea: 519 050')"
   ]
  },
  {
   "cell_type": "code",
   "execution_count": 53,
   "metadata": {
    "collapsed": false
   },
   "outputs": [
    {
     "name": "stdout",
     "output_type": "stream",
     "text": [
      "Unique visitors in sales funnel, last 30 days: \n",
      "REMP data collection:  18094\n",
      "Exponea: 32\n"
     ]
    }
   ],
   "source": [
    "print('Unique visitors in sales funnel, last 30 days: ')\n",
    "print('REMP data collection: ', len(commerce.loc[(commerce['date'].isin([x.isoformat() for x in last_30_days])), 'user_id'].unique()))\n",
    "print('Exponea: 32')"
   ]
  },
  {
   "cell_type": "code",
   "execution_count": 54,
   "metadata": {
    "collapsed": false
   },
   "outputs": [
    {
     "name": "stdout",
     "output_type": "stream",
     "text": [
      "Unique visitors signed in, last 30 days: \n",
      "REMP data collection:  46740\n",
      "Exponea: 67001\n"
     ]
    }
   ],
   "source": [
    "print('Unique visitors signed in, last 30 days: ')\n",
    "print('REMP data collection: ', len(pageviews.loc[(pageviews['date'].isin(last_30_days)) &\n",
    "                                                  (pageviews['user_id'].str.match('^[0-9]+$')), 'user_id'].unique()))\n",
    "print('Exponea: 67001')"
   ]
  },
  {
   "cell_type": "code",
   "execution_count": 55,
   "metadata": {
    "collapsed": false
   },
   "outputs": [
    {
     "name": "stdout",
     "output_type": "stream",
     "text": [
      "Unique visitors on articles signed in, last 30 days: \n",
      "REMP data collection:  45999\n",
      "Exponea: 55558\n"
     ]
    }
   ],
   "source": [
    "print('Unique visitors on articles signed in, last 30 days: ')\n",
    "print('REMP data collection: ', len(df_dict['pageviews'].loc[(pageviews['date'].isin(last_30_days)) &\n",
    "                                                             (pageviews['is_article'] == True) &\n",
    "                                                             (pageviews['user_id'].str.match('^[0-9]+$')), 'user_id'].unique()))\n",
    "print('Exponea: 55558')"
   ]
  },
  {
   "cell_type": "code",
   "execution_count": 56,
   "metadata": {
    "collapsed": false
   },
   "outputs": [
    {
     "name": "stdout",
     "output_type": "stream",
     "text": [
      "Unique visitors in sales funnel signed in, last 30 days: \n",
      "REMP data collection:  18094\n",
      "Exponea: 28\n"
     ]
    }
   ],
   "source": [
    "print('Unique visitors in sales funnel signed in, last 30 days: ')\n",
    "print('REMP data collection: ', len(commerce.loc[(commerce['date'].isin([x.isoformat() for x in last_30_days])) &\n",
    "                                                 (commerce['user_id'].str.match('^[0-9]+$')), 'user_id'].unique()))\n",
    "print('Exponea: 28')"
   ]
  },
  {
   "cell_type": "markdown",
   "metadata": {},
   "source": [
    "Comparing with engagement reports (all pageviews) @ https://cloud.infinario.com/p/dennikn-sk/analytics/funnels/5a7700dc34e299737da63001"
   ]
  },
  {
   "cell_type": "code",
   "execution_count": 57,
   "metadata": {
    "collapsed": false
   },
   "outputs": [],
   "source": [
    "readership_level_all_remp = pd.Series(pageviews['user_id'].value_counts()).value_counts(normalize=True)\n",
    "readership_level_all_exponea = pd.Series.from_csv('readership-levels-all-pvs.csv')[2:].astype(int)\n",
    "readership_level_all_exponea = readership_level_all_exponea / readership_level_all_exponea.sum()\n",
    "readership_level_all_exponea.index = readership_level_all_exponea.index.astype(int)\n",
    "readership_level_all_exponea = readership_level_all_exponea.sort_index()"
   ]
  },
  {
   "cell_type": "markdown",
   "metadata": {},
   "source": [
    "For the sake of chart simplicity we bin all users accessing more than 10 pageviews into a 10+ category"
   ]
  },
  {
   "cell_type": "code",
   "execution_count": 58,
   "metadata": {
    "collapsed": false,
    "scrolled": false
   },
   "outputs": [
    {
     "data": {
      "text/plain": [
       "<matplotlib.figure.Figure at 0x13b5da278>"
      ]
     },
     "metadata": {},
     "output_type": "display_data"
    },
    {
     "data": {
      "image/png": "[encoded data removed]",
      "text/plain": [
       "<matplotlib.figure.Figure at 0x1bb9d6cc0>"
      ]
     },
     "metadata": {},
     "output_type": "display_data"
    }
   ],
   "source": [
    "plt.clf()\n",
    "remp_readership_all = readership_level_all_remp[:10].append(pd.Series(readership_level_all_remp[10:].sum())).reset_index(drop=True)\n",
    "# remp_readership_all.index = [str(x) for x in range(1, 11)] + ['10+']\n",
    "exponea_readership_all = readership_level_all_exponea[:10].append(pd.Series(readership_level_all_exponea[10:].sum())).reset_index(drop=True)\n",
    "fig, ax = plt.subplots(figsize=(11, 5))\n",
    "plt.plot(remp_readership_all)\n",
    "plt.plot(exponea_readership_all)\n",
    "vals = ax.get_yticks()\n",
    "ax.set_yticklabels([str(x*100) + ' %' for x in vals])\n",
    "ax.set_xticks(range(0,12))\n",
    "ax.set_xticklabels(pd.Series([(str(val) if val != 11 else '10+')  \n",
    "                              for val in range(1,12)]), fontsize=11)\n",
    "ax.legend(('REMP', 'Exponea'))\n",
    "plt.xlabel(\"Pageviews in last 30 days\")\n",
    "plt.ylabel(\"% Visitors\")\n",
    "plt.title('Engagement levels')\n",
    "plt.show()"
   ]
  },
  {
   "cell_type": "markdown",
   "metadata": {},
   "source": [
    "It seems the engagement levels are pretty close, the difference in long tail is most likely caused by Exponea counting cookies while REMP data collection collects cookies for anonymous users and customer ids for signed in users, which means the long tail is used by account sharing and / or multiple devices per paying users"
   ]
  },
  {
   "cell_type": "code",
   "execution_count": 59,
   "metadata": {
    "collapsed": true
   },
   "outputs": [],
   "source": [
    "readership_level_articles_remp = pd.Series(pageviews['user_id'].value_counts()).value_counts(normalize=True)\n",
    "readership_level_articles_exponea = pd.Series.from_csv('readership-levels-articles.csv')[2:].astype(int)\n",
    "readership_level_articles_exponea = readership_level_articles_exponea / readership_level_articles_exponea.sum()\n",
    "readership_level_articles_exponea.index = readership_level_articles_exponea.index.astype(int)\n",
    "readership_level_articles_exponea = readership_level_articles_exponea.sort_index()"
   ]
  },
  {
   "cell_type": "markdown",
   "metadata": {},
   "source": [
    "Report for engagement on articles\n",
    "https://cloud.infinario.com/p/dennikn-sk/analytics/funnels/5a76c3e534e299737be3dcd8"
   ]
  },
  {
   "cell_type": "code",
   "execution_count": 60,
   "metadata": {
    "collapsed": false
   },
   "outputs": [
    {
     "data": {
      "text/plain": [
       "<matplotlib.figure.Figure at 0x139a0c828>"
      ]
     },
     "metadata": {},
     "output_type": "display_data"
    },
    {
     "data": {
      "image/png": "[encoded data removed]",
      "text/plain": [
       "<matplotlib.figure.Figure at 0x1bb7eae80>"
      ]
     },
     "metadata": {},
     "output_type": "display_data"
    }
   ],
   "source": [
    "plt.clf()\n",
    "remp_readership_articles = readership_level_articles_remp[:10].append(pd.Series(readership_level_articles_remp[10:].sum())).reset_index(drop=True)\n",
    "# remp_readership_all.index = [str(x) for x in range(1, 11)] + ['10+']\n",
    "exponea_readership_articles = readership_level_articles_exponea[:10].append(pd.Series(readership_level_articles_exponea[10:].sum())).reset_index(drop=True)\n",
    "fig, ax = plt.subplots(figsize=(11, 5))\n",
    "plt.plot(remp_readership_articles)\n",
    "plt.plot(exponea_readership_articles)\n",
    "vals = ax.get_yticks()\n",
    "ax.set_yticklabels([str(x*100) + ' %' for x in vals])\n",
    "ax.set_xticks(range(0,12))\n",
    "ax.set_xticklabels(pd.Series([(str(val) if val != 11 else '10+')  \n",
    "                              for val in range(1,12)]), fontsize=11)\n",
    "ax.legend(('REMP', 'Exponea'))\n",
    "plt.xlabel(\"Articles in last 30 days\")\n",
    "plt.ylabel(\"% Visitors\")\n",
    "plt.title('Readership levels')\n",
    "plt.show()"
   ]
  },
  {
   "cell_type": "markdown",
   "metadata": {},
   "source": [
    "The data for articles only seem to follow the same trend as for all pageviews"
   ]
  },
  {
   "cell_type": "markdown",
   "metadata": {},
   "source": [
    "As a last part of this comparison we're going to look into purchases in commerce data and in the mysql DB"
   ]
  },
  {
   "cell_type": "code",
   "execution_count": 61,
   "metadata": {
    "collapsed": true
   },
   "outputs": [],
   "source": [
    "mysql_connection_string = 'mysql://root@localhost:3306'"
   ]
  },
  {
   "cell_type": "code",
   "execution_count": 62,
   "metadata": {
    "collapsed": false
   },
   "outputs": [
    {
     "name": "stderr",
     "output_type": "stream",
     "text": [
      "/usr/local/lib/python3.6/site-packages/sqlalchemy/dialects/mysql/base.py:1543: Warning: (1287, \"'@@tx_isolation' is deprecated and will be removed in a future release. Please use '@@transaction_isolation' instead\")\n",
      "  cursor.execute('SELECT @@tx_isolation')\n"
     ]
    }
   ],
   "source": [
    "def create_connection(autocommit=True):\n",
    "    engine = sqlalchemy \\\n",
    "        .create_engine(\n",
    "            mysql_connection_string\n",
    "        )\n",
    "\n",
    "    connection = engine \\\n",
    "        .connect() \\\n",
    "        .execution_options(autocommit=True)\n",
    "\n",
    "    return engine, connection\n",
    "\n",
    "\n",
    "engine, mysql = create_connection()"
   ]
  },
  {
   "cell_type": "markdown",
   "metadata": {},
   "source": [
    "NOTE: remp_20180122073050 is my local name for the DB, in order to run this select you need to use a different name (also a different connection string)"
   ]
  },
  {
   "cell_type": "code",
   "execution_count": 63,
   "metadata": {
    "collapsed": false
   },
   "outputs": [
    {
     "data": {
      "text/html": [
       "<div>\n",
       "<table border=\"1\" class=\"dataframe\">\n",
       "  <thead>\n",
       "    <tr style=\"text-align: right;\">\n",
       "      <th></th>\n",
       "      <th>user_id</th>\n",
       "      <th>payment_id</th>\n",
       "      <th>purchase_date</th>\n",
       "    </tr>\n",
       "  </thead>\n",
       "  <tbody>\n",
       "    <tr>\n",
       "      <th>0</th>\n",
       "      <td>78704</td>\n",
       "      <td>468227</td>\n",
       "      <td>2017-12-20</td>\n",
       "    </tr>\n",
       "    <tr>\n",
       "      <th>1</th>\n",
       "      <td>9238</td>\n",
       "      <td>468229</td>\n",
       "      <td>2017-12-20</td>\n",
       "    </tr>\n",
       "    <tr>\n",
       "      <th>2</th>\n",
       "      <td>25600</td>\n",
       "      <td>468230</td>\n",
       "      <td>2017-12-20</td>\n",
       "    </tr>\n",
       "    <tr>\n",
       "      <th>3</th>\n",
       "      <td>9238</td>\n",
       "      <td>468231</td>\n",
       "      <td>2017-12-20</td>\n",
       "    </tr>\n",
       "    <tr>\n",
       "      <th>4</th>\n",
       "      <td>150290</td>\n",
       "      <td>468233</td>\n",
       "      <td>2017-12-20</td>\n",
       "    </tr>\n",
       "  </tbody>\n",
       "</table>\n",
       "</div>"
      ],
      "text/plain": [
       "   user_id  payment_id purchase_date\n",
       "0    78704      468227    2017-12-20\n",
       "1     9238      468229    2017-12-20\n",
       "2    25600      468230    2017-12-20\n",
       "3     9238      468231    2017-12-20\n",
       "4   150290      468233    2017-12-20"
      ]
     },
     "execution_count": 63,
     "metadata": {},
     "output_type": "execute_result"
    }
   ],
   "source": [
    "query_string = sqlalchemy.sql.text('''\n",
    "                                    SELECT\n",
    "                                        user_id,\n",
    "                                        id as payment_id,\n",
    "                                        DATE(created_at) AS purchase_date\n",
    "                                    FROM\n",
    "                                        remp_20180122073050.payments\n",
    "                                    WHERE\n",
    "                                        DATE(created_at) >= STR_TO_DATE(:min_date, '%Y-%m-%d')\n",
    "                                        AND DATE(created_at) <= STR_TO_DATE(:max_date, '%Y-%m-%d')\n",
    "                                        AND status = 'paid'\n",
    "                                        ''')\n",
    "query = mysql.execute(query_string, \n",
    "                      min_date=str(last_30_days[-1]), \n",
    "                      max_date=str(last_30_days[0]))\n",
    "payments = pd.DataFrame(query.fetchall())\n",
    "payments.columns = query.keys()\n",
    "payments.head()"
   ]
  },
  {
   "cell_type": "code",
   "execution_count": 64,
   "metadata": {
    "collapsed": false
   },
   "outputs": [],
   "source": [
    "users_payments = payments['user_id'].astype(str).unique()\n",
    "users_commerce_purchase = commerce.loc[\n",
    "    (commerce['date'].isin([x.isoformat() for x in last_30_days])) &\n",
    "    (commerce['step'] == 'purchase'), 'user_id'].astype(str).unique()"
   ]
  },
  {
   "cell_type": "markdown",
   "metadata": {},
   "source": [
    "% Users that reached the purchase step and their id appeared in payments table out of all people that reached the purchase step, both payments and commerce datasets filtered for past 30 days"
   ]
  },
  {
   "cell_type": "code",
   "execution_count": 72,
   "metadata": {
    "collapsed": false
   },
   "outputs": [
    {
     "data": {
      "text/plain": [
       "0.9961843711843712"
      ]
     },
     "execution_count": 72,
     "metadata": {},
     "output_type": "execute_result"
    }
   ],
   "source": [
    "len([user_id for user_id in users_commerce_purchase if user_id in users_payments]) / len(users_commerce_purchase)"
   ]
  },
  {
   "cell_type": "markdown",
   "metadata": {},
   "source": [
    "% Users present in payments that reached the purchase step out of all people that reached the purchase step, both payments and commerce datasets filtered for past 30 days"
   ]
  },
  {
   "cell_type": "code",
   "execution_count": 73,
   "metadata": {
    "collapsed": false
   },
   "outputs": [
    {
     "data": {
      "text/plain": [
       "0.9567575491058341"
      ]
     },
     "execution_count": 73,
     "metadata": {},
     "output_type": "execute_result"
    }
   ],
   "source": [
    "len([user_id for user_id in users_payments if user_id in users_commerce_purchase]) / len(users_payments)"
   ]
  },
  {
   "cell_type": "code",
   "execution_count": null,
   "metadata": {
    "collapsed": true
   },
   "outputs": [],
   "source": []
  }
 ],
 "metadata": {
  "kernelspec": {
   "display_name": "Python 3",
   "language": "python",
   "name": "python3"
  }
 },
 "nbformat": 4,
 "nbformat_minor": 2
}
