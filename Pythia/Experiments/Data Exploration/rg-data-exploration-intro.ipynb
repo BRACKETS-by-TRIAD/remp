{
 "cells": [
  {
   "cell_type": "code",
   "execution_count": 141,
   "metadata": {
    "collapsed": false,
    "deletable": true,
    "editable": true
   },
   "outputs": [],
   "source": [
    "%reload_ext autoreload \n",
    "%autoreload 2\n",
    "\n",
    "import pandas as pd\n",
    "import numpy as np\n",
    "import re\n",
    "import os\n",
    "import sys\n",
    "import time\n",
    "import sqlalchemy\n",
    "import matplotlib.pyplot as plt\n",
    "import numpy as np\n",
    "sys.path.append(\"../../\")\n",
    "from typing import List, Dict\n",
    "from os.path import join, dirname\n",
    "from pydrive.auth import GoogleAuth\n",
    "from datetime import datetime\n",
    "from utils import gdrive_downloader"
   ]
  },
  {
   "cell_type": "code",
   "execution_count": 2,
   "metadata": {
    "collapsed": false
   },
   "outputs": [
    {
     "name": "stdout",
     "output_type": "stream",
     "text": [
      "Your browser has been opened to visit:\n",
      "\n",
      "    https://accounts.google.com/o/oauth2/auth?client_id=17797463459-h3beca6cno86q9eu3of312ki2g8dv7f5.apps.googleusercontent.com&redirect_uri=http%3A%2F%2Flocalhost%3A8080%2F&scope=https%3A%2F%2Fwww.googleapis.com%2Fauth%2Fdrive&access_type=offline&response_type=code\n",
      "\n",
      "Authentication successful.\n"
     ]
    }
   ],
   "source": [
    "GoogleAuth.DEFAULT_SETTINGS['client_config_file'] = '../../utils/client_secrets.json'\n",
    "drive = gdrive_downloader.gdrive_authenticate()"
   ]
  },
  {
   "cell_type": "code",
   "execution_count": 3,
   "metadata": {
    "collapsed": false
   },
   "outputs": [
    {
     "name": "stdout",
     "output_type": "stream",
     "text": [
      "pageviews\n",
      "0.0\n",
      "0.08888888888888889\n",
      "0.17777777777777778\n",
      "0.26666666666666666\n",
      "0.35555555555555557\n",
      "0.4444444444444444\n",
      "0.5333333333333333\n",
      "0.6222222222222222\n",
      "0.7111111111111111\n",
      "0.8\n",
      "0.8888888888888888\n",
      "0.9777777777777777\n",
      "events\n",
      "0.0\n",
      "0.10869565217391304\n",
      "0.21739130434782608\n",
      "0.32608695652173914\n",
      "0.43478260869565216\n",
      "0.5434782608695652\n",
      "0.6521739130434783\n",
      "0.7608695652173914\n",
      "0.8695652173913043\n",
      "0.9782608695652174\n",
      "commerce\n",
      "0.0\n",
      "0.10869565217391304\n",
      "0.21739130434782608\n",
      "0.32608695652173914\n",
      "0.43478260869565216\n",
      "0.5434782608695652\n",
      "0.6521739130434783\n",
      "0.7608695652173914\n",
      "0.8695652173913043\n",
      "0.9782608695652174\n"
     ]
    },
    {
     "data": {
      "text/plain": [
       "[{'pageviews': 14245014}, {'events': 4827199}, {'commerce': 67006}]"
      ]
     },
     "execution_count": 3,
     "metadata": {},
     "output_type": "execute_result"
    }
   ],
   "source": [
    "df_dict = gdrive_downloader.download_data(drive)\n",
    "[{key: len(value)} for key, value in df_dict.items()]"
   ]
  },
  {
   "cell_type": "code",
   "execution_count": 12,
   "metadata": {
    "collapsed": true
   },
   "outputs": [],
   "source": [
    "pageviews, events, commerce = [df for df in df_dict.values()]"
   ]
  },
  {
   "cell_type": "markdown",
   "metadata": {},
   "source": [
    "Reformat pageviews dataframe"
   ]
  },
  {
   "cell_type": "code",
   "execution_count": 13,
   "metadata": {
    "collapsed": false
   },
   "outputs": [
    {
     "data": {
      "text/html": [
       "<div>\n",
       "<table border=\"1\" class=\"dataframe\">\n",
       "  <thead>\n",
       "    <tr style=\"text-align: right;\">\n",
       "      <th></th>\n",
       "      <th>is_article</th>\n",
       "      <th>action</th>\n",
       "      <th>article_id</th>\n",
       "      <th>category</th>\n",
       "      <th>host</th>\n",
       "      <th>name</th>\n",
       "      <th>referer</th>\n",
       "      <th>remp_session_id</th>\n",
       "      <th>signed_in</th>\n",
       "      <th>social</th>\n",
       "      <th>...</th>\n",
       "      <th>title_variant</th>\n",
       "      <th>token</th>\n",
       "      <th>url</th>\n",
       "      <th>user_agent</th>\n",
       "      <th>user_id</th>\n",
       "      <th>utm_campaign</th>\n",
       "      <th>utm_content</th>\n",
       "      <th>utm_medium</th>\n",
       "      <th>utm_source</th>\n",
       "      <th>date</th>\n",
       "    </tr>\n",
       "  </thead>\n",
       "  <tbody>\n",
       "    <tr>\n",
       "      <th>0</th>\n",
       "      <td>True</td>\n",
       "      <td>load</td>\n",
       "      <td>6734.0</td>\n",
       "      <td>nezaradene</td>\n",
       "      <td>npress-influxdb-n2.ewhs.bntb.net</td>\n",
       "      <td>pageviews</td>\n",
       "      <td>NaN</td>\n",
       "      <td>6b60d544-53b4-4524-ad7a-06ce791ffa3b</td>\n",
       "      <td>0</td>\n",
       "      <td></td>\n",
       "      <td>...</td>\n",
       "      <td>A</td>\n",
       "      <td>1a8feb16-3e30-4f9b-bf74-20037ea8505a</td>\n",
       "      <td>https://dennikn.sk/6734/biznis-s-titulmi-kto-p...</td>\n",
       "      <td>Mozilla/5.0 (X11; Linux x86_64) AppleWebKit/53...</td>\n",
       "      <td>2dfb3791-a51c-4c7a-819d-f7a94a29c015</td>\n",
       "      <td></td>\n",
       "      <td></td>\n",
       "      <td></td>\n",
       "      <td></td>\n",
       "      <td>2018-02-03</td>\n",
       "    </tr>\n",
       "    <tr>\n",
       "      <th>1</th>\n",
       "      <td>True</td>\n",
       "      <td>load</td>\n",
       "      <td>165977.0</td>\n",
       "      <td>veda</td>\n",
       "      <td>npress-influxdb-n2.ewhs.bntb.net</td>\n",
       "      <td>pageviews</td>\n",
       "      <td>NaN</td>\n",
       "      <td>6b60d544-53b4-4524-ad7a-06ce791ffa3b</td>\n",
       "      <td>0</td>\n",
       "      <td></td>\n",
       "      <td>...</td>\n",
       "      <td>A</td>\n",
       "      <td>1a8feb16-3e30-4f9b-bf74-20037ea8505a</td>\n",
       "      <td>https://dennikn.sk/165977/zivocisne-druhy-maso...</td>\n",
       "      <td>Mozilla/5.0 (X11; Linux x86_64) AppleWebKit/53...</td>\n",
       "      <td>2dfb3791-a51c-4c7a-819d-f7a94a29c015</td>\n",
       "      <td></td>\n",
       "      <td></td>\n",
       "      <td></td>\n",
       "      <td></td>\n",
       "      <td>2018-02-03</td>\n",
       "    </tr>\n",
       "    <tr>\n",
       "      <th>2</th>\n",
       "      <td>True</td>\n",
       "      <td>load</td>\n",
       "      <td>594122.0</td>\n",
       "      <td>komentare</td>\n",
       "      <td>npress-influxdb-n2.ewhs.bntb.net</td>\n",
       "      <td>pageviews</td>\n",
       "      <td>NaN</td>\n",
       "      <td>6b60d544-53b4-4524-ad7a-06ce791ffa3b</td>\n",
       "      <td>0</td>\n",
       "      <td></td>\n",
       "      <td>...</td>\n",
       "      <td>A</td>\n",
       "      <td>1a8feb16-3e30-4f9b-bf74-20037ea8505a</td>\n",
       "      <td>https://dennikn.sk/594122/mohamedov-zivot/</td>\n",
       "      <td>Mozilla/5.0 (X11; Linux x86_64) AppleWebKit/53...</td>\n",
       "      <td>2dfb3791-a51c-4c7a-819d-f7a94a29c015</td>\n",
       "      <td></td>\n",
       "      <td></td>\n",
       "      <td></td>\n",
       "      <td></td>\n",
       "      <td>2018-02-03</td>\n",
       "    </tr>\n",
       "    <tr>\n",
       "      <th>3</th>\n",
       "      <td>True</td>\n",
       "      <td>load</td>\n",
       "      <td>808523.0</td>\n",
       "      <td>hlavna</td>\n",
       "      <td>npress-influxdb-n2.ewhs.bntb.net</td>\n",
       "      <td>pageviews</td>\n",
       "      <td>NaN</td>\n",
       "      <td>6b60d544-53b4-4524-ad7a-06ce791ffa3b</td>\n",
       "      <td>0</td>\n",
       "      <td></td>\n",
       "      <td>...</td>\n",
       "      <td>A</td>\n",
       "      <td>1a8feb16-3e30-4f9b-bf74-20037ea8505a</td>\n",
       "      <td>https://dennikn.sk/minuta/808523/</td>\n",
       "      <td>Mozilla/5.0 (X11; Linux x86_64) AppleWebKit/53...</td>\n",
       "      <td>2dfb3791-a51c-4c7a-819d-f7a94a29c015</td>\n",
       "      <td></td>\n",
       "      <td></td>\n",
       "      <td></td>\n",
       "      <td></td>\n",
       "      <td>2018-02-03</td>\n",
       "    </tr>\n",
       "    <tr>\n",
       "      <th>4</th>\n",
       "      <td>True</td>\n",
       "      <td>load</td>\n",
       "      <td>859254.0</td>\n",
       "      <td>hlavna</td>\n",
       "      <td>npress-influxdb-n2.ewhs.bntb.net</td>\n",
       "      <td>pageviews</td>\n",
       "      <td>NaN</td>\n",
       "      <td>6b60d544-53b4-4524-ad7a-06ce791ffa3b</td>\n",
       "      <td>0</td>\n",
       "      <td></td>\n",
       "      <td>...</td>\n",
       "      <td>A</td>\n",
       "      <td>1a8feb16-3e30-4f9b-bf74-20037ea8505a</td>\n",
       "      <td>https://dennikn.sk/minuta/859254/</td>\n",
       "      <td>Mozilla/5.0 (X11; Linux x86_64) AppleWebKit/53...</td>\n",
       "      <td>2dfb3791-a51c-4c7a-819d-f7a94a29c015</td>\n",
       "      <td></td>\n",
       "      <td></td>\n",
       "      <td></td>\n",
       "      <td></td>\n",
       "      <td>2018-02-03</td>\n",
       "    </tr>\n",
       "  </tbody>\n",
       "</table>\n",
       "<p>5 rows × 23 columns</p>\n",
       "</div>"
      ],
      "text/plain": [
       "  is_article action article_id    category                              host  \\\n",
       "0       True   load     6734.0  nezaradene  npress-influxdb-n2.ewhs.bntb.net   \n",
       "1       True   load   165977.0        veda  npress-influxdb-n2.ewhs.bntb.net   \n",
       "2       True   load   594122.0   komentare  npress-influxdb-n2.ewhs.bntb.net   \n",
       "3       True   load   808523.0      hlavna  npress-influxdb-n2.ewhs.bntb.net   \n",
       "4       True   load   859254.0      hlavna  npress-influxdb-n2.ewhs.bntb.net   \n",
       "\n",
       "        name referer                       remp_session_id signed_in social  \\\n",
       "0  pageviews     NaN  6b60d544-53b4-4524-ad7a-06ce791ffa3b         0          \n",
       "1  pageviews     NaN  6b60d544-53b4-4524-ad7a-06ce791ffa3b         0          \n",
       "2  pageviews     NaN  6b60d544-53b4-4524-ad7a-06ce791ffa3b         0          \n",
       "3  pageviews     NaN  6b60d544-53b4-4524-ad7a-06ce791ffa3b         0          \n",
       "4  pageviews     NaN  6b60d544-53b4-4524-ad7a-06ce791ffa3b         0          \n",
       "\n",
       "      ...     title_variant                                 token  \\\n",
       "0     ...                 A  1a8feb16-3e30-4f9b-bf74-20037ea8505a   \n",
       "1     ...                 A  1a8feb16-3e30-4f9b-bf74-20037ea8505a   \n",
       "2     ...                 A  1a8feb16-3e30-4f9b-bf74-20037ea8505a   \n",
       "3     ...                 A  1a8feb16-3e30-4f9b-bf74-20037ea8505a   \n",
       "4     ...                 A  1a8feb16-3e30-4f9b-bf74-20037ea8505a   \n",
       "\n",
       "                                                 url  \\\n",
       "0  https://dennikn.sk/6734/biznis-s-titulmi-kto-p...   \n",
       "1  https://dennikn.sk/165977/zivocisne-druhy-maso...   \n",
       "2         https://dennikn.sk/594122/mohamedov-zivot/   \n",
       "3                  https://dennikn.sk/minuta/808523/   \n",
       "4                  https://dennikn.sk/minuta/859254/   \n",
       "\n",
       "                                          user_agent  \\\n",
       "0  Mozilla/5.0 (X11; Linux x86_64) AppleWebKit/53...   \n",
       "1  Mozilla/5.0 (X11; Linux x86_64) AppleWebKit/53...   \n",
       "2  Mozilla/5.0 (X11; Linux x86_64) AppleWebKit/53...   \n",
       "3  Mozilla/5.0 (X11; Linux x86_64) AppleWebKit/53...   \n",
       "4  Mozilla/5.0 (X11; Linux x86_64) AppleWebKit/53...   \n",
       "\n",
       "                                user_id utm_campaign utm_content utm_medium  \\\n",
       "0  2dfb3791-a51c-4c7a-819d-f7a94a29c015                                       \n",
       "1  2dfb3791-a51c-4c7a-819d-f7a94a29c015                                       \n",
       "2  2dfb3791-a51c-4c7a-819d-f7a94a29c015                                       \n",
       "3  2dfb3791-a51c-4c7a-819d-f7a94a29c015                                       \n",
       "4  2dfb3791-a51c-4c7a-819d-f7a94a29c015                                       \n",
       "\n",
       "  utm_source        date  \n",
       "0             2018-02-03  \n",
       "1             2018-02-03  \n",
       "2             2018-02-03  \n",
       "3             2018-02-03  \n",
       "4             2018-02-03  \n",
       "\n",
       "[5 rows x 23 columns]"
      ]
     },
     "execution_count": 13,
     "metadata": {},
     "output_type": "execute_result"
    }
   ],
   "source": [
    "pageviews.rename(columns={'_article': 'is_article'}, inplace=True)\n",
    "pageviews['article_id'].fillna('', inplace=True)\n",
    "pageviews['is_article'] = pageviews['is_article'].astype(bool)\n",
    "pageviews['article_id'] = pageviews['article_id'].astype(str)\n",
    "pageviews['time'] = pd.to_datetime(pageviews['time'])\n",
    "pageviews['date'] = pageviews['time'].dt.date\n",
    "pageviews['remp_session_id'].fillna('', inplace = True)\n",
    "pageviews['signed_in'].fillna('', inplace = True)\n",
    "pageviews['social'].fillna('', inplace = True)\n",
    "pageviews['tags'].fillna('', inplace = True)\n",
    "pageviews['title'].fillna('', inplace = True)\n",
    "pageviews['user_agent'].fillna('', inplace = True)\n",
    "[pageviews[column].fillna('', inplace = True) for column in pageviews.columns if re.search('utm_', column) is not None]\n",
    "pageviews.head()"
   ]
  },
  {
   "cell_type": "markdown",
   "metadata": {},
   "source": [
    "Reformat commerce dataframe"
   ]
  },
  {
   "cell_type": "code",
   "execution_count": 43,
   "metadata": {
    "collapsed": false
   },
   "outputs": [
    {
     "data": {
      "text/html": [
       "<div>\n",
       "<table border=\"1\" class=\"dataframe\">\n",
       "  <thead>\n",
       "    <tr style=\"text-align: right;\">\n",
       "      <th></th>\n",
       "      <th>article_id</th>\n",
       "      <th>author_id</th>\n",
       "      <th>currency</th>\n",
       "      <th>funnel_id</th>\n",
       "      <th>host</th>\n",
       "      <th>name</th>\n",
       "      <th>product_ids</th>\n",
       "      <th>revenue</th>\n",
       "      <th>step</th>\n",
       "      <th>time</th>\n",
       "      <th>token</th>\n",
       "      <th>transaction_id</th>\n",
       "      <th>url</th>\n",
       "      <th>user_agent</th>\n",
       "      <th>user_id</th>\n",
       "      <th>utm_campaign</th>\n",
       "      <th>utm_content</th>\n",
       "      <th>utm_medium</th>\n",
       "      <th>utm_source</th>\n",
       "    </tr>\n",
       "  </thead>\n",
       "  <tbody>\n",
       "    <tr>\n",
       "      <th>0</th>\n",
       "      <td></td>\n",
       "      <td></td>\n",
       "      <td></td>\n",
       "      <td>28</td>\n",
       "      <td>npress-influxdb-n2.ewhs.bntb.net</td>\n",
       "      <td>commerce</td>\n",
       "      <td></td>\n",
       "      <td>0.00</td>\n",
       "      <td>checkout</td>\n",
       "      <td>1517616636000000000</td>\n",
       "      <td>1a8feb16-3e30-4f9b-bf74-20037ea8505a</td>\n",
       "      <td></td>\n",
       "      <td></td>\n",
       "      <td></td>\n",
       "      <td>23763</td>\n",
       "      <td></td>\n",
       "      <td></td>\n",
       "      <td></td>\n",
       "      <td></td>\n",
       "    </tr>\n",
       "    <tr>\n",
       "      <th>1</th>\n",
       "      <td></td>\n",
       "      <td></td>\n",
       "      <td></td>\n",
       "      <td>shop</td>\n",
       "      <td>npress-influxdb-n2.ewhs.bntb.net</td>\n",
       "      <td>commerce</td>\n",
       "      <td></td>\n",
       "      <td>0.00</td>\n",
       "      <td>checkout</td>\n",
       "      <td>1517616800000000000</td>\n",
       "      <td>1a8feb16-3e30-4f9b-bf74-20037ea8505a</td>\n",
       "      <td></td>\n",
       "      <td></td>\n",
       "      <td></td>\n",
       "      <td>141551</td>\n",
       "      <td></td>\n",
       "      <td></td>\n",
       "      <td></td>\n",
       "      <td></td>\n",
       "    </tr>\n",
       "    <tr>\n",
       "      <th>2</th>\n",
       "      <td></td>\n",
       "      <td></td>\n",
       "      <td>EUR</td>\n",
       "      <td>shop</td>\n",
       "      <td>npress-influxdb-n2.ewhs.bntb.net</td>\n",
       "      <td>commerce</td>\n",
       "      <td>38,43,47</td>\n",
       "      <td>39.74</td>\n",
       "      <td>payment</td>\n",
       "      <td>1517616865000000000</td>\n",
       "      <td>1a8feb16-3e30-4f9b-bf74-20037ea8505a</td>\n",
       "      <td>8577694016</td>\n",
       "      <td>https://obchod.dennikn.sk/</td>\n",
       "      <td>Mozilla/5.0 (Windows NT 5.1; rv:52.0) Gecko/20...</td>\n",
       "      <td>141551</td>\n",
       "      <td></td>\n",
       "      <td></td>\n",
       "      <td></td>\n",
       "      <td></td>\n",
       "    </tr>\n",
       "    <tr>\n",
       "      <th>3</th>\n",
       "      <td></td>\n",
       "      <td></td>\n",
       "      <td>EUR</td>\n",
       "      <td></td>\n",
       "      <td>npress-influxdb-n2.ewhs.bntb.net</td>\n",
       "      <td>commerce</td>\n",
       "      <td>84</td>\n",
       "      <td>4.99</td>\n",
       "      <td>purchase</td>\n",
       "      <td>1517616905000000000</td>\n",
       "      <td>1a8feb16-3e30-4f9b-bf74-20037ea8505a</td>\n",
       "      <td>6630687496</td>\n",
       "      <td></td>\n",
       "      <td></td>\n",
       "      <td>16143</td>\n",
       "      <td></td>\n",
       "      <td></td>\n",
       "      <td></td>\n",
       "      <td></td>\n",
       "    </tr>\n",
       "    <tr>\n",
       "      <th>4</th>\n",
       "      <td></td>\n",
       "      <td></td>\n",
       "      <td></td>\n",
       "      <td>19</td>\n",
       "      <td>npress-influxdb-n2.ewhs.bntb.net</td>\n",
       "      <td>commerce</td>\n",
       "      <td></td>\n",
       "      <td>0.00</td>\n",
       "      <td>checkout</td>\n",
       "      <td>1517616991000000000</td>\n",
       "      <td>1a8feb16-3e30-4f9b-bf74-20037ea8505a</td>\n",
       "      <td></td>\n",
       "      <td></td>\n",
       "      <td></td>\n",
       "      <td>133214</td>\n",
       "      <td></td>\n",
       "      <td></td>\n",
       "      <td></td>\n",
       "      <td></td>\n",
       "    </tr>\n",
       "  </tbody>\n",
       "</table>\n",
       "</div>"
      ],
      "text/plain": [
       "  article_id author_id currency funnel_id                              host  \\\n",
       "0                                      28  npress-influxdb-n2.ewhs.bntb.net   \n",
       "1                                    shop  npress-influxdb-n2.ewhs.bntb.net   \n",
       "2                           EUR      shop  npress-influxdb-n2.ewhs.bntb.net   \n",
       "3                           EUR            npress-influxdb-n2.ewhs.bntb.net   \n",
       "4                                      19  npress-influxdb-n2.ewhs.bntb.net   \n",
       "\n",
       "       name product_ids  revenue      step                 time  \\\n",
       "0  commerce                 0.00  checkout  1517616636000000000   \n",
       "1  commerce                 0.00  checkout  1517616800000000000   \n",
       "2  commerce    38,43,47    39.74   payment  1517616865000000000   \n",
       "3  commerce          84     4.99  purchase  1517616905000000000   \n",
       "4  commerce                 0.00  checkout  1517616991000000000   \n",
       "\n",
       "                                  token transaction_id  \\\n",
       "0  1a8feb16-3e30-4f9b-bf74-20037ea8505a                  \n",
       "1  1a8feb16-3e30-4f9b-bf74-20037ea8505a                  \n",
       "2  1a8feb16-3e30-4f9b-bf74-20037ea8505a     8577694016   \n",
       "3  1a8feb16-3e30-4f9b-bf74-20037ea8505a     6630687496   \n",
       "4  1a8feb16-3e30-4f9b-bf74-20037ea8505a                  \n",
       "\n",
       "                          url  \\\n",
       "0                               \n",
       "1                               \n",
       "2  https://obchod.dennikn.sk/   \n",
       "3                               \n",
       "4                               \n",
       "\n",
       "                                          user_agent user_id utm_campaign  \\\n",
       "0                                                      23763                \n",
       "1                                                     141551                \n",
       "2  Mozilla/5.0 (Windows NT 5.1; rv:52.0) Gecko/20...  141551                \n",
       "3                                                      16143                \n",
       "4                                                     133214                \n",
       "\n",
       "  utm_content utm_medium utm_source  \n",
       "0                                    \n",
       "1                                    \n",
       "2                                    \n",
       "3                                    \n",
       "4                                    "
      ]
     },
     "execution_count": 43,
     "metadata": {},
     "output_type": "execute_result"
    }
   ],
   "source": [
    "commerce.head()"
   ]
  },
  {
   "cell_type": "code",
   "execution_count": 17,
   "metadata": {
    "collapsed": true
   },
   "outputs": [],
   "source": [
    "commerce_test = df_dict['commerce']"
   ]
  },
  {
   "cell_type": "code",
   "execution_count": 38,
   "metadata": {
    "collapsed": false
   },
   "outputs": [
    {
     "name": "stdout",
     "output_type": "stream",
     "text": [
      "Index(['article_id', 'author_id', 'currency', 'funnel_id', 'host', 'name',\n",
      "       'product_ids', 'revenue', 'step', 'time', 'token', 'transaction_id',\n",
      "       'url', 'user_agent', 'user_id', 'utm_campaign', 'utm_content',\n",
      "       'utm_medium', 'utm_source'],\n",
      "      dtype='object')\n"
     ]
    },
    {
     "data": {
      "text/html": [
       "<div>\n",
       "<table border=\"1\" class=\"dataframe\">\n",
       "  <thead>\n",
       "    <tr style=\"text-align: right;\">\n",
       "      <th></th>\n",
       "      <th>article_id</th>\n",
       "      <th>author_id</th>\n",
       "      <th>currency</th>\n",
       "      <th>funnel_id</th>\n",
       "      <th>host</th>\n",
       "      <th>name</th>\n",
       "      <th>product_ids</th>\n",
       "      <th>revenue</th>\n",
       "      <th>step</th>\n",
       "      <th>time</th>\n",
       "      <th>token</th>\n",
       "      <th>transaction_id</th>\n",
       "      <th>url</th>\n",
       "      <th>user_agent</th>\n",
       "      <th>user_id</th>\n",
       "      <th>utm_campaign</th>\n",
       "      <th>utm_content</th>\n",
       "      <th>utm_medium</th>\n",
       "      <th>utm_source</th>\n",
       "      <th>date</th>\n",
       "    </tr>\n",
       "  </thead>\n",
       "  <tbody>\n",
       "    <tr>\n",
       "      <th>0</th>\n",
       "      <td></td>\n",
       "      <td></td>\n",
       "      <td></td>\n",
       "      <td>28</td>\n",
       "      <td>npress-influxdb-n2.ewhs.bntb.net</td>\n",
       "      <td>commerce</td>\n",
       "      <td></td>\n",
       "      <td>0.00</td>\n",
       "      <td>checkout</td>\n",
       "      <td>2018-02-03 00:10:36</td>\n",
       "      <td>1a8feb16-3e30-4f9b-bf74-20037ea8505a</td>\n",
       "      <td></td>\n",
       "      <td></td>\n",
       "      <td></td>\n",
       "      <td>23763</td>\n",
       "      <td></td>\n",
       "      <td></td>\n",
       "      <td></td>\n",
       "      <td></td>\n",
       "      <td>2018-02-03</td>\n",
       "    </tr>\n",
       "    <tr>\n",
       "      <th>1</th>\n",
       "      <td></td>\n",
       "      <td></td>\n",
       "      <td></td>\n",
       "      <td>shop</td>\n",
       "      <td>npress-influxdb-n2.ewhs.bntb.net</td>\n",
       "      <td>commerce</td>\n",
       "      <td></td>\n",
       "      <td>0.00</td>\n",
       "      <td>checkout</td>\n",
       "      <td>2018-02-03 00:13:20</td>\n",
       "      <td>1a8feb16-3e30-4f9b-bf74-20037ea8505a</td>\n",
       "      <td></td>\n",
       "      <td></td>\n",
       "      <td></td>\n",
       "      <td>141551</td>\n",
       "      <td></td>\n",
       "      <td></td>\n",
       "      <td></td>\n",
       "      <td></td>\n",
       "      <td>2018-02-03</td>\n",
       "    </tr>\n",
       "    <tr>\n",
       "      <th>2</th>\n",
       "      <td></td>\n",
       "      <td></td>\n",
       "      <td>EUR</td>\n",
       "      <td>shop</td>\n",
       "      <td>npress-influxdb-n2.ewhs.bntb.net</td>\n",
       "      <td>commerce</td>\n",
       "      <td>38,43,47</td>\n",
       "      <td>39.74</td>\n",
       "      <td>payment</td>\n",
       "      <td>2018-02-03 00:14:25</td>\n",
       "      <td>1a8feb16-3e30-4f9b-bf74-20037ea8505a</td>\n",
       "      <td>8577694016</td>\n",
       "      <td>https://obchod.dennikn.sk/</td>\n",
       "      <td>Mozilla/5.0 (Windows NT 5.1; rv:52.0) Gecko/20...</td>\n",
       "      <td>141551</td>\n",
       "      <td></td>\n",
       "      <td></td>\n",
       "      <td></td>\n",
       "      <td></td>\n",
       "      <td>2018-02-03</td>\n",
       "    </tr>\n",
       "    <tr>\n",
       "      <th>3</th>\n",
       "      <td></td>\n",
       "      <td></td>\n",
       "      <td>EUR</td>\n",
       "      <td></td>\n",
       "      <td>npress-influxdb-n2.ewhs.bntb.net</td>\n",
       "      <td>commerce</td>\n",
       "      <td>84</td>\n",
       "      <td>4.99</td>\n",
       "      <td>purchase</td>\n",
       "      <td>2018-02-03 00:15:05</td>\n",
       "      <td>1a8feb16-3e30-4f9b-bf74-20037ea8505a</td>\n",
       "      <td>6630687496</td>\n",
       "      <td></td>\n",
       "      <td></td>\n",
       "      <td>16143</td>\n",
       "      <td></td>\n",
       "      <td></td>\n",
       "      <td></td>\n",
       "      <td></td>\n",
       "      <td>2018-02-03</td>\n",
       "    </tr>\n",
       "    <tr>\n",
       "      <th>4</th>\n",
       "      <td></td>\n",
       "      <td></td>\n",
       "      <td></td>\n",
       "      <td>19</td>\n",
       "      <td>npress-influxdb-n2.ewhs.bntb.net</td>\n",
       "      <td>commerce</td>\n",
       "      <td></td>\n",
       "      <td>0.00</td>\n",
       "      <td>checkout</td>\n",
       "      <td>2018-02-03 00:16:31</td>\n",
       "      <td>1a8feb16-3e30-4f9b-bf74-20037ea8505a</td>\n",
       "      <td></td>\n",
       "      <td></td>\n",
       "      <td></td>\n",
       "      <td>133214</td>\n",
       "      <td></td>\n",
       "      <td></td>\n",
       "      <td></td>\n",
       "      <td></td>\n",
       "      <td>2018-02-03</td>\n",
       "    </tr>\n",
       "  </tbody>\n",
       "</table>\n",
       "</div>"
      ],
      "text/plain": [
       "  article_id author_id currency funnel_id                              host  \\\n",
       "0                                      28  npress-influxdb-n2.ewhs.bntb.net   \n",
       "1                                    shop  npress-influxdb-n2.ewhs.bntb.net   \n",
       "2                           EUR      shop  npress-influxdb-n2.ewhs.bntb.net   \n",
       "3                           EUR            npress-influxdb-n2.ewhs.bntb.net   \n",
       "4                                      19  npress-influxdb-n2.ewhs.bntb.net   \n",
       "\n",
       "       name product_ids  revenue      step                 time  \\\n",
       "0  commerce                 0.00  checkout  2018-02-03 00:10:36   \n",
       "1  commerce                 0.00  checkout  2018-02-03 00:13:20   \n",
       "2  commerce    38,43,47    39.74   payment  2018-02-03 00:14:25   \n",
       "3  commerce          84     4.99  purchase  2018-02-03 00:15:05   \n",
       "4  commerce                 0.00  checkout  2018-02-03 00:16:31   \n",
       "\n",
       "                                  token transaction_id  \\\n",
       "0  1a8feb16-3e30-4f9b-bf74-20037ea8505a                  \n",
       "1  1a8feb16-3e30-4f9b-bf74-20037ea8505a                  \n",
       "2  1a8feb16-3e30-4f9b-bf74-20037ea8505a     8577694016   \n",
       "3  1a8feb16-3e30-4f9b-bf74-20037ea8505a     6630687496   \n",
       "4  1a8feb16-3e30-4f9b-bf74-20037ea8505a                  \n",
       "\n",
       "                          url  \\\n",
       "0                               \n",
       "1                               \n",
       "2  https://obchod.dennikn.sk/   \n",
       "3                               \n",
       "4                               \n",
       "\n",
       "                                          user_agent user_id utm_campaign  \\\n",
       "0                                                      23763                \n",
       "1                                                     141551                \n",
       "2  Mozilla/5.0 (Windows NT 5.1; rv:52.0) Gecko/20...  141551                \n",
       "3                                                      16143                \n",
       "4                                                     133214                \n",
       "\n",
       "  utm_content utm_medium utm_source        date  \n",
       "0                                    2018-02-03  \n",
       "1                                    2018-02-03  \n",
       "2                                    2018-02-03  \n",
       "3                                    2018-02-03  \n",
       "4                                    2018-02-03  "
      ]
     },
     "execution_count": 38,
     "metadata": {},
     "output_type": "execute_result"
    }
   ],
   "source": [
    "print(commerce.columns)\n",
    "commerce['time'] = pd.to_datetime(commerce['time'].astype(int))\n",
    "commerce['date'] = commerce['time'].dt.date\n",
    "for column in commerce.columns:\n",
    "    if column not in ['revenue']:\n",
    "        commerce[column] = commerce[column].astype(str)\n",
    "        commerce[column] = commerce[column].str.replace('nan', '')\n",
    "    else:\n",
    "        commerce['revenue'] = commerce['revenue'].astype(float)\n",
    "        commerce['revenue'] = commerce['revenue'].fillna(0)\n",
    "commerce.head()"
   ]
  },
  {
   "cell_type": "code",
   "execution_count": 40,
   "metadata": {
    "collapsed": false
   },
   "outputs": [],
   "source": [
    "last_30_days = pd.Series(pageviews['date'].unique()).sort_values(ascending=False).tolist()[:30]"
   ]
  },
  {
   "cell_type": "markdown",
   "metadata": {},
   "source": [
    "Comparing with funnel report built in Exponea @ https://cloud.infinario.com/p/dennikn-sk/analytics/funnels/5a76c32534e299737da62ffb"
   ]
  },
  {
   "cell_type": "code",
   "execution_count": 41,
   "metadata": {
    "collapsed": false
   },
   "outputs": [
    {
     "name": "stdout",
     "output_type": "stream",
     "text": [
      "Unique visitors, last 30 days: \n",
      "REMP data collection:  984895\n",
      "Exponea: 1126722\n"
     ]
    }
   ],
   "source": [
    "print('Unique visitors, last 30 days: ')\n",
    "print('REMP data collection: ', len(pageviews.loc[pageviews['date'].isin(last_30_days), 'user_id'].unique()))\n",
    "print('Exponea: 1126722')"
   ]
  },
  {
   "cell_type": "code",
   "execution_count": 137,
   "metadata": {
    "collapsed": false
   },
   "outputs": [
    {
     "name": "stdout",
     "output_type": "stream",
     "text": [
      "Unique visitors on articles, last 30 days: \n",
      "REMP data collection:  844545\n",
      "Exponea: 519 050\n"
     ]
    }
   ],
   "source": [
    "print('Unique visitors on articles, last 30 days: ')\n",
    "print('REMP data collection: ', len(df_dict['pageviews'].loc[(pageviews['date'].isin(last_30_days)) &\n",
    "                                                             (pageviews['is_article'] == True), 'user_id'].unique()))\n",
    "print('Exponea: 519 050')"
   ]
  },
  {
   "cell_type": "code",
   "execution_count": 53,
   "metadata": {
    "collapsed": false
   },
   "outputs": [
    {
     "name": "stdout",
     "output_type": "stream",
     "text": [
      "Unique visitors in sales funnel, last 30 days: \n",
      "REMP data collection:  20290\n",
      "Exponea: 32\n"
     ]
    }
   ],
   "source": [
    "print('Unique visitors in sales funnel, last 30 days: ')\n",
    "print('REMP data collection: ', len(commerce.loc[(commerce['date'].isin([x.isoformat() for x in last_30_days])), 'user_id'].unique()))\n",
    "print('Exponea: 32')"
   ]
  },
  {
   "cell_type": "code",
   "execution_count": 59,
   "metadata": {
    "collapsed": false
   },
   "outputs": [
    {
     "name": "stdout",
     "output_type": "stream",
     "text": [
      "Unique visitors signed in, last 30 days: \n",
      "REMP data collection:  46775\n",
      "Exponea: 67001\n"
     ]
    }
   ],
   "source": [
    "print('Unique visitors signed in, last 30 days: ')\n",
    "print('REMP data collection: ', len(pageviews.loc[(pageviews['date'].isin(last_30_days)) &\n",
    "                                                  (pageviews['user_id'].str.match('^[0-9]+$')), 'user_id'].unique()))\n",
    "print('Exponea: 67001')"
   ]
  },
  {
   "cell_type": "code",
   "execution_count": 61,
   "metadata": {
    "collapsed": false
   },
   "outputs": [
    {
     "name": "stdout",
     "output_type": "stream",
     "text": [
      "Unique visitors on articles signed in, last 30 days: \n",
      "REMP data collection:  45983\n",
      "Exponea: 55558\n"
     ]
    }
   ],
   "source": [
    "print('Unique visitors on articles signed in, last 30 days: ')\n",
    "print('REMP data collection: ', len(df_dict['pageviews'].loc[(pageviews['date'].isin(last_30_days)) &\n",
    "                                                             (pageviews['is_article'] == True) &\n",
    "                                                             (pageviews['user_id'].str.match('^[0-9]+$')), 'user_id'].unique()))\n",
    "print('Exponea: 55558')"
   ]
  },
  {
   "cell_type": "code",
   "execution_count": 62,
   "metadata": {
    "collapsed": false
   },
   "outputs": [
    {
     "name": "stdout",
     "output_type": "stream",
     "text": [
      "Unique visitors in sales funnel signed in, last 30 days: \n",
      "REMP data collection:  19622\n",
      "Exponea: 28\n"
     ]
    }
   ],
   "source": [
    "print('Unique visitors in sales funnel signed in, last 30 days: ')\n",
    "print('REMP data collection: ', len(commerce.loc[(commerce['date'].isin([x.isoformat() for x in last_30_days])) &\n",
    "                                                 (commerce['user_id'].str.match('^[0-9]+$')), 'user_id'].unique()))\n",
    "print('Exponea: 28')"
   ]
  },
  {
   "cell_type": "markdown",
   "metadata": {},
   "source": [
    "Comparing with engagement reports (all pageviews) @ https://cloud.infinario.com/p/dennikn-sk/analytics/funnels/5a7700dc34e299737da63001"
   ]
  },
  {
   "cell_type": "code",
   "execution_count": 94,
   "metadata": {
    "collapsed": false
   },
   "outputs": [],
   "source": [
    "readership_level_all_remp = pd.Series(pageviews['user_id'].value_counts()).value_counts(normalize=True)\n",
    "readership_level_all_exponea = pd.Series.from_csv('readership-levels-all-pvs.csv')[2:].astype(int)\n",
    "readership_level_all_exponea = readership_level_all_exponea / readership_level_all_exponea.sum()\n",
    "readership_level_all_exponea.index = readership_level_all_exponea.index.astype(int)\n",
    "readership_level_all_exponea = readership_level_all_exponea.sort_index()"
   ]
  },
  {
   "cell_type": "markdown",
   "metadata": {},
   "source": [
    "For the sake of chart simplicity we bin all users accessing more than 10 pageviews into a 10+ category"
   ]
  },
  {
   "cell_type": "code",
   "execution_count": 136,
   "metadata": {
    "collapsed": false,
    "scrolled": false
   },
   "outputs": [
    {
     "data": {
      "text/plain": [
       "<matplotlib.figure.Figure at 0x160247710>"
      ]
     },
     "metadata": {},
     "output_type": "display_data"
    },
    {
     "data": {
      "image/png": "[encoded data removed]",
      "text/plain": [
       "<matplotlib.figure.Figure at 0x15ffd29b0>"
      ]
     },
     "metadata": {},
     "output_type": "display_data"
    }
   ],
   "source": [
    "plt.clf()\n",
    "remp_readership_all = readership_level_all_remp[:10].append(pd.Series(readership_level_all_remp[10:].sum())).reset_index(drop=True)\n",
    "# remp_readership_all.index = [str(x) for x in range(1, 11)] + ['10+']\n",
    "exponea_readership_all = readership_level_all_exponea[:10].append(pd.Series(readership_level_all_exponea[10:].sum())).reset_index(drop=True)\n",
    "fig, ax = plt.subplots(figsize=(11, 5))\n",
    "plt.plot(remp_readership_all)\n",
    "plt.plot(exponea_readership_all)\n",
    "vals = ax.get_yticks()\n",
    "ax.set_yticklabels([str(x*100) + ' %' for x in vals])\n",
    "ax.set_xticks(range(0,12))\n",
    "ax.set_xticklabels(pd.Series([(str(val) if val != 11 else '10+')  \n",
    "                              for val in range(1,12)]), fontsize=11)\n",
    "ax.legend(('REMP', 'Exponea'))\n",
    "plt.xlabel(\"Pageviews in last 30 days\")\n",
    "plt.ylabel(\"% Visitors\")\n",
    "plt.title('Engagement levels')\n",
    "plt.show()"
   ]
  },
  {
   "cell_type": "markdown",
   "metadata": {},
   "source": [
    "It seems the engagement levels are pretty close, the difference in long tail is most likely caused by Exponea counting cookies while REMP data collection collects cookies for anonymous users and customer ids for signed in users, which means the long tail is used by account sharing and / or multiple devices per paying users"
   ]
  },
  {
   "cell_type": "code",
   "execution_count": 131,
   "metadata": {
    "collapsed": true
   },
   "outputs": [],
   "source": [
    "readership_level_articles_remp = pd.Series(pageviews['user_id'].value_counts()).value_counts(normalize=True)\n",
    "readership_level_articles_exponea = pd.Series.from_csv('readership-levels-articles.csv')[2:].astype(int)\n",
    "readership_level_articles_exponea = readership_level_articles_exponea / readership_level_articles_exponea.sum()\n",
    "readership_level_articles_exponea.index = readership_level_articles_exponea.index.astype(int)\n",
    "readership_level_articles_exponea = readership_level_articles_exponea.sort_index()"
   ]
  },
  {
   "cell_type": "markdown",
   "metadata": {},
   "source": [
    "Binning again occurs for readers reading more than 10 articles within last 30 days"
   ]
  },
  {
   "cell_type": "code",
   "execution_count": 135,
   "metadata": {
    "collapsed": false
   },
   "outputs": [
    {
     "data": {
      "text/plain": [
       "<matplotlib.figure.Figure at 0x161406518>"
      ]
     },
     "metadata": {},
     "output_type": "display_data"
    },
    {
     "data": {
      "image/png": "[encoded data removed]",
      "text/plain": [
       "<matplotlib.figure.Figure at 0x160548400>"
      ]
     },
     "metadata": {},
     "output_type": "display_data"
    }
   ],
   "source": [
    "plt.clf()\n",
    "remp_readership_articles = readership_level_articles_remp[:10].append(pd.Series(readership_level_articles_remp[10:].sum())).reset_index(drop=True)\n",
    "# remp_readership_all.index = [str(x) for x in range(1, 11)] + ['10+']\n",
    "exponea_readership_articles = readership_level_articles_exponea[:10].append(pd.Series(readership_level_articles_exponea[10:].sum())).reset_index(drop=True)\n",
    "fig, ax = plt.subplots(figsize=(11, 5))\n",
    "plt.plot(remp_readership_articles)\n",
    "plt.plot(exponea_readership_articles)\n",
    "vals = ax.get_yticks()\n",
    "ax.set_yticklabels([str(x*100) + ' %' for x in vals])\n",
    "ax.set_xticks(range(0,12))\n",
    "ax.set_xticklabels(pd.Series([(str(val) if val != 11 else '10+')  \n",
    "                              for val in range(1,12)]), fontsize=11)\n",
    "ax.legend(('REMP', 'Exponea'))\n",
    "plt.xlabel(\"Articles in last 30 days\")\n",
    "plt.ylabel(\"% Visitors\")\n",
    "plt.title('Readership levels')\n",
    "plt.show()"
   ]
  },
  {
   "cell_type": "markdown",
   "metadata": {},
   "source": [
    "The data for articles only seem to follow the same trend as for all pageviews"
   ]
  },
  {
   "cell_type": "code",
   "execution_count": 138,
   "metadata": {
    "collapsed": true
   },
   "outputs": [],
   "source": [
    "mysql_connection_string = 'mysql://root@localhost:3306'"
   ]
  },
  {
   "cell_type": "code",
   "execution_count": 142,
   "metadata": {
    "collapsed": false
   },
   "outputs": [
    {
     "name": "stderr",
     "output_type": "stream",
     "text": [
      "/usr/local/lib/python3.6/site-packages/sqlalchemy/dialects/mysql/base.py:1543: Warning: (1287, \"'@@tx_isolation' is deprecated and will be removed in a future release. Please use '@@transaction_isolation' instead\")\n",
      "  cursor.execute('SELECT @@tx_isolation')\n"
     ]
    }
   ],
   "source": [
    "def create_connection(autocommit=True):\n",
    "    engine = sqlalchemy \\\n",
    "        .create_engine(\n",
    "            mysql_connection_string\n",
    "        )\n",
    "\n",
    "    connection = engine \\\n",
    "        .connect() \\\n",
    "        .execution_options(autocommit=True)\n",
    "\n",
    "    return engine, connection\n",
    "\n",
    "\n",
    "engine, mysql = create_connection()"
   ]
  },
  {
   "cell_type": "code",
   "execution_count": 144,
   "metadata": {
    "collapsed": false
   },
   "outputs": [
    {
     "name": "stdout",
     "output_type": "stream",
     "text": [
      "[(1, 2, 'print', None, datetime.datetime(2014, 12, 20, 21, 4, 2), datetime.datetime(2017, 10, 8, 10, 54, 21), 'Milan', 'Kovac', 'Test', '1', '', '', 167, None, None, None, None, ''), (2, 3, 'print', None, datetime.datetime(2014, 12, 21, 8, 47, 6), datetime.datetime(2017, 1, 3, 21, 35, 15), 'Tomas', 'Bella', 'Žltá', '24/D', 'Bratislava', '85107', 167, None, None, None, None, None), (3, 4, 'print', None, datetime.datetime(2014, 12, 21, 8, 52, 1), datetime.datetime(2017, 1, 3, 21, 35, 15), 'Katka', 'Javorska', '', None, '', '', 167, None, None, None, None, None), (4, 5, 'print', None, datetime.datetime(2014, 12, 21, 9, 8, 44), datetime.datetime(2017, 1, 3, 21, 35, 15), 'Tino', 'Cikovsky', '', None, '', '', 167, None, None, None, None, None), (5, 6, 'print', None, datetime.datetime(2014, 12, 21, 9, 11, 36), datetime.datetime(2017, 1, 3, 21, 35, 15), 'Lucia', 'Lasova Acces', '', None, '', '', 167, None, None, None, None, None)]\n"
     ]
    }
   ],
   "source": [
    "query = mysql.execute('select * from remp.addresses limit 5')\n",
    "result = query.fetchall()\n",
    "print(result)"
   ]
  },
  {
   "cell_type": "code",
   "execution_count": null,
   "metadata": {
    "collapsed": true
   },
   "outputs": [],
   "source": []
  }
 ],
 "metadata": {
  "kernelspec": {
   "display_name": "Python 3",
   "language": "python",
   "name": "python3"
  },
  "language_info": {
   "codemirror_mode": {
    "name": "ipython",
    "version": 3
   },
   "file_extension": ".py",
   "mimetype": "text/x-python",
   "name": "python",
   "nbconvert_exporter": "python",
   "pygments_lexer": "ipython3",
   "version": "3.6.1"
  }
 },
 "nbformat": 4,
 "nbformat_minor": 2
}
