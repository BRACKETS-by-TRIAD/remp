{
 "cells": [
  {
   "cell_type": "code",
   "execution_count": 259,
   "metadata": {
    "collapsed": false
   },
   "outputs": [],
   "source": [
    "import pandas as pd\n",
    "import numpy as np\n",
    "import re\n",
    "import os\n",
    "from typing import List, Dict\n",
    "from pydrive.auth import GoogleAuth\n",
    "from pydrive.drive import GoogleDrive\n",
    "from pydrive.files import GoogleDriveFile\n",
    "from datetime import datetime"
   ]
  },
  {
   "cell_type": "code",
   "execution_count": 2,
   "metadata": {
    "collapsed": false
   },
   "outputs": [
    {
     "name": "stdout",
     "output_type": "stream",
     "text": [
      "Your browser has been opened to visit:\n",
      "\n",
      "    https://accounts.google.com/o/oauth2/auth?client_id=900063863517-ci8cqlc3givum789c4ulpgj015jbkfmr.apps.googleusercontent.com&redirect_uri=http%3A%2F%2Flocalhost%3A8080%2F&scope=https%3A%2F%2Fwww.googleapis.com%2Fauth%2Fdrive&access_type=offline&response_type=code\n",
      "\n",
      "Authentication successful.\n"
     ]
    }
   ],
   "source": [
    "gauth = GoogleAuth()\n",
    "gauth.LocalWebserverAuth() # Creates local webserver and auto handles authentication.\n",
    "drive = GoogleDrive(gauth)"
   ]
  },
  {
   "cell_type": "markdown",
   "metadata": {},
   "source": [
    "The first function is taken from https://stackoverflow.com/questions/34101427/accessing-folders-subfolders-and-subfiles-using-pydrive-python and slightly changed as we're dealing with a finite set."
   ]
  },
  {
   "cell_type": "code",
   "execution_count": 249,
   "metadata": {
    "collapsed": false
   },
   "outputs": [],
   "source": [
    "def list_folder(parent: str) -> List:\n",
    "    file_list = []\n",
    "    file_list = drive.ListFile({'q': \"'%s' in parents and trashed=false\" % parent}).GetList()\n",
    "    for f in file_list:\n",
    "        if 'mimeType' in f.keys():\n",
    "            if f['mimeType'] == 'application/vnd.google-apps.folder': # if folder\n",
    "                file_list.append({\"id\": f['id'],\"title\": f['title'],\"list\": ListFolder(f['id'])})\n",
    "            else:\n",
    "                file_list.append({\"title\": f['title']})\n",
    "    \n",
    "    return file_list[2]\n",
    "\n",
    "\n",
    "def get_files_from_gfolder(file_list: List, folder: str) -> List:\n",
    "    data_folder = [data_folder for data_folder in sample_data_folders[0]['list']\n",
    "                 if data_folder['title'] == folder]\n",
    "    file_names = [file['title'] for file in data_folder[0]['list']]\n",
    "    \n",
    "    return file_names"
   ]
  },
  {
   "cell_type": "code",
   "execution_count": 250,
   "metadata": {
    "collapsed": true
   },
   "outputs": [],
   "source": [
    "folder_structure = list_folder('root')\n",
    "relevant_data_folders = ['pageviews', 'events', 'commerce']"
   ]
  },
  {
   "cell_type": "code",
   "execution_count": 142,
   "metadata": {
    "collapsed": false,
    "scrolled": false
   },
   "outputs": [],
   "source": [
    "def get_gdrive_csv_file_into_df(filename: str) -> pd.DataFrame:\n",
    "    query = \"title = '\" + filename + \"'\"\n",
    "    file_meta = drive.ListFile({'q': query}).GetList()\n",
    "    file_id = file_meta[0]['id']\n",
    "    gdrive_file = drive.CreateFile({'id': file_id})\n",
    "    gdrive_file.GetContentFile('intermediate_data.gz')\n",
    "    csv_data = pd.read_csv('intermediate_data.gz', low_memory=False)\n",
    "    os.remove('intermediate_data.gz')\n",
    "    \n",
    "    return csv_data"
   ]
  },
  {
   "cell_type": "code",
   "execution_count": 255,
   "metadata": {
    "collapsed": false,
    "scrolled": true
   },
   "outputs": [
    {
     "name": "stdout",
     "output_type": "stream",
     "text": [
      "pageviews\n",
      "0.0\n",
      "0.10344827586206896\n",
      "0.20689655172413793\n",
      "0.3103448275862069\n",
      "0.41379310344827586\n",
      "0.5172413793103449\n",
      "0.6206896551724138\n",
      "0.7241379310344828\n",
      "0.8275862068965517\n",
      "0.9310344827586207\n",
      "0.9655172413793104\n",
      "events\n",
      "0.0\n",
      "0.1\n",
      "0.2\n",
      "0.3\n",
      "0.4\n",
      "0.5\n",
      "0.6\n",
      "0.7\n",
      "0.8\n",
      "0.9\n",
      "0.9666666666666667\n",
      "commerce\n",
      "0.0\n",
      "0.1\n",
      "0.2\n",
      "0.3\n",
      "0.4\n",
      "0.5\n",
      "0.6\n",
      "0.7\n",
      "0.8\n",
      "0.9\n",
      "0.9666666666666667\n"
     ]
    }
   ],
   "source": [
    "folder_structure = list_folder('root')\n",
    "df_dict = {}\n",
    "for data_folder in relevant_data_folders:\n",
    "    print(data_folder)\n",
    "    df_dict[data_folder] = pd.DataFrame()\n",
    "    folder_file_list = get_files_from_gfolder(folder_structure['list'], data_folder)\n",
    "    for index in range(0, len(folder_file_list)):\n",
    "        if not index % int(round(len(folder_file_list) / 10, 0)) or index == len(folder_file_list) - 1:\n",
    "            print(index / len(folder_file_list))\n",
    "        file_df = get_gdrive_csv_file_into_df(folder_file_list[index])\n",
    "        df_dict[data_folder] = df_dict[data_folder].append(file_df)  "
   ]
  },
  {
   "cell_type": "code",
   "execution_count": 257,
   "metadata": {
    "collapsed": false
   },
   "outputs": [
    {
     "data": {
      "text/plain": [
       "[{'pageviews': 9236063}, {'events': 2609406}, {'commerce': 41779}]"
      ]
     },
     "execution_count": 257,
     "metadata": {},
     "output_type": "execute_result"
    }
   ],
   "source": [
    "[{key: len(value)} for key, value in df_dict.items()]"
   ]
  },
  {
   "cell_type": "code",
   "execution_count": 281,
   "metadata": {
    "collapsed": false
   },
   "outputs": [
    {
     "data": {
      "text/html": [
       "<div>\n",
       "<table border=\"1\" class=\"dataframe\">\n",
       "  <thead>\n",
       "    <tr style=\"text-align: right;\">\n",
       "      <th></th>\n",
       "      <th>_article</th>\n",
       "      <th>action</th>\n",
       "      <th>article_id</th>\n",
       "      <th>category</th>\n",
       "      <th>host</th>\n",
       "      <th>name</th>\n",
       "      <th>remp_session_id</th>\n",
       "      <th>signed_in</th>\n",
       "      <th>social</th>\n",
       "      <th>tags</th>\n",
       "      <th>time</th>\n",
       "      <th>title</th>\n",
       "      <th>token</th>\n",
       "      <th>url</th>\n",
       "      <th>user_agent</th>\n",
       "      <th>user_id</th>\n",
       "      <th>utm_campaign</th>\n",
       "      <th>utm_content</th>\n",
       "      <th>utm_medium</th>\n",
       "      <th>utm_source</th>\n",
       "    </tr>\n",
       "  </thead>\n",
       "  <tbody>\n",
       "    <tr>\n",
       "      <th>0</th>\n",
       "      <td>0</td>\n",
       "      <td>load</td>\n",
       "      <td>NaN</td>\n",
       "      <td>pageview</td>\n",
       "      <td>npress-influxdb-n2.ewhs.bntb.net</td>\n",
       "      <td>pageviews</td>\n",
       "      <td>NaN</td>\n",
       "      <td>NaN</td>\n",
       "      <td>NaN</td>\n",
       "      <td>NaN</td>\n",
       "      <td>1515801600076000000</td>\n",
       "      <td>NaN</td>\n",
       "      <td>1a8feb16-3e30-4f9b-bf74-20037ea8505a</td>\n",
       "      <td>https://dennikn.sk/autor/bella/</td>\n",
       "      <td>NaN</td>\n",
       "      <td>2dfb3791-a51c-4c7a-819d-f7a94a29c015</td>\n",
       "      <td>NaN</td>\n",
       "      <td>NaN</td>\n",
       "      <td>NaN</td>\n",
       "      <td>NaN</td>\n",
       "    </tr>\n",
       "    <tr>\n",
       "      <th>1</th>\n",
       "      <td>1</td>\n",
       "      <td>load</td>\n",
       "      <td>294893.0</td>\n",
       "      <td>slovensko</td>\n",
       "      <td>npress-influxdb-n2.ewhs.bntb.net</td>\n",
       "      <td>pageviews</td>\n",
       "      <td>NaN</td>\n",
       "      <td>NaN</td>\n",
       "      <td>NaN</td>\n",
       "      <td>vybuchy-v-parizi</td>\n",
       "      <td>1515801600078000000</td>\n",
       "      <td>NaN</td>\n",
       "      <td>1a8feb16-3e30-4f9b-bf74-20037ea8505a</td>\n",
       "      <td>https://dennikn.sk/294893/fico-bezpecnost-u-na...</td>\n",
       "      <td>NaN</td>\n",
       "      <td>2dfb3791-a51c-4c7a-819d-f7a94a29c015</td>\n",
       "      <td>NaN</td>\n",
       "      <td>NaN</td>\n",
       "      <td>NaN</td>\n",
       "      <td>NaN</td>\n",
       "    </tr>\n",
       "    <tr>\n",
       "      <th>2</th>\n",
       "      <td>1</td>\n",
       "      <td>load</td>\n",
       "      <td>544744.0</td>\n",
       "      <td>slovensko</td>\n",
       "      <td>npress-influxdb-n2.ewhs.bntb.net</td>\n",
       "      <td>pageviews</td>\n",
       "      <td>NaN</td>\n",
       "      <td>NaN</td>\n",
       "      <td>NaN</td>\n",
       "      <td>NaN</td>\n",
       "      <td>1515801600078000000</td>\n",
       "      <td>NaN</td>\n",
       "      <td>1a8feb16-3e30-4f9b-bf74-20037ea8505a</td>\n",
       "      <td>https://dennikn.sk/544744/ciznar-a-matovic-si-...</td>\n",
       "      <td>NaN</td>\n",
       "      <td>2dfb3791-a51c-4c7a-819d-f7a94a29c015</td>\n",
       "      <td>NaN</td>\n",
       "      <td>NaN</td>\n",
       "      <td>NaN</td>\n",
       "      <td>NaN</td>\n",
       "    </tr>\n",
       "    <tr>\n",
       "      <th>3</th>\n",
       "      <td>1</td>\n",
       "      <td>load</td>\n",
       "      <td>704078.0</td>\n",
       "      <td>komentare</td>\n",
       "      <td>npress-influxdb-n2.ewhs.bntb.net</td>\n",
       "      <td>pageviews</td>\n",
       "      <td>NaN</td>\n",
       "      <td>NaN</td>\n",
       "      <td>NaN</td>\n",
       "      <td>NaN</td>\n",
       "      <td>1515801600078000000</td>\n",
       "      <td>NaN</td>\n",
       "      <td>1a8feb16-3e30-4f9b-bf74-20037ea8505a</td>\n",
       "      <td>https://dennikn.sk/704078/za-boha-a-za-narod-b...</td>\n",
       "      <td>NaN</td>\n",
       "      <td>2dfb3791-a51c-4c7a-819d-f7a94a29c015</td>\n",
       "      <td>NaN</td>\n",
       "      <td>NaN</td>\n",
       "      <td>NaN</td>\n",
       "      <td>NaN</td>\n",
       "    </tr>\n",
       "    <tr>\n",
       "      <th>4</th>\n",
       "      <td>1</td>\n",
       "      <td>load</td>\n",
       "      <td>953687.0</td>\n",
       "      <td>nezaradene</td>\n",
       "      <td>npress-influxdb-n2.ewhs.bntb.net</td>\n",
       "      <td>pageviews</td>\n",
       "      <td>NaN</td>\n",
       "      <td>NaN</td>\n",
       "      <td>NaN</td>\n",
       "      <td>rozhovory</td>\n",
       "      <td>1515801600078000000</td>\n",
       "      <td>NaN</td>\n",
       "      <td>1a8feb16-3e30-4f9b-bf74-20037ea8505a</td>\n",
       "      <td>https://dennikn.sk/953687/ako-evanjelici-sami-...</td>\n",
       "      <td>NaN</td>\n",
       "      <td>2dfb3791-a51c-4c7a-819d-f7a94a29c015</td>\n",
       "      <td>NaN</td>\n",
       "      <td>NaN</td>\n",
       "      <td>NaN</td>\n",
       "      <td>NaN</td>\n",
       "    </tr>\n",
       "  </tbody>\n",
       "</table>\n",
       "</div>"
      ],
      "text/plain": [
       "   _article action  article_id    category                              host  \\\n",
       "0         0   load         NaN    pageview  npress-influxdb-n2.ewhs.bntb.net   \n",
       "1         1   load    294893.0   slovensko  npress-influxdb-n2.ewhs.bntb.net   \n",
       "2         1   load    544744.0   slovensko  npress-influxdb-n2.ewhs.bntb.net   \n",
       "3         1   load    704078.0   komentare  npress-influxdb-n2.ewhs.bntb.net   \n",
       "4         1   load    953687.0  nezaradene  npress-influxdb-n2.ewhs.bntb.net   \n",
       "\n",
       "        name remp_session_id  signed_in social              tags  \\\n",
       "0  pageviews             NaN        NaN    NaN               NaN   \n",
       "1  pageviews             NaN        NaN    NaN  vybuchy-v-parizi   \n",
       "2  pageviews             NaN        NaN    NaN               NaN   \n",
       "3  pageviews             NaN        NaN    NaN               NaN   \n",
       "4  pageviews             NaN        NaN    NaN         rozhovory   \n",
       "\n",
       "                  time title                                 token  \\\n",
       "0  1515801600076000000   NaN  1a8feb16-3e30-4f9b-bf74-20037ea8505a   \n",
       "1  1515801600078000000   NaN  1a8feb16-3e30-4f9b-bf74-20037ea8505a   \n",
       "2  1515801600078000000   NaN  1a8feb16-3e30-4f9b-bf74-20037ea8505a   \n",
       "3  1515801600078000000   NaN  1a8feb16-3e30-4f9b-bf74-20037ea8505a   \n",
       "4  1515801600078000000   NaN  1a8feb16-3e30-4f9b-bf74-20037ea8505a   \n",
       "\n",
       "                                                 url user_agent  \\\n",
       "0                    https://dennikn.sk/autor/bella/        NaN   \n",
       "1  https://dennikn.sk/294893/fico-bezpecnost-u-na...        NaN   \n",
       "2  https://dennikn.sk/544744/ciznar-a-matovic-si-...        NaN   \n",
       "3  https://dennikn.sk/704078/za-boha-a-za-narod-b...        NaN   \n",
       "4  https://dennikn.sk/953687/ako-evanjelici-sami-...        NaN   \n",
       "\n",
       "                                user_id utm_campaign utm_content utm_medium  \\\n",
       "0  2dfb3791-a51c-4c7a-819d-f7a94a29c015          NaN         NaN        NaN   \n",
       "1  2dfb3791-a51c-4c7a-819d-f7a94a29c015          NaN         NaN        NaN   \n",
       "2  2dfb3791-a51c-4c7a-819d-f7a94a29c015          NaN         NaN        NaN   \n",
       "3  2dfb3791-a51c-4c7a-819d-f7a94a29c015          NaN         NaN        NaN   \n",
       "4  2dfb3791-a51c-4c7a-819d-f7a94a29c015          NaN         NaN        NaN   \n",
       "\n",
       "  utm_source  \n",
       "0        NaN  \n",
       "1        NaN  \n",
       "2        NaN  \n",
       "3        NaN  \n",
       "4        NaN  "
      ]
     },
     "execution_count": 281,
     "metadata": {},
     "output_type": "execute_result"
    }
   ],
   "source": [
    "df_dict['pageviews'].head()"
   ]
  },
  {
   "cell_type": "markdown",
   "metadata": {},
   "source": [
    "Reshaping data types"
   ]
  },
  {
   "cell_type": "code",
   "execution_count": 374,
   "metadata": {
    "collapsed": false
   },
   "outputs": [
    {
     "data": {
      "text/html": [
       "<div>\n",
       "<table border=\"1\" class=\"dataframe\">\n",
       "  <thead>\n",
       "    <tr style=\"text-align: right;\">\n",
       "      <th></th>\n",
       "      <th>is_article</th>\n",
       "      <th>action</th>\n",
       "      <th>article_id</th>\n",
       "      <th>category</th>\n",
       "      <th>host</th>\n",
       "      <th>name</th>\n",
       "      <th>remp_session_id</th>\n",
       "      <th>signed_in</th>\n",
       "      <th>social</th>\n",
       "      <th>tags</th>\n",
       "      <th>time</th>\n",
       "      <th>title</th>\n",
       "      <th>token</th>\n",
       "      <th>url</th>\n",
       "      <th>user_agent</th>\n",
       "      <th>user_id</th>\n",
       "      <th>utm_campaign</th>\n",
       "      <th>utm_content</th>\n",
       "      <th>utm_medium</th>\n",
       "      <th>utm_source</th>\n",
       "    </tr>\n",
       "  </thead>\n",
       "  <tbody>\n",
       "    <tr>\n",
       "      <th>0</th>\n",
       "      <td>False</td>\n",
       "      <td>load</td>\n",
       "      <td></td>\n",
       "      <td>pageview</td>\n",
       "      <td>npress-influxdb-n2.ewhs.bntb.net</td>\n",
       "      <td>pageviews</td>\n",
       "      <td></td>\n",
       "      <td>NaN</td>\n",
       "      <td></td>\n",
       "      <td></td>\n",
       "      <td>2018-01-13 00:00:00.076000</td>\n",
       "      <td></td>\n",
       "      <td>1a8feb16-3e30-4f9b-bf74-20037ea8505a</td>\n",
       "      <td>https://dennikn.sk/autor/bella/</td>\n",
       "      <td></td>\n",
       "      <td>2dfb3791-a51c-4c7a-819d-f7a94a29c015</td>\n",
       "      <td></td>\n",
       "      <td></td>\n",
       "      <td></td>\n",
       "      <td></td>\n",
       "    </tr>\n",
       "    <tr>\n",
       "      <th>1</th>\n",
       "      <td>True</td>\n",
       "      <td>load</td>\n",
       "      <td>294893.0</td>\n",
       "      <td>slovensko</td>\n",
       "      <td>npress-influxdb-n2.ewhs.bntb.net</td>\n",
       "      <td>pageviews</td>\n",
       "      <td></td>\n",
       "      <td>NaN</td>\n",
       "      <td></td>\n",
       "      <td>vybuchy-v-parizi</td>\n",
       "      <td>2018-01-13 00:00:00.078000</td>\n",
       "      <td></td>\n",
       "      <td>1a8feb16-3e30-4f9b-bf74-20037ea8505a</td>\n",
       "      <td>https://dennikn.sk/294893/fico-bezpecnost-u-na...</td>\n",
       "      <td></td>\n",
       "      <td>2dfb3791-a51c-4c7a-819d-f7a94a29c015</td>\n",
       "      <td></td>\n",
       "      <td></td>\n",
       "      <td></td>\n",
       "      <td></td>\n",
       "    </tr>\n",
       "    <tr>\n",
       "      <th>2</th>\n",
       "      <td>True</td>\n",
       "      <td>load</td>\n",
       "      <td>544744.0</td>\n",
       "      <td>slovensko</td>\n",
       "      <td>npress-influxdb-n2.ewhs.bntb.net</td>\n",
       "      <td>pageviews</td>\n",
       "      <td></td>\n",
       "      <td>NaN</td>\n",
       "      <td></td>\n",
       "      <td></td>\n",
       "      <td>2018-01-13 00:00:00.078000</td>\n",
       "      <td></td>\n",
       "      <td>1a8feb16-3e30-4f9b-bf74-20037ea8505a</td>\n",
       "      <td>https://dennikn.sk/544744/ciznar-a-matovic-si-...</td>\n",
       "      <td></td>\n",
       "      <td>2dfb3791-a51c-4c7a-819d-f7a94a29c015</td>\n",
       "      <td></td>\n",
       "      <td></td>\n",
       "      <td></td>\n",
       "      <td></td>\n",
       "    </tr>\n",
       "    <tr>\n",
       "      <th>3</th>\n",
       "      <td>True</td>\n",
       "      <td>load</td>\n",
       "      <td>704078.0</td>\n",
       "      <td>komentare</td>\n",
       "      <td>npress-influxdb-n2.ewhs.bntb.net</td>\n",
       "      <td>pageviews</td>\n",
       "      <td></td>\n",
       "      <td>NaN</td>\n",
       "      <td></td>\n",
       "      <td></td>\n",
       "      <td>2018-01-13 00:00:00.078000</td>\n",
       "      <td></td>\n",
       "      <td>1a8feb16-3e30-4f9b-bf74-20037ea8505a</td>\n",
       "      <td>https://dennikn.sk/704078/za-boha-a-za-narod-b...</td>\n",
       "      <td></td>\n",
       "      <td>2dfb3791-a51c-4c7a-819d-f7a94a29c015</td>\n",
       "      <td></td>\n",
       "      <td></td>\n",
       "      <td></td>\n",
       "      <td></td>\n",
       "    </tr>\n",
       "    <tr>\n",
       "      <th>4</th>\n",
       "      <td>True</td>\n",
       "      <td>load</td>\n",
       "      <td>953687.0</td>\n",
       "      <td>nezaradene</td>\n",
       "      <td>npress-influxdb-n2.ewhs.bntb.net</td>\n",
       "      <td>pageviews</td>\n",
       "      <td></td>\n",
       "      <td>NaN</td>\n",
       "      <td></td>\n",
       "      <td>rozhovory</td>\n",
       "      <td>2018-01-13 00:00:00.078000</td>\n",
       "      <td></td>\n",
       "      <td>1a8feb16-3e30-4f9b-bf74-20037ea8505a</td>\n",
       "      <td>https://dennikn.sk/953687/ako-evanjelici-sami-...</td>\n",
       "      <td></td>\n",
       "      <td>2dfb3791-a51c-4c7a-819d-f7a94a29c015</td>\n",
       "      <td></td>\n",
       "      <td></td>\n",
       "      <td></td>\n",
       "      <td></td>\n",
       "    </tr>\n",
       "  </tbody>\n",
       "</table>\n",
       "</div>"
      ],
      "text/plain": [
       "  is_article action article_id    category                              host  \\\n",
       "0      False   load               pageview  npress-influxdb-n2.ewhs.bntb.net   \n",
       "1       True   load   294893.0   slovensko  npress-influxdb-n2.ewhs.bntb.net   \n",
       "2       True   load   544744.0   slovensko  npress-influxdb-n2.ewhs.bntb.net   \n",
       "3       True   load   704078.0   komentare  npress-influxdb-n2.ewhs.bntb.net   \n",
       "4       True   load   953687.0  nezaradene  npress-influxdb-n2.ewhs.bntb.net   \n",
       "\n",
       "        name remp_session_id  signed_in social              tags  \\\n",
       "0  pageviews                        NaN                            \n",
       "1  pageviews                        NaN         vybuchy-v-parizi   \n",
       "2  pageviews                        NaN                            \n",
       "3  pageviews                        NaN                            \n",
       "4  pageviews                        NaN                rozhovory   \n",
       "\n",
       "                         time title                                 token  \\\n",
       "0  2018-01-13 00:00:00.076000        1a8feb16-3e30-4f9b-bf74-20037ea8505a   \n",
       "1  2018-01-13 00:00:00.078000        1a8feb16-3e30-4f9b-bf74-20037ea8505a   \n",
       "2  2018-01-13 00:00:00.078000        1a8feb16-3e30-4f9b-bf74-20037ea8505a   \n",
       "3  2018-01-13 00:00:00.078000        1a8feb16-3e30-4f9b-bf74-20037ea8505a   \n",
       "4  2018-01-13 00:00:00.078000        1a8feb16-3e30-4f9b-bf74-20037ea8505a   \n",
       "\n",
       "                                                 url user_agent  \\\n",
       "0                    https://dennikn.sk/autor/bella/              \n",
       "1  https://dennikn.sk/294893/fico-bezpecnost-u-na...              \n",
       "2  https://dennikn.sk/544744/ciznar-a-matovic-si-...              \n",
       "3  https://dennikn.sk/704078/za-boha-a-za-narod-b...              \n",
       "4  https://dennikn.sk/953687/ako-evanjelici-sami-...              \n",
       "\n",
       "                                user_id utm_campaign utm_content utm_medium  \\\n",
       "0  2dfb3791-a51c-4c7a-819d-f7a94a29c015                                       \n",
       "1  2dfb3791-a51c-4c7a-819d-f7a94a29c015                                       \n",
       "2  2dfb3791-a51c-4c7a-819d-f7a94a29c015                                       \n",
       "3  2dfb3791-a51c-4c7a-819d-f7a94a29c015                                       \n",
       "4  2dfb3791-a51c-4c7a-819d-f7a94a29c015                                       \n",
       "\n",
       "  utm_source  \n",
       "0             \n",
       "1             \n",
       "2             \n",
       "3             \n",
       "4             "
      ]
     },
     "execution_count": 374,
     "metadata": {},
     "output_type": "execute_result"
    }
   ],
   "source": [
    "# df_dict['pageviews'].rename(columns={'_article': 'is_article'}, inplace=True)\n",
    "df_dict['pageviews']['is_article'] = df_dict['pageviews']['is_article'].astype(bool)\n",
    "df_dict['pageviews']['article_id'] = df_dict['pageviews']['article_id'].astype(str)\n",
    "df_dict['pageviews']['time'] = df_dict['pageviews']['time'].astype(datetime)\n",
    "df_dict['pageviews']['article_id'] = df_dict['pageviews']['article_id'].str.replace('nan', '')\n",
    "df_dict['pageviews']['remp_session_id'].fillna('', inplace = True)\n",
    "# df_dict['pageviews']['signed_in'].fillna('', inplace = True)\n",
    "df_dict['pageviews']['social'].fillna('', inplace = True)\n",
    "df_dict['pageviews']['tags'].fillna('', inplace = True)\n",
    "df_dict['pageviews']['title'].fillna('', inplace = True)\n",
    "df_dict['pageviews']['user_agent'].fillna('', inplace = True)\n",
    "[df_dict['pageviews'][column].fillna('', inplace = True) for column in df_dict['pageviews'].columns if re.search('utm_', column) is not None]\n",
    "df_dict['pageviews'].head()"
   ]
  },
  {
   "cell_type": "code",
   "execution_count": 375,
   "metadata": {
    "collapsed": false
   },
   "outputs": [],
   "source": [
    "# This function assumes all missing values are either NaN or ''\n",
    "def get_missing_values_share(table_name: str) -> pd.DataFrame:\n",
    "    missing_values_share = pd.Series(index=df_dict[table_name].columns)\n",
    "    num_df_rows = len(df_dict[table_name])\n",
    "    for column in df_dict[table_name].columns:\n",
    "        non_na_rows = df_dict[table_name][column].dropna()\n",
    "        if str(non_na_rows.dtype) == 'object':\n",
    "            num_relevant_values = len(non_na_rows[non_na_rows != ''])\n",
    "        else:\n",
    "            num_relevant_values = len(non_na_rows)\n",
    "        missing_values_share[column] = num_relevant_values / num_df_rows\n",
    "    \n",
    "    return missing_values_share"
   ]
  },
  {
   "cell_type": "code",
   "execution_count": 376,
   "metadata": {
    "collapsed": false,
    "scrolled": false
   },
   "outputs": [
    {
     "data": {
      "text/plain": [
       "is_article         1.000000\n",
       "action             1.000000\n",
       "article_id         0.525908\n",
       "category           0.999994\n",
       "host               1.000000\n",
       "name               1.000000\n",
       "remp_session_id    0.011186\n",
       "signed_in          0.011230\n",
       "social             0.104669\n",
       "tags               0.159106\n",
       "time               1.000000\n",
       "title              0.000005\n",
       "token              1.000000\n",
       "url                1.000000\n",
       "user_agent         0.000002\n",
       "user_id            1.000000\n",
       "utm_campaign       0.012994\n",
       "utm_content        0.010596\n",
       "utm_medium         0.013796\n",
       "utm_source         0.013797\n",
       "dtype: float64"
      ]
     },
     "execution_count": 376,
     "metadata": {},
     "output_type": "execute_result"
    }
   ],
   "source": [
    "get_missing_values_share('pageviews')"
   ]
  },
  {
   "cell_type": "markdown",
   "metadata": {},
   "source": [
    "Look at signed_in values"
   ]
  },
  {
   "cell_type": "code",
   "execution_count": 338,
   "metadata": {
    "collapsed": false
   },
   "outputs": [
    {
     "data": {
      "text/html": [
       "<div>\n",
       "<table border=\"1\" class=\"dataframe\">\n",
       "  <thead>\n",
       "    <tr style=\"text-align: right;\">\n",
       "      <th></th>\n",
       "      <th>is_article</th>\n",
       "      <th>action</th>\n",
       "      <th>article_id</th>\n",
       "      <th>category</th>\n",
       "      <th>host</th>\n",
       "      <th>name</th>\n",
       "      <th>remp_session_id</th>\n",
       "      <th>signed_in</th>\n",
       "      <th>social</th>\n",
       "      <th>tags</th>\n",
       "      <th>time</th>\n",
       "      <th>title</th>\n",
       "      <th>token</th>\n",
       "      <th>url</th>\n",
       "      <th>user_agent</th>\n",
       "      <th>user_id</th>\n",
       "      <th>utm_campaign</th>\n",
       "      <th>utm_content</th>\n",
       "      <th>utm_medium</th>\n",
       "      <th>utm_source</th>\n",
       "    </tr>\n",
       "  </thead>\n",
       "  <tbody>\n",
       "    <tr>\n",
       "      <th>796</th>\n",
       "      <td>False</td>\n",
       "      <td>load</td>\n",
       "      <td>nan</td>\n",
       "      <td>pageview</td>\n",
       "      <td>npress-influxdb-n2.ewhs.bntb.net</td>\n",
       "      <td>pageviews</td>\n",
       "      <td>74014bf5-abc9-4d25-8aec-baea54ab0b61</td>\n",
       "      <td>1.0</td>\n",
       "      <td></td>\n",
       "      <td></td>\n",
       "      <td>2018-01-17 00:11:32.094000</td>\n",
       "      <td></td>\n",
       "      <td>1a8feb16-3e30-4f9b-bf74-20037ea8505a</td>\n",
       "      <td>https://dennikn.sk/</td>\n",
       "      <td></td>\n",
       "      <td>122004</td>\n",
       "      <td></td>\n",
       "      <td></td>\n",
       "      <td></td>\n",
       "      <td></td>\n",
       "    </tr>\n",
       "    <tr>\n",
       "      <th>983</th>\n",
       "      <td>False</td>\n",
       "      <td>load</td>\n",
       "      <td>nan</td>\n",
       "      <td>pageview</td>\n",
       "      <td>npress-influxdb-n2.ewhs.bntb.net</td>\n",
       "      <td>pageviews</td>\n",
       "      <td>74014bf5-abc9-4d25-8aec-baea54ab0b61</td>\n",
       "      <td>1.0</td>\n",
       "      <td></td>\n",
       "      <td></td>\n",
       "      <td>2018-01-17 00:14:51.644000</td>\n",
       "      <td></td>\n",
       "      <td>1a8feb16-3e30-4f9b-bf74-20037ea8505a</td>\n",
       "      <td>https://dennikn.sk/</td>\n",
       "      <td></td>\n",
       "      <td>122004</td>\n",
       "      <td></td>\n",
       "      <td></td>\n",
       "      <td></td>\n",
       "      <td></td>\n",
       "    </tr>\n",
       "    <tr>\n",
       "      <th>4230</th>\n",
       "      <td>False</td>\n",
       "      <td>load</td>\n",
       "      <td>nan</td>\n",
       "      <td>pageview</td>\n",
       "      <td>npress-influxdb-n2.ewhs.bntb.net</td>\n",
       "      <td>pageviews</td>\n",
       "      <td>d8e82e4b-9a7e-4505-9614-3cc9a4350244</td>\n",
       "      <td>1.0</td>\n",
       "      <td></td>\n",
       "      <td></td>\n",
       "      <td>2018-01-17 01:42:16.587000</td>\n",
       "      <td></td>\n",
       "      <td>1a8feb16-3e30-4f9b-bf74-20037ea8505a</td>\n",
       "      <td>https://dennikn.sk/</td>\n",
       "      <td></td>\n",
       "      <td>39848</td>\n",
       "      <td></td>\n",
       "      <td></td>\n",
       "      <td></td>\n",
       "      <td></td>\n",
       "    </tr>\n",
       "  </tbody>\n",
       "</table>\n",
       "</div>"
      ],
      "text/plain": [
       "     is_article action article_id  category                              host  \\\n",
       "796       False   load        nan  pageview  npress-influxdb-n2.ewhs.bntb.net   \n",
       "983       False   load        nan  pageview  npress-influxdb-n2.ewhs.bntb.net   \n",
       "4230      False   load        nan  pageview  npress-influxdb-n2.ewhs.bntb.net   \n",
       "\n",
       "           name                       remp_session_id  signed_in social tags  \\\n",
       "796   pageviews  74014bf5-abc9-4d25-8aec-baea54ab0b61        1.0               \n",
       "983   pageviews  74014bf5-abc9-4d25-8aec-baea54ab0b61        1.0               \n",
       "4230  pageviews  d8e82e4b-9a7e-4505-9614-3cc9a4350244        1.0               \n",
       "\n",
       "                            time title                                 token  \\\n",
       "796   2018-01-17 00:11:32.094000        1a8feb16-3e30-4f9b-bf74-20037ea8505a   \n",
       "983   2018-01-17 00:14:51.644000        1a8feb16-3e30-4f9b-bf74-20037ea8505a   \n",
       "4230  2018-01-17 01:42:16.587000        1a8feb16-3e30-4f9b-bf74-20037ea8505a   \n",
       "\n",
       "                      url user_agent user_id utm_campaign utm_content  \\\n",
       "796   https://dennikn.sk/             122004                            \n",
       "983   https://dennikn.sk/             122004                            \n",
       "4230  https://dennikn.sk/              39848                            \n",
       "\n",
       "     utm_medium utm_source  \n",
       "796                         \n",
       "983                         \n",
       "4230                        "
      ]
     },
     "execution_count": 338,
     "metadata": {},
     "output_type": "execute_result"
    }
   ],
   "source": [
    "df_dict['pageviews'][df_dict['pageviews']['signed_in'] == 1].head(3)"
   ]
  },
  {
   "cell_type": "code",
   "execution_count": 339,
   "metadata": {
    "collapsed": false,
    "scrolled": true
   },
   "outputs": [
    {
     "data": {
      "text/html": [
       "<div>\n",
       "<table border=\"1\" class=\"dataframe\">\n",
       "  <thead>\n",
       "    <tr style=\"text-align: right;\">\n",
       "      <th></th>\n",
       "      <th>is_article</th>\n",
       "      <th>action</th>\n",
       "      <th>article_id</th>\n",
       "      <th>category</th>\n",
       "      <th>host</th>\n",
       "      <th>name</th>\n",
       "      <th>remp_session_id</th>\n",
       "      <th>signed_in</th>\n",
       "      <th>social</th>\n",
       "      <th>tags</th>\n",
       "      <th>time</th>\n",
       "      <th>title</th>\n",
       "      <th>token</th>\n",
       "      <th>url</th>\n",
       "      <th>user_agent</th>\n",
       "      <th>user_id</th>\n",
       "      <th>utm_campaign</th>\n",
       "      <th>utm_content</th>\n",
       "      <th>utm_medium</th>\n",
       "      <th>utm_source</th>\n",
       "    </tr>\n",
       "  </thead>\n",
       "  <tbody>\n",
       "    <tr>\n",
       "      <th>0</th>\n",
       "      <td>False</td>\n",
       "      <td>load</td>\n",
       "      <td>nan</td>\n",
       "      <td>pageview</td>\n",
       "      <td>npress-influxdb-n2.ewhs.bntb.net</td>\n",
       "      <td>pageviews</td>\n",
       "      <td></td>\n",
       "      <td>0.0</td>\n",
       "      <td></td>\n",
       "      <td></td>\n",
       "      <td>2018-01-17 00:00:00.076000</td>\n",
       "      <td></td>\n",
       "      <td>1a8feb16-3e30-4f9b-bf74-20037ea8505a</td>\n",
       "      <td>https://dennikn.sk/veda/page/5/</td>\n",
       "      <td></td>\n",
       "      <td>2dfb3791-a51c-4c7a-819d-f7a94a29c015</td>\n",
       "      <td></td>\n",
       "      <td></td>\n",
       "      <td></td>\n",
       "      <td></td>\n",
       "    </tr>\n",
       "    <tr>\n",
       "      <th>3</th>\n",
       "      <td>True</td>\n",
       "      <td>load</td>\n",
       "      <td>253261.0</td>\n",
       "      <td>zdravie</td>\n",
       "      <td>npress-influxdb-n2.ewhs.bntb.net</td>\n",
       "      <td>pageviews</td>\n",
       "      <td></td>\n",
       "      <td>0.0</td>\n",
       "      <td></td>\n",
       "      <td></td>\n",
       "      <td>2018-01-17 00:00:00.078000</td>\n",
       "      <td></td>\n",
       "      <td>1a8feb16-3e30-4f9b-bf74-20037ea8505a</td>\n",
       "      <td>https://dennikn.sk/253261/opice-sa-vekom-zhors...</td>\n",
       "      <td></td>\n",
       "      <td>2dfb3791-a51c-4c7a-819d-f7a94a29c015</td>\n",
       "      <td></td>\n",
       "      <td></td>\n",
       "      <td></td>\n",
       "      <td></td>\n",
       "    </tr>\n",
       "    <tr>\n",
       "      <th>4</th>\n",
       "      <td>True</td>\n",
       "      <td>load</td>\n",
       "      <td>269636.0</td>\n",
       "      <td>ekonomika</td>\n",
       "      <td>npress-influxdb-n2.ewhs.bntb.net</td>\n",
       "      <td>pageviews</td>\n",
       "      <td></td>\n",
       "      <td>0.0</td>\n",
       "      <td></td>\n",
       "      <td></td>\n",
       "      <td>2018-01-17 00:00:00.078000</td>\n",
       "      <td></td>\n",
       "      <td>1a8feb16-3e30-4f9b-bf74-20037ea8505a</td>\n",
       "      <td>https://dennikn.sk/269636/platia-na-poste-seko...</td>\n",
       "      <td></td>\n",
       "      <td>2dfb3791-a51c-4c7a-819d-f7a94a29c015</td>\n",
       "      <td></td>\n",
       "      <td></td>\n",
       "      <td></td>\n",
       "      <td></td>\n",
       "    </tr>\n",
       "  </tbody>\n",
       "</table>\n",
       "</div>"
      ],
      "text/plain": [
       "  is_article action article_id   category                              host  \\\n",
       "0      False   load        nan   pageview  npress-influxdb-n2.ewhs.bntb.net   \n",
       "3       True   load   253261.0    zdravie  npress-influxdb-n2.ewhs.bntb.net   \n",
       "4       True   load   269636.0  ekonomika  npress-influxdb-n2.ewhs.bntb.net   \n",
       "\n",
       "        name remp_session_id  signed_in social tags  \\\n",
       "0  pageviews                        0.0               \n",
       "3  pageviews                        0.0               \n",
       "4  pageviews                        0.0               \n",
       "\n",
       "                         time title                                 token  \\\n",
       "0  2018-01-17 00:00:00.076000        1a8feb16-3e30-4f9b-bf74-20037ea8505a   \n",
       "3  2018-01-17 00:00:00.078000        1a8feb16-3e30-4f9b-bf74-20037ea8505a   \n",
       "4  2018-01-17 00:00:00.078000        1a8feb16-3e30-4f9b-bf74-20037ea8505a   \n",
       "\n",
       "                                                 url user_agent  \\\n",
       "0                    https://dennikn.sk/veda/page/5/              \n",
       "3  https://dennikn.sk/253261/opice-sa-vekom-zhors...              \n",
       "4  https://dennikn.sk/269636/platia-na-poste-seko...              \n",
       "\n",
       "                                user_id utm_campaign utm_content utm_medium  \\\n",
       "0  2dfb3791-a51c-4c7a-819d-f7a94a29c015                                       \n",
       "3  2dfb3791-a51c-4c7a-819d-f7a94a29c015                                       \n",
       "4  2dfb3791-a51c-4c7a-819d-f7a94a29c015                                       \n",
       "\n",
       "  utm_source  \n",
       "0             \n",
       "3             \n",
       "4             "
      ]
     },
     "execution_count": 339,
     "metadata": {},
     "output_type": "execute_result"
    }
   ],
   "source": [
    "df_dict['pageviews'][df_dict['pageviews']['signed_in'] == 0].head(3)"
   ]
  },
  {
   "cell_type": "markdown",
   "metadata": {},
   "source": [
    "Tags by whether the url is an article"
   ]
  },
  {
   "cell_type": "code",
   "execution_count": 350,
   "metadata": {
    "collapsed": false,
    "scrolled": false
   },
   "outputs": [
    {
     "data": {
      "text/plain": [
       "                          3387809\n",
       "rozhovory                  230977\n",
       "ceske-volby-prezidenta     121159\n",
       "hoaxy-a-propaganda          91298\n",
       "slovenske-myty              75090\n",
       "Name: tags, dtype: int64"
      ]
     },
     "execution_count": 350,
     "metadata": {},
     "output_type": "execute_result"
    }
   ],
   "source": [
    "df_dict['pageviews'][df_dict['pageviews']['is_article'] == True]['tags'].value_counts().head()"
   ]
  },
  {
   "cell_type": "code",
   "execution_count": 397,
   "metadata": {
    "collapsed": false
   },
   "outputs": [
    {
     "name": "stdout",
     "output_type": "stream",
     "text": [
      "share articles without tags 0.7579430670339761\n"
     ]
    }
   ],
   "source": [
    "unique_articles = df_dict['pageviews'].loc[\n",
    "    df_dict['pageviews']['is_article'] == True, \n",
    "    ['article_id', 'tags']].drop_duplicates()\n",
    "print('share articles without tags', \n",
    "      len(unique_articles[unique_articles['tags'] == '']) / len(unique_articles))"
   ]
  },
  {
   "cell_type": "code",
   "execution_count": 349,
   "metadata": {
    "collapsed": false
   },
   "outputs": [
    {
     "data": {
      "text/plain": [
       "    4378740\n",
       "Name: tags, dtype: int64"
      ]
     },
     "execution_count": 349,
     "metadata": {},
     "output_type": "execute_result"
    }
   ],
   "source": [
    "df_dict['pageviews'][df_dict['pageviews']['is_article'] != True]['tags'].value_counts()"
   ]
  },
  {
   "cell_type": "markdown",
   "metadata": {},
   "source": [
    "Look at article_id by is_article"
   ]
  },
  {
   "cell_type": "code",
   "execution_count": 380,
   "metadata": {
    "collapsed": false
   },
   "outputs": [
    {
     "data": {
      "text/plain": [
       "True    4857323\n",
       "Name: is_article, dtype: int64"
      ]
     },
     "execution_count": 380,
     "metadata": {},
     "output_type": "execute_result"
    }
   ],
   "source": [
    "df_dict['pageviews'].loc[df_dict['pageviews']['article_id'] != '', 'is_article'].value_counts()"
   ]
  },
  {
   "cell_type": "code",
   "execution_count": 381,
   "metadata": {
    "collapsed": false
   },
   "outputs": [
    {
     "data": {
      "text/plain": [
       "False    4378740\n",
       "Name: is_article, dtype: int64"
      ]
     },
     "execution_count": 381,
     "metadata": {},
     "output_type": "execute_result"
    }
   ],
   "source": [
    "df_dict['pageviews'].loc[df_dict['pageviews']['article_id'] == '', 'is_article'].value_counts()"
   ]
  },
  {
   "cell_type": "code",
   "execution_count": null,
   "metadata": {
    "collapsed": true
   },
   "outputs": [],
   "source": []
  }
 ],
 "metadata": {
  "kernelspec": {
   "display_name": "Python 3",
   "language": "python",
   "name": "python3"
  },
  "language_info": {
   "codemirror_mode": {
    "name": "ipython",
    "version": 3
   },
   "file_extension": ".py",
   "mimetype": "text/x-python",
   "name": "python",
   "nbconvert_exporter": "python",
   "pygments_lexer": "ipython3",
   "version": "3.6.1"
  }
 },
 "nbformat": 4,
 "nbformat_minor": 2
}
