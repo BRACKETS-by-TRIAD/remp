{
 "cells": [
  {
   "cell_type": "code",
   "execution_count": 15,
   "metadata": {
    "collapsed": false,
    "deletable": true,
    "editable": true
   },
   "outputs": [],
   "source": [
    "%reload_ext autoreload \n",
    "%autoreload 2\n",
    "\n",
    "import pandas as pd\n",
    "import numpy as np\n",
    "import re\n",
    "import os\n",
    "import sys\n",
    "import time\n",
    "sys.path.append(\"../../\")\n",
    "from typing import List, Dict\n",
    "from os.path import join, dirname\n",
    "from pydrive.auth import GoogleAuth\n",
    "from datetime import datetime\n",
    "from utils import gdrive_downloader"
   ]
  },
  {
   "cell_type": "code",
   "execution_count": 2,
   "metadata": {
    "collapsed": false
   },
   "outputs": [
    {
     "name": "stdout",
     "output_type": "stream",
     "text": [
      "Your browser has been opened to visit:\n",
      "\n",
      "    https://accounts.google.com/o/oauth2/auth?client_id=17797463459-h3beca6cno86q9eu3of312ki2g8dv7f5.apps.googleusercontent.com&redirect_uri=http%3A%2F%2Flocalhost%3A8080%2F&scope=https%3A%2F%2Fwww.googleapis.com%2Fauth%2Fdrive&access_type=offline&response_type=code\n",
      "\n",
      "Authentication successful.\n"
     ]
    }
   ],
   "source": [
    "GoogleAuth.DEFAULT_SETTINGS['client_config_file'] = '../../utils/client_secrets.json'\n",
    "drive = gdrive_downloader.gdrive_authenticate()"
   ]
  },
  {
   "cell_type": "code",
   "execution_count": 13,
   "metadata": {
    "collapsed": false,
    "deletable": true,
    "editable": true,
    "scrolled": true
   },
   "outputs": [
    {
     "name": "stdout",
     "output_type": "stream",
     "text": [
      "pageviews\n",
      "0.0\n",
      "events\n",
      "0.0\n",
      "commerce\n",
      "0.0\n"
     ]
    },
    {
     "data": {
      "text/plain": [
       "[{'pageviews': 254462}, {'events': 14348}, {'commerce': 1043}]"
      ]
     },
     "execution_count": 13,
     "metadata": {},
     "output_type": "execute_result"
    }
   ],
   "source": [
    "df_dict = gdrive_downloader.download_data(drive)\n",
    "[{key: len(value)} for key, value in df_dict.items()]"
   ]
  },
  {
   "cell_type": "code",
   "execution_count": 14,
   "metadata": {
    "collapsed": false,
    "deletable": true,
    "editable": true
   },
   "outputs": [
    {
     "data": {
      "text/html": [
       "<div>\n",
       "<table border=\"1\" class=\"dataframe\">\n",
       "  <thead>\n",
       "    <tr style=\"text-align: right;\">\n",
       "      <th></th>\n",
       "      <th>name</th>\n",
       "      <th>time</th>\n",
       "      <th>_article</th>\n",
       "      <th>action</th>\n",
       "      <th>article_id</th>\n",
       "      <th>category</th>\n",
       "      <th>host</th>\n",
       "      <th>referer</th>\n",
       "      <th>remp_session_id</th>\n",
       "      <th>signed_in</th>\n",
       "      <th>...</th>\n",
       "      <th>tags</th>\n",
       "      <th>title_variant</th>\n",
       "      <th>token</th>\n",
       "      <th>url</th>\n",
       "      <th>user_agent</th>\n",
       "      <th>user_id</th>\n",
       "      <th>utm_campaign</th>\n",
       "      <th>utm_content</th>\n",
       "      <th>utm_medium</th>\n",
       "      <th>utm_source</th>\n",
       "    </tr>\n",
       "  </thead>\n",
       "  <tbody>\n",
       "    <tr>\n",
       "      <th>0</th>\n",
       "      <td>pageviews</td>\n",
       "      <td>1517616000077000000</td>\n",
       "      <td>1</td>\n",
       "      <td>load</td>\n",
       "      <td>6734.0</td>\n",
       "      <td>nezaradene</td>\n",
       "      <td>npress-influxdb-n2.ewhs.bntb.net</td>\n",
       "      <td>NaN</td>\n",
       "      <td>6b60d544-53b4-4524-ad7a-06ce791ffa3b</td>\n",
       "      <td>0</td>\n",
       "      <td>...</td>\n",
       "      <td>NaN</td>\n",
       "      <td>A</td>\n",
       "      <td>1a8feb16-3e30-4f9b-bf74-20037ea8505a</td>\n",
       "      <td>https://dennikn.sk/6734/biznis-s-titulmi-kto-p...</td>\n",
       "      <td>Mozilla/5.0 (X11; Linux x86_64) AppleWebKit/53...</td>\n",
       "      <td>2dfb3791-a51c-4c7a-819d-f7a94a29c015</td>\n",
       "      <td>NaN</td>\n",
       "      <td>NaN</td>\n",
       "      <td>NaN</td>\n",
       "      <td>NaN</td>\n",
       "    </tr>\n",
       "    <tr>\n",
       "      <th>1</th>\n",
       "      <td>pageviews</td>\n",
       "      <td>1517616000078000000</td>\n",
       "      <td>1</td>\n",
       "      <td>load</td>\n",
       "      <td>165977.0</td>\n",
       "      <td>veda</td>\n",
       "      <td>npress-influxdb-n2.ewhs.bntb.net</td>\n",
       "      <td>NaN</td>\n",
       "      <td>6b60d544-53b4-4524-ad7a-06ce791ffa3b</td>\n",
       "      <td>0</td>\n",
       "      <td>...</td>\n",
       "      <td>NaN</td>\n",
       "      <td>A</td>\n",
       "      <td>1a8feb16-3e30-4f9b-bf74-20037ea8505a</td>\n",
       "      <td>https://dennikn.sk/165977/zivocisne-druhy-maso...</td>\n",
       "      <td>Mozilla/5.0 (X11; Linux x86_64) AppleWebKit/53...</td>\n",
       "      <td>2dfb3791-a51c-4c7a-819d-f7a94a29c015</td>\n",
       "      <td>NaN</td>\n",
       "      <td>NaN</td>\n",
       "      <td>NaN</td>\n",
       "      <td>NaN</td>\n",
       "    </tr>\n",
       "    <tr>\n",
       "      <th>2</th>\n",
       "      <td>pageviews</td>\n",
       "      <td>1517616000078000000</td>\n",
       "      <td>1</td>\n",
       "      <td>load</td>\n",
       "      <td>594122.0</td>\n",
       "      <td>komentare</td>\n",
       "      <td>npress-influxdb-n2.ewhs.bntb.net</td>\n",
       "      <td>NaN</td>\n",
       "      <td>6b60d544-53b4-4524-ad7a-06ce791ffa3b</td>\n",
       "      <td>0</td>\n",
       "      <td>...</td>\n",
       "      <td>NaN</td>\n",
       "      <td>A</td>\n",
       "      <td>1a8feb16-3e30-4f9b-bf74-20037ea8505a</td>\n",
       "      <td>https://dennikn.sk/594122/mohamedov-zivot/</td>\n",
       "      <td>Mozilla/5.0 (X11; Linux x86_64) AppleWebKit/53...</td>\n",
       "      <td>2dfb3791-a51c-4c7a-819d-f7a94a29c015</td>\n",
       "      <td>NaN</td>\n",
       "      <td>NaN</td>\n",
       "      <td>NaN</td>\n",
       "      <td>NaN</td>\n",
       "    </tr>\n",
       "    <tr>\n",
       "      <th>3</th>\n",
       "      <td>pageviews</td>\n",
       "      <td>1517616000078000000</td>\n",
       "      <td>1</td>\n",
       "      <td>load</td>\n",
       "      <td>808523.0</td>\n",
       "      <td>hlavna</td>\n",
       "      <td>npress-influxdb-n2.ewhs.bntb.net</td>\n",
       "      <td>NaN</td>\n",
       "      <td>6b60d544-53b4-4524-ad7a-06ce791ffa3b</td>\n",
       "      <td>0</td>\n",
       "      <td>...</td>\n",
       "      <td>NaN</td>\n",
       "      <td>A</td>\n",
       "      <td>1a8feb16-3e30-4f9b-bf74-20037ea8505a</td>\n",
       "      <td>https://dennikn.sk/minuta/808523/</td>\n",
       "      <td>Mozilla/5.0 (X11; Linux x86_64) AppleWebKit/53...</td>\n",
       "      <td>2dfb3791-a51c-4c7a-819d-f7a94a29c015</td>\n",
       "      <td>NaN</td>\n",
       "      <td>NaN</td>\n",
       "      <td>NaN</td>\n",
       "      <td>NaN</td>\n",
       "    </tr>\n",
       "    <tr>\n",
       "      <th>4</th>\n",
       "      <td>pageviews</td>\n",
       "      <td>1517616000078000000</td>\n",
       "      <td>1</td>\n",
       "      <td>load</td>\n",
       "      <td>859254.0</td>\n",
       "      <td>hlavna</td>\n",
       "      <td>npress-influxdb-n2.ewhs.bntb.net</td>\n",
       "      <td>NaN</td>\n",
       "      <td>6b60d544-53b4-4524-ad7a-06ce791ffa3b</td>\n",
       "      <td>0</td>\n",
       "      <td>...</td>\n",
       "      <td>kvalifikacia-ms-2018</td>\n",
       "      <td>A</td>\n",
       "      <td>1a8feb16-3e30-4f9b-bf74-20037ea8505a</td>\n",
       "      <td>https://dennikn.sk/minuta/859254/</td>\n",
       "      <td>Mozilla/5.0 (X11; Linux x86_64) AppleWebKit/53...</td>\n",
       "      <td>2dfb3791-a51c-4c7a-819d-f7a94a29c015</td>\n",
       "      <td>NaN</td>\n",
       "      <td>NaN</td>\n",
       "      <td>NaN</td>\n",
       "      <td>NaN</td>\n",
       "    </tr>\n",
       "  </tbody>\n",
       "</table>\n",
       "<p>5 rows × 21 columns</p>\n",
       "</div>"
      ],
      "text/plain": [
       "        name                 time  _article action  article_id    category  \\\n",
       "0  pageviews  1517616000077000000         1   load      6734.0  nezaradene   \n",
       "1  pageviews  1517616000078000000         1   load    165977.0        veda   \n",
       "2  pageviews  1517616000078000000         1   load    594122.0   komentare   \n",
       "3  pageviews  1517616000078000000         1   load    808523.0      hlavna   \n",
       "4  pageviews  1517616000078000000         1   load    859254.0      hlavna   \n",
       "\n",
       "                               host referer  \\\n",
       "0  npress-influxdb-n2.ewhs.bntb.net     NaN   \n",
       "1  npress-influxdb-n2.ewhs.bntb.net     NaN   \n",
       "2  npress-influxdb-n2.ewhs.bntb.net     NaN   \n",
       "3  npress-influxdb-n2.ewhs.bntb.net     NaN   \n",
       "4  npress-influxdb-n2.ewhs.bntb.net     NaN   \n",
       "\n",
       "                        remp_session_id  signed_in    ...      \\\n",
       "0  6b60d544-53b4-4524-ad7a-06ce791ffa3b          0    ...       \n",
       "1  6b60d544-53b4-4524-ad7a-06ce791ffa3b          0    ...       \n",
       "2  6b60d544-53b4-4524-ad7a-06ce791ffa3b          0    ...       \n",
       "3  6b60d544-53b4-4524-ad7a-06ce791ffa3b          0    ...       \n",
       "4  6b60d544-53b4-4524-ad7a-06ce791ffa3b          0    ...       \n",
       "\n",
       "                   tags title_variant                                 token  \\\n",
       "0                   NaN             A  1a8feb16-3e30-4f9b-bf74-20037ea8505a   \n",
       "1                   NaN             A  1a8feb16-3e30-4f9b-bf74-20037ea8505a   \n",
       "2                   NaN             A  1a8feb16-3e30-4f9b-bf74-20037ea8505a   \n",
       "3                   NaN             A  1a8feb16-3e30-4f9b-bf74-20037ea8505a   \n",
       "4  kvalifikacia-ms-2018             A  1a8feb16-3e30-4f9b-bf74-20037ea8505a   \n",
       "\n",
       "                                                 url  \\\n",
       "0  https://dennikn.sk/6734/biznis-s-titulmi-kto-p...   \n",
       "1  https://dennikn.sk/165977/zivocisne-druhy-maso...   \n",
       "2         https://dennikn.sk/594122/mohamedov-zivot/   \n",
       "3                  https://dennikn.sk/minuta/808523/   \n",
       "4                  https://dennikn.sk/minuta/859254/   \n",
       "\n",
       "                                          user_agent  \\\n",
       "0  Mozilla/5.0 (X11; Linux x86_64) AppleWebKit/53...   \n",
       "1  Mozilla/5.0 (X11; Linux x86_64) AppleWebKit/53...   \n",
       "2  Mozilla/5.0 (X11; Linux x86_64) AppleWebKit/53...   \n",
       "3  Mozilla/5.0 (X11; Linux x86_64) AppleWebKit/53...   \n",
       "4  Mozilla/5.0 (X11; Linux x86_64) AppleWebKit/53...   \n",
       "\n",
       "                                user_id utm_campaign utm_content utm_medium  \\\n",
       "0  2dfb3791-a51c-4c7a-819d-f7a94a29c015          NaN         NaN        NaN   \n",
       "1  2dfb3791-a51c-4c7a-819d-f7a94a29c015          NaN         NaN        NaN   \n",
       "2  2dfb3791-a51c-4c7a-819d-f7a94a29c015          NaN         NaN        NaN   \n",
       "3  2dfb3791-a51c-4c7a-819d-f7a94a29c015          NaN         NaN        NaN   \n",
       "4  2dfb3791-a51c-4c7a-819d-f7a94a29c015          NaN         NaN        NaN   \n",
       "\n",
       "  utm_source  \n",
       "0        NaN  \n",
       "1        NaN  \n",
       "2        NaN  \n",
       "3        NaN  \n",
       "4        NaN  \n",
       "\n",
       "[5 rows x 21 columns]"
      ]
     },
     "execution_count": 14,
     "metadata": {},
     "output_type": "execute_result"
    }
   ],
   "source": [
    "df_dict['pageviews'].head()"
   ]
  },
  {
   "cell_type": "markdown",
   "metadata": {
    "deletable": true,
    "editable": true
   },
   "source": [
    "Reshaping data types"
   ]
  },
  {
   "cell_type": "code",
   "execution_count": 406,
   "metadata": {
    "collapsed": false,
    "deletable": true,
    "editable": true
   },
   "outputs": [
    {
     "data": {
      "text/html": [
       "<div>\n",
       "<table border=\"1\" class=\"dataframe\">\n",
       "  <thead>\n",
       "    <tr style=\"text-align: right;\">\n",
       "      <th></th>\n",
       "      <th>is_article</th>\n",
       "      <th>action</th>\n",
       "      <th>article_id</th>\n",
       "      <th>category</th>\n",
       "      <th>host</th>\n",
       "      <th>name</th>\n",
       "      <th>remp_session_id</th>\n",
       "      <th>signed_in</th>\n",
       "      <th>social</th>\n",
       "      <th>tags</th>\n",
       "      <th>time</th>\n",
       "      <th>title</th>\n",
       "      <th>token</th>\n",
       "      <th>url</th>\n",
       "      <th>user_agent</th>\n",
       "      <th>user_id</th>\n",
       "      <th>utm_campaign</th>\n",
       "      <th>utm_content</th>\n",
       "      <th>utm_medium</th>\n",
       "      <th>utm_source</th>\n",
       "    </tr>\n",
       "  </thead>\n",
       "  <tbody>\n",
       "    <tr>\n",
       "      <th>0</th>\n",
       "      <td>False</td>\n",
       "      <td>load</td>\n",
       "      <td></td>\n",
       "      <td>pageview</td>\n",
       "      <td>npress-influxdb-n2.ewhs.bntb.net</td>\n",
       "      <td>pageviews</td>\n",
       "      <td></td>\n",
       "      <td></td>\n",
       "      <td></td>\n",
       "      <td></td>\n",
       "      <td>1515801600076000000</td>\n",
       "      <td></td>\n",
       "      <td>1a8feb16-3e30-4f9b-bf74-20037ea8505a</td>\n",
       "      <td>https://dennikn.sk/autor/bella/</td>\n",
       "      <td></td>\n",
       "      <td>2dfb3791-a51c-4c7a-819d-f7a94a29c015</td>\n",
       "      <td></td>\n",
       "      <td></td>\n",
       "      <td></td>\n",
       "      <td></td>\n",
       "    </tr>\n",
       "    <tr>\n",
       "      <th>1</th>\n",
       "      <td>True</td>\n",
       "      <td>load</td>\n",
       "      <td>294893.0</td>\n",
       "      <td>slovensko</td>\n",
       "      <td>npress-influxdb-n2.ewhs.bntb.net</td>\n",
       "      <td>pageviews</td>\n",
       "      <td></td>\n",
       "      <td></td>\n",
       "      <td></td>\n",
       "      <td>vybuchy-v-parizi</td>\n",
       "      <td>1515801600078000000</td>\n",
       "      <td></td>\n",
       "      <td>1a8feb16-3e30-4f9b-bf74-20037ea8505a</td>\n",
       "      <td>https://dennikn.sk/294893/fico-bezpecnost-u-na...</td>\n",
       "      <td></td>\n",
       "      <td>2dfb3791-a51c-4c7a-819d-f7a94a29c015</td>\n",
       "      <td></td>\n",
       "      <td></td>\n",
       "      <td></td>\n",
       "      <td></td>\n",
       "    </tr>\n",
       "    <tr>\n",
       "      <th>2</th>\n",
       "      <td>True</td>\n",
       "      <td>load</td>\n",
       "      <td>544744.0</td>\n",
       "      <td>slovensko</td>\n",
       "      <td>npress-influxdb-n2.ewhs.bntb.net</td>\n",
       "      <td>pageviews</td>\n",
       "      <td></td>\n",
       "      <td></td>\n",
       "      <td></td>\n",
       "      <td></td>\n",
       "      <td>1515801600078000000</td>\n",
       "      <td></td>\n",
       "      <td>1a8feb16-3e30-4f9b-bf74-20037ea8505a</td>\n",
       "      <td>https://dennikn.sk/544744/ciznar-a-matovic-si-...</td>\n",
       "      <td></td>\n",
       "      <td>2dfb3791-a51c-4c7a-819d-f7a94a29c015</td>\n",
       "      <td></td>\n",
       "      <td></td>\n",
       "      <td></td>\n",
       "      <td></td>\n",
       "    </tr>\n",
       "    <tr>\n",
       "      <th>3</th>\n",
       "      <td>True</td>\n",
       "      <td>load</td>\n",
       "      <td>704078.0</td>\n",
       "      <td>komentare</td>\n",
       "      <td>npress-influxdb-n2.ewhs.bntb.net</td>\n",
       "      <td>pageviews</td>\n",
       "      <td></td>\n",
       "      <td></td>\n",
       "      <td></td>\n",
       "      <td></td>\n",
       "      <td>1515801600078000000</td>\n",
       "      <td></td>\n",
       "      <td>1a8feb16-3e30-4f9b-bf74-20037ea8505a</td>\n",
       "      <td>https://dennikn.sk/704078/za-boha-a-za-narod-b...</td>\n",
       "      <td></td>\n",
       "      <td>2dfb3791-a51c-4c7a-819d-f7a94a29c015</td>\n",
       "      <td></td>\n",
       "      <td></td>\n",
       "      <td></td>\n",
       "      <td></td>\n",
       "    </tr>\n",
       "    <tr>\n",
       "      <th>4</th>\n",
       "      <td>True</td>\n",
       "      <td>load</td>\n",
       "      <td>953687.0</td>\n",
       "      <td>nezaradene</td>\n",
       "      <td>npress-influxdb-n2.ewhs.bntb.net</td>\n",
       "      <td>pageviews</td>\n",
       "      <td></td>\n",
       "      <td></td>\n",
       "      <td></td>\n",
       "      <td>rozhovory</td>\n",
       "      <td>1515801600078000000</td>\n",
       "      <td></td>\n",
       "      <td>1a8feb16-3e30-4f9b-bf74-20037ea8505a</td>\n",
       "      <td>https://dennikn.sk/953687/ako-evanjelici-sami-...</td>\n",
       "      <td></td>\n",
       "      <td>2dfb3791-a51c-4c7a-819d-f7a94a29c015</td>\n",
       "      <td></td>\n",
       "      <td></td>\n",
       "      <td></td>\n",
       "      <td></td>\n",
       "    </tr>\n",
       "  </tbody>\n",
       "</table>\n",
       "</div>"
      ],
      "text/plain": [
       "  is_article action article_id    category                              host  \\\n",
       "0      False   load               pageview  npress-influxdb-n2.ewhs.bntb.net   \n",
       "1       True   load   294893.0   slovensko  npress-influxdb-n2.ewhs.bntb.net   \n",
       "2       True   load   544744.0   slovensko  npress-influxdb-n2.ewhs.bntb.net   \n",
       "3       True   load   704078.0   komentare  npress-influxdb-n2.ewhs.bntb.net   \n",
       "4       True   load   953687.0  nezaradene  npress-influxdb-n2.ewhs.bntb.net   \n",
       "\n",
       "        name remp_session_id signed_in social              tags  \\\n",
       "0  pageviews                                                      \n",
       "1  pageviews                                   vybuchy-v-parizi   \n",
       "2  pageviews                                                      \n",
       "3  pageviews                                                      \n",
       "4  pageviews                                          rozhovory   \n",
       "\n",
       "                  time title                                 token  \\\n",
       "0  1515801600076000000        1a8feb16-3e30-4f9b-bf74-20037ea8505a   \n",
       "1  1515801600078000000        1a8feb16-3e30-4f9b-bf74-20037ea8505a   \n",
       "2  1515801600078000000        1a8feb16-3e30-4f9b-bf74-20037ea8505a   \n",
       "3  1515801600078000000        1a8feb16-3e30-4f9b-bf74-20037ea8505a   \n",
       "4  1515801600078000000        1a8feb16-3e30-4f9b-bf74-20037ea8505a   \n",
       "\n",
       "                                                 url user_agent  \\\n",
       "0                    https://dennikn.sk/autor/bella/              \n",
       "1  https://dennikn.sk/294893/fico-bezpecnost-u-na...              \n",
       "2  https://dennikn.sk/544744/ciznar-a-matovic-si-...              \n",
       "3  https://dennikn.sk/704078/za-boha-a-za-narod-b...              \n",
       "4  https://dennikn.sk/953687/ako-evanjelici-sami-...              \n",
       "\n",
       "                                user_id utm_campaign utm_content utm_medium  \\\n",
       "0  2dfb3791-a51c-4c7a-819d-f7a94a29c015                                       \n",
       "1  2dfb3791-a51c-4c7a-819d-f7a94a29c015                                       \n",
       "2  2dfb3791-a51c-4c7a-819d-f7a94a29c015                                       \n",
       "3  2dfb3791-a51c-4c7a-819d-f7a94a29c015                                       \n",
       "4  2dfb3791-a51c-4c7a-819d-f7a94a29c015                                       \n",
       "\n",
       "  utm_source  \n",
       "0             \n",
       "1             \n",
       "2             \n",
       "3             \n",
       "4             "
      ]
     },
     "execution_count": 406,
     "metadata": {},
     "output_type": "execute_result"
    }
   ],
   "source": [
    "df_dict['pageviews'].rename(columns={'_article': 'is_article'}, inplace=True)\n",
    "df_dict['pageviews']['article_id'].fillna('', inplace=True)\n",
    "df_dict['pageviews']['is_article'] = df_dict['pageviews']['is_article'].astype(bool)\n",
    "df_dict['pageviews']['article_id'] = df_dict['pageviews']['article_id'].astype(str)\n",
    "df_dict['pageviews']['time'] = df_dict['pageviews']['time'].astype(datetime)\n",
    "df_dict['pageviews']['remp_session_id'].fillna('', inplace = True)\n",
    "df_dict['pageviews']['signed_in'].fillna('', inplace = True)\n",
    "df_dict['pageviews']['social'].fillna('', inplace = True)\n",
    "df_dict['pageviews']['tags'].fillna('', inplace = True)\n",
    "df_dict['pageviews']['title'].fillna('', inplace = True)\n",
    "df_dict['pageviews']['user_agent'].fillna('', inplace = True)\n",
    "[df_dict['pageviews'][column].fillna('', inplace = True) for column in df_dict['pageviews'].columns if re.search('utm_', column) is not None]\n",
    "df_dict['pageviews'].head()"
   ]
  },
  {
   "cell_type": "code",
   "execution_count": 407,
   "metadata": {
    "collapsed": false,
    "deletable": true,
    "editable": true
   },
   "outputs": [],
   "source": [
    "# This function assumes all missing values are either NaN or ''\n",
    "def get_missing_values_share(table_name: str) -> pd.DataFrame:\n",
    "    missing_values_share = pd.Series(index=df_dict[table_name].columns)\n",
    "    num_df_rows = len(df_dict[table_name])\n",
    "    for column in df_dict[table_name].columns:\n",
    "        non_na_rows = df_dict[table_name][column].dropna()\n",
    "        if str(non_na_rows.dtype) == 'object':\n",
    "            num_relevant_values = len(non_na_rows[non_na_rows != ''])\n",
    "        else:\n",
    "            num_relevant_values = len(non_na_rows)\n",
    "        missing_values_share[column] = num_relevant_values / num_df_rows\n",
    "    \n",
    "    return missing_values_share"
   ]
  },
  {
   "cell_type": "code",
   "execution_count": 408,
   "metadata": {
    "collapsed": false,
    "deletable": true,
    "editable": true,
    "scrolled": false
   },
   "outputs": [
    {
     "data": {
      "text/plain": [
       "is_article         1.000000\n",
       "action             1.000000\n",
       "article_id         0.525908\n",
       "category           0.999994\n",
       "host               1.000000\n",
       "name               1.000000\n",
       "remp_session_id    0.011186\n",
       "signed_in          0.011230\n",
       "social             0.104669\n",
       "tags               0.159106\n",
       "time               1.000000\n",
       "title              0.000005\n",
       "token              1.000000\n",
       "url                1.000000\n",
       "user_agent         0.000002\n",
       "user_id            1.000000\n",
       "utm_campaign       0.012994\n",
       "utm_content        0.010596\n",
       "utm_medium         0.013796\n",
       "utm_source         0.013797\n",
       "dtype: float64"
      ]
     },
     "execution_count": 408,
     "metadata": {},
     "output_type": "execute_result"
    }
   ],
   "source": [
    "get_missing_values_share('pageviews')"
   ]
  },
  {
   "cell_type": "markdown",
   "metadata": {
    "deletable": true,
    "editable": true
   },
   "source": [
    "Look at signed_in values"
   ]
  },
  {
   "cell_type": "code",
   "execution_count": 338,
   "metadata": {
    "collapsed": false,
    "deletable": true,
    "editable": true
   },
   "outputs": [
    {
     "data": {
      "text/html": [
       "<div>\n",
       "<table border=\"1\" class=\"dataframe\">\n",
       "  <thead>\n",
       "    <tr style=\"text-align: right;\">\n",
       "      <th></th>\n",
       "      <th>is_article</th>\n",
       "      <th>action</th>\n",
       "      <th>article_id</th>\n",
       "      <th>category</th>\n",
       "      <th>host</th>\n",
       "      <th>name</th>\n",
       "      <th>remp_session_id</th>\n",
       "      <th>signed_in</th>\n",
       "      <th>social</th>\n",
       "      <th>tags</th>\n",
       "      <th>time</th>\n",
       "      <th>title</th>\n",
       "      <th>token</th>\n",
       "      <th>url</th>\n",
       "      <th>user_agent</th>\n",
       "      <th>user_id</th>\n",
       "      <th>utm_campaign</th>\n",
       "      <th>utm_content</th>\n",
       "      <th>utm_medium</th>\n",
       "      <th>utm_source</th>\n",
       "    </tr>\n",
       "  </thead>\n",
       "  <tbody>\n",
       "    <tr>\n",
       "      <th>796</th>\n",
       "      <td>False</td>\n",
       "      <td>load</td>\n",
       "      <td>nan</td>\n",
       "      <td>pageview</td>\n",
       "      <td>npress-influxdb-n2.ewhs.bntb.net</td>\n",
       "      <td>pageviews</td>\n",
       "      <td>74014bf5-abc9-4d25-8aec-baea54ab0b61</td>\n",
       "      <td>1.0</td>\n",
       "      <td></td>\n",
       "      <td></td>\n",
       "      <td>2018-01-17 00:11:32.094000</td>\n",
       "      <td></td>\n",
       "      <td>1a8feb16-3e30-4f9b-bf74-20037ea8505a</td>\n",
       "      <td>https://dennikn.sk/</td>\n",
       "      <td></td>\n",
       "      <td>122004</td>\n",
       "      <td></td>\n",
       "      <td></td>\n",
       "      <td></td>\n",
       "      <td></td>\n",
       "    </tr>\n",
       "    <tr>\n",
       "      <th>983</th>\n",
       "      <td>False</td>\n",
       "      <td>load</td>\n",
       "      <td>nan</td>\n",
       "      <td>pageview</td>\n",
       "      <td>npress-influxdb-n2.ewhs.bntb.net</td>\n",
       "      <td>pageviews</td>\n",
       "      <td>74014bf5-abc9-4d25-8aec-baea54ab0b61</td>\n",
       "      <td>1.0</td>\n",
       "      <td></td>\n",
       "      <td></td>\n",
       "      <td>2018-01-17 00:14:51.644000</td>\n",
       "      <td></td>\n",
       "      <td>1a8feb16-3e30-4f9b-bf74-20037ea8505a</td>\n",
       "      <td>https://dennikn.sk/</td>\n",
       "      <td></td>\n",
       "      <td>122004</td>\n",
       "      <td></td>\n",
       "      <td></td>\n",
       "      <td></td>\n",
       "      <td></td>\n",
       "    </tr>\n",
       "    <tr>\n",
       "      <th>4230</th>\n",
       "      <td>False</td>\n",
       "      <td>load</td>\n",
       "      <td>nan</td>\n",
       "      <td>pageview</td>\n",
       "      <td>npress-influxdb-n2.ewhs.bntb.net</td>\n",
       "      <td>pageviews</td>\n",
       "      <td>d8e82e4b-9a7e-4505-9614-3cc9a4350244</td>\n",
       "      <td>1.0</td>\n",
       "      <td></td>\n",
       "      <td></td>\n",
       "      <td>2018-01-17 01:42:16.587000</td>\n",
       "      <td></td>\n",
       "      <td>1a8feb16-3e30-4f9b-bf74-20037ea8505a</td>\n",
       "      <td>https://dennikn.sk/</td>\n",
       "      <td></td>\n",
       "      <td>39848</td>\n",
       "      <td></td>\n",
       "      <td></td>\n",
       "      <td></td>\n",
       "      <td></td>\n",
       "    </tr>\n",
       "  </tbody>\n",
       "</table>\n",
       "</div>"
      ],
      "text/plain": [
       "     is_article action article_id  category                              host  \\\n",
       "796       False   load        nan  pageview  npress-influxdb-n2.ewhs.bntb.net   \n",
       "983       False   load        nan  pageview  npress-influxdb-n2.ewhs.bntb.net   \n",
       "4230      False   load        nan  pageview  npress-influxdb-n2.ewhs.bntb.net   \n",
       "\n",
       "           name                       remp_session_id  signed_in social tags  \\\n",
       "796   pageviews  74014bf5-abc9-4d25-8aec-baea54ab0b61        1.0               \n",
       "983   pageviews  74014bf5-abc9-4d25-8aec-baea54ab0b61        1.0               \n",
       "4230  pageviews  d8e82e4b-9a7e-4505-9614-3cc9a4350244        1.0               \n",
       "\n",
       "                            time title                                 token  \\\n",
       "796   2018-01-17 00:11:32.094000        1a8feb16-3e30-4f9b-bf74-20037ea8505a   \n",
       "983   2018-01-17 00:14:51.644000        1a8feb16-3e30-4f9b-bf74-20037ea8505a   \n",
       "4230  2018-01-17 01:42:16.587000        1a8feb16-3e30-4f9b-bf74-20037ea8505a   \n",
       "\n",
       "                      url user_agent user_id utm_campaign utm_content  \\\n",
       "796   https://dennikn.sk/             122004                            \n",
       "983   https://dennikn.sk/             122004                            \n",
       "4230  https://dennikn.sk/              39848                            \n",
       "\n",
       "     utm_medium utm_source  \n",
       "796                         \n",
       "983                         \n",
       "4230                        "
      ]
     },
     "execution_count": 338,
     "metadata": {},
     "output_type": "execute_result"
    }
   ],
   "source": [
    "df_dict['pageviews'][df_dict['pageviews']['signed_in'] == 1].head(3)"
   ]
  },
  {
   "cell_type": "code",
   "execution_count": 339,
   "metadata": {
    "collapsed": false,
    "deletable": true,
    "editable": true,
    "scrolled": true
   },
   "outputs": [
    {
     "data": {
      "text/html": [
       "<div>\n",
       "<table border=\"1\" class=\"dataframe\">\n",
       "  <thead>\n",
       "    <tr style=\"text-align: right;\">\n",
       "      <th></th>\n",
       "      <th>is_article</th>\n",
       "      <th>action</th>\n",
       "      <th>article_id</th>\n",
       "      <th>category</th>\n",
       "      <th>host</th>\n",
       "      <th>name</th>\n",
       "      <th>remp_session_id</th>\n",
       "      <th>signed_in</th>\n",
       "      <th>social</th>\n",
       "      <th>tags</th>\n",
       "      <th>time</th>\n",
       "      <th>title</th>\n",
       "      <th>token</th>\n",
       "      <th>url</th>\n",
       "      <th>user_agent</th>\n",
       "      <th>user_id</th>\n",
       "      <th>utm_campaign</th>\n",
       "      <th>utm_content</th>\n",
       "      <th>utm_medium</th>\n",
       "      <th>utm_source</th>\n",
       "    </tr>\n",
       "  </thead>\n",
       "  <tbody>\n",
       "    <tr>\n",
       "      <th>0</th>\n",
       "      <td>False</td>\n",
       "      <td>load</td>\n",
       "      <td>nan</td>\n",
       "      <td>pageview</td>\n",
       "      <td>npress-influxdb-n2.ewhs.bntb.net</td>\n",
       "      <td>pageviews</td>\n",
       "      <td></td>\n",
       "      <td>0.0</td>\n",
       "      <td></td>\n",
       "      <td></td>\n",
       "      <td>2018-01-17 00:00:00.076000</td>\n",
       "      <td></td>\n",
       "      <td>1a8feb16-3e30-4f9b-bf74-20037ea8505a</td>\n",
       "      <td>https://dennikn.sk/veda/page/5/</td>\n",
       "      <td></td>\n",
       "      <td>2dfb3791-a51c-4c7a-819d-f7a94a29c015</td>\n",
       "      <td></td>\n",
       "      <td></td>\n",
       "      <td></td>\n",
       "      <td></td>\n",
       "    </tr>\n",
       "    <tr>\n",
       "      <th>3</th>\n",
       "      <td>True</td>\n",
       "      <td>load</td>\n",
       "      <td>253261.0</td>\n",
       "      <td>zdravie</td>\n",
       "      <td>npress-influxdb-n2.ewhs.bntb.net</td>\n",
       "      <td>pageviews</td>\n",
       "      <td></td>\n",
       "      <td>0.0</td>\n",
       "      <td></td>\n",
       "      <td></td>\n",
       "      <td>2018-01-17 00:00:00.078000</td>\n",
       "      <td></td>\n",
       "      <td>1a8feb16-3e30-4f9b-bf74-20037ea8505a</td>\n",
       "      <td>https://dennikn.sk/253261/opice-sa-vekom-zhors...</td>\n",
       "      <td></td>\n",
       "      <td>2dfb3791-a51c-4c7a-819d-f7a94a29c015</td>\n",
       "      <td></td>\n",
       "      <td></td>\n",
       "      <td></td>\n",
       "      <td></td>\n",
       "    </tr>\n",
       "    <tr>\n",
       "      <th>4</th>\n",
       "      <td>True</td>\n",
       "      <td>load</td>\n",
       "      <td>269636.0</td>\n",
       "      <td>ekonomika</td>\n",
       "      <td>npress-influxdb-n2.ewhs.bntb.net</td>\n",
       "      <td>pageviews</td>\n",
       "      <td></td>\n",
       "      <td>0.0</td>\n",
       "      <td></td>\n",
       "      <td></td>\n",
       "      <td>2018-01-17 00:00:00.078000</td>\n",
       "      <td></td>\n",
       "      <td>1a8feb16-3e30-4f9b-bf74-20037ea8505a</td>\n",
       "      <td>https://dennikn.sk/269636/platia-na-poste-seko...</td>\n",
       "      <td></td>\n",
       "      <td>2dfb3791-a51c-4c7a-819d-f7a94a29c015</td>\n",
       "      <td></td>\n",
       "      <td></td>\n",
       "      <td></td>\n",
       "      <td></td>\n",
       "    </tr>\n",
       "  </tbody>\n",
       "</table>\n",
       "</div>"
      ],
      "text/plain": [
       "  is_article action article_id   category                              host  \\\n",
       "0      False   load        nan   pageview  npress-influxdb-n2.ewhs.bntb.net   \n",
       "3       True   load   253261.0    zdravie  npress-influxdb-n2.ewhs.bntb.net   \n",
       "4       True   load   269636.0  ekonomika  npress-influxdb-n2.ewhs.bntb.net   \n",
       "\n",
       "        name remp_session_id  signed_in social tags  \\\n",
       "0  pageviews                        0.0               \n",
       "3  pageviews                        0.0               \n",
       "4  pageviews                        0.0               \n",
       "\n",
       "                         time title                                 token  \\\n",
       "0  2018-01-17 00:00:00.076000        1a8feb16-3e30-4f9b-bf74-20037ea8505a   \n",
       "3  2018-01-17 00:00:00.078000        1a8feb16-3e30-4f9b-bf74-20037ea8505a   \n",
       "4  2018-01-17 00:00:00.078000        1a8feb16-3e30-4f9b-bf74-20037ea8505a   \n",
       "\n",
       "                                                 url user_agent  \\\n",
       "0                    https://dennikn.sk/veda/page/5/              \n",
       "3  https://dennikn.sk/253261/opice-sa-vekom-zhors...              \n",
       "4  https://dennikn.sk/269636/platia-na-poste-seko...              \n",
       "\n",
       "                                user_id utm_campaign utm_content utm_medium  \\\n",
       "0  2dfb3791-a51c-4c7a-819d-f7a94a29c015                                       \n",
       "3  2dfb3791-a51c-4c7a-819d-f7a94a29c015                                       \n",
       "4  2dfb3791-a51c-4c7a-819d-f7a94a29c015                                       \n",
       "\n",
       "  utm_source  \n",
       "0             \n",
       "3             \n",
       "4             "
      ]
     },
     "execution_count": 339,
     "metadata": {},
     "output_type": "execute_result"
    }
   ],
   "source": [
    "df_dict['pageviews'][df_dict['pageviews']['signed_in'] == 0].head(3)"
   ]
  },
  {
   "cell_type": "markdown",
   "metadata": {
    "deletable": true,
    "editable": true
   },
   "source": [
    "Tags by whether the url is an article"
   ]
  },
  {
   "cell_type": "code",
   "execution_count": 350,
   "metadata": {
    "collapsed": false,
    "deletable": true,
    "editable": true,
    "scrolled": false
   },
   "outputs": [
    {
     "data": {
      "text/plain": [
       "                          3387809\n",
       "rozhovory                  230977\n",
       "ceske-volby-prezidenta     121159\n",
       "hoaxy-a-propaganda          91298\n",
       "slovenske-myty              75090\n",
       "Name: tags, dtype: int64"
      ]
     },
     "execution_count": 350,
     "metadata": {},
     "output_type": "execute_result"
    }
   ],
   "source": [
    "df_dict['pageviews'][df_dict['pageviews']['is_article'] == True]['tags'].value_counts().head()"
   ]
  },
  {
   "cell_type": "code",
   "execution_count": 397,
   "metadata": {
    "collapsed": false,
    "deletable": true,
    "editable": true
   },
   "outputs": [
    {
     "name": "stdout",
     "output_type": "stream",
     "text": [
      "share articles without tags 0.7579430670339761\n"
     ]
    }
   ],
   "source": [
    "unique_articles = df_dict['pageviews'].loc[\n",
    "    df_dict['pageviews']['is_article'] == True, \n",
    "    ['article_id', 'tags']].drop_duplicates()\n",
    "print('share articles without tags', \n",
    "      len(unique_articles[unique_articles['tags'] == '']) / len(unique_articles))"
   ]
  },
  {
   "cell_type": "code",
   "execution_count": 349,
   "metadata": {
    "collapsed": false,
    "deletable": true,
    "editable": true
   },
   "outputs": [
    {
     "data": {
      "text/plain": [
       "    4378740\n",
       "Name: tags, dtype: int64"
      ]
     },
     "execution_count": 349,
     "metadata": {},
     "output_type": "execute_result"
    }
   ],
   "source": [
    "df_dict['pageviews'][df_dict['pageviews']['is_article'] != True]['tags'].value_counts()"
   ]
  },
  {
   "cell_type": "markdown",
   "metadata": {
    "deletable": true,
    "editable": true
   },
   "source": [
    "Look at article_id by is_article"
   ]
  },
  {
   "cell_type": "code",
   "execution_count": 380,
   "metadata": {
    "collapsed": false,
    "deletable": true,
    "editable": true
   },
   "outputs": [
    {
     "data": {
      "text/plain": [
       "True    4857323\n",
       "Name: is_article, dtype: int64"
      ]
     },
     "execution_count": 380,
     "metadata": {},
     "output_type": "execute_result"
    }
   ],
   "source": [
    "df_dict['pageviews'].loc[df_dict['pageviews']['article_id'] != '', 'is_article'].value_counts()"
   ]
  },
  {
   "cell_type": "code",
   "execution_count": 381,
   "metadata": {
    "collapsed": false,
    "deletable": true,
    "editable": true
   },
   "outputs": [
    {
     "data": {
      "text/plain": [
       "False    4378740\n",
       "Name: is_article, dtype: int64"
      ]
     },
     "execution_count": 381,
     "metadata": {},
     "output_type": "execute_result"
    }
   ],
   "source": [
    "df_dict['pageviews'].loc[df_dict['pageviews']['article_id'] == '', 'is_article'].value_counts()"
   ]
  },
  {
   "cell_type": "code",
   "execution_count": 402,
   "metadata": {
    "collapsed": false,
    "deletable": true,
    "editable": true
   },
   "outputs": [
    {
     "name": "stdout",
     "output_type": "stream",
     "text": [
      "Index(['action', 'banner_id', 'campaign_id', 'category', 'email', 'host',\n",
      "       'mail_job_batch_id', 'name', 'new_email', 'original_email',\n",
      "       'remp_session_id', 'signed_in', 'social', 'template_code', 'time',\n",
      "       'token', 'url', 'user_agent', 'user_id', 'utm_campaign', 'utm_content',\n",
      "       'utm_medium', 'utm_source'],\n",
      "      dtype='object')\n"
     ]
    },
    {
     "data": {
      "text/html": [
       "<div>\n",
       "<table border=\"1\" class=\"dataframe\">\n",
       "  <thead>\n",
       "    <tr style=\"text-align: right;\">\n",
       "      <th></th>\n",
       "      <th>action</th>\n",
       "      <th>banner_id</th>\n",
       "      <th>campaign_id</th>\n",
       "      <th>category</th>\n",
       "      <th>email</th>\n",
       "      <th>host</th>\n",
       "      <th>mail_job_batch_id</th>\n",
       "      <th>name</th>\n",
       "      <th>new_email</th>\n",
       "      <th>original_email</th>\n",
       "      <th>...</th>\n",
       "      <th>template_code</th>\n",
       "      <th>time</th>\n",
       "      <th>token</th>\n",
       "      <th>url</th>\n",
       "      <th>user_agent</th>\n",
       "      <th>user_id</th>\n",
       "      <th>utm_campaign</th>\n",
       "      <th>utm_content</th>\n",
       "      <th>utm_medium</th>\n",
       "      <th>utm_source</th>\n",
       "    </tr>\n",
       "  </thead>\n",
       "  <tbody>\n",
       "    <tr>\n",
       "      <th>0</th>\n",
       "      <td>show</td>\n",
       "      <td>NaN</td>\n",
       "      <td>NaN</td>\n",
       "      <td>banner</td>\n",
       "      <td>NaN</td>\n",
       "      <td>npress-influxdb-n2.ewhs.bntb.net</td>\n",
       "      <td>NaN</td>\n",
       "      <td>events_v2</td>\n",
       "      <td>NaN</td>\n",
       "      <td>NaN</td>\n",
       "      <td>...</td>\n",
       "      <td>NaN</td>\n",
       "      <td>1515801600121000000</td>\n",
       "      <td>1a8feb16-3e30-4f9b-bf74-20037ea8505a</td>\n",
       "      <td>https://dennikn.sk/353377/skriniar-odchadza-zo...</td>\n",
       "      <td>NaN</td>\n",
       "      <td>2dfb3791-a51c-4c7a-819d-f7a94a29c015</td>\n",
       "      <td>16fd6c84-d6c9-4474-b90c-a548f8ab39ba</td>\n",
       "      <td>3a2af47f-c45e-48ec-b2f0-9c4040ebe1b1</td>\n",
       "      <td>inline</td>\n",
       "      <td>remp_campaign</td>\n",
       "    </tr>\n",
       "    <tr>\n",
       "      <th>1</th>\n",
       "      <td>show</td>\n",
       "      <td>NaN</td>\n",
       "      <td>NaN</td>\n",
       "      <td>banner</td>\n",
       "      <td>NaN</td>\n",
       "      <td>npress-influxdb-n2.ewhs.bntb.net</td>\n",
       "      <td>NaN</td>\n",
       "      <td>events_v2</td>\n",
       "      <td>NaN</td>\n",
       "      <td>NaN</td>\n",
       "      <td>...</td>\n",
       "      <td>NaN</td>\n",
       "      <td>1515801600130000000</td>\n",
       "      <td>1a8feb16-3e30-4f9b-bf74-20037ea8505a</td>\n",
       "      <td>https://dennikn.sk/389971/chronicky-stres-uryc...</td>\n",
       "      <td>NaN</td>\n",
       "      <td>2dfb3791-a51c-4c7a-819d-f7a94a29c015</td>\n",
       "      <td>16fd6c84-d6c9-4474-b90c-a548f8ab39ba</td>\n",
       "      <td>3a2af47f-c45e-48ec-b2f0-9c4040ebe1b1</td>\n",
       "      <td>inline</td>\n",
       "      <td>remp_campaign</td>\n",
       "    </tr>\n",
       "    <tr>\n",
       "      <th>2</th>\n",
       "      <td>show</td>\n",
       "      <td>NaN</td>\n",
       "      <td>NaN</td>\n",
       "      <td>banner</td>\n",
       "      <td>NaN</td>\n",
       "      <td>npress-influxdb-n2.ewhs.bntb.net</td>\n",
       "      <td>NaN</td>\n",
       "      <td>events_v2</td>\n",
       "      <td>NaN</td>\n",
       "      <td>NaN</td>\n",
       "      <td>...</td>\n",
       "      <td>NaN</td>\n",
       "      <td>1515801600136000000</td>\n",
       "      <td>1a8feb16-3e30-4f9b-bf74-20037ea8505a</td>\n",
       "      <td>https://dennikn.sk/autor/bella/</td>\n",
       "      <td>NaN</td>\n",
       "      <td>2dfb3791-a51c-4c7a-819d-f7a94a29c015</td>\n",
       "      <td>16fd6c84-d6c9-4474-b90c-a548f8ab39ba</td>\n",
       "      <td>3a2af47f-c45e-48ec-b2f0-9c4040ebe1b1</td>\n",
       "      <td>inline</td>\n",
       "      <td>remp_campaign</td>\n",
       "    </tr>\n",
       "    <tr>\n",
       "      <th>3</th>\n",
       "      <td>show</td>\n",
       "      <td>NaN</td>\n",
       "      <td>NaN</td>\n",
       "      <td>banner</td>\n",
       "      <td>NaN</td>\n",
       "      <td>npress-influxdb-n2.ewhs.bntb.net</td>\n",
       "      <td>NaN</td>\n",
       "      <td>events_v2</td>\n",
       "      <td>NaN</td>\n",
       "      <td>NaN</td>\n",
       "      <td>...</td>\n",
       "      <td>NaN</td>\n",
       "      <td>1515801600138000000</td>\n",
       "      <td>1a8feb16-3e30-4f9b-bf74-20037ea8505a</td>\n",
       "      <td>https://dennikn.sk/minuta/997484/</td>\n",
       "      <td>NaN</td>\n",
       "      <td>2dfb3791-a51c-4c7a-819d-f7a94a29c015</td>\n",
       "      <td>16fd6c84-d6c9-4474-b90c-a548f8ab39ba</td>\n",
       "      <td>3a2af47f-c45e-48ec-b2f0-9c4040ebe1b1</td>\n",
       "      <td>inline</td>\n",
       "      <td>remp_campaign</td>\n",
       "    </tr>\n",
       "    <tr>\n",
       "      <th>4</th>\n",
       "      <td>show</td>\n",
       "      <td>NaN</td>\n",
       "      <td>NaN</td>\n",
       "      <td>banner</td>\n",
       "      <td>NaN</td>\n",
       "      <td>npress-influxdb-n2.ewhs.bntb.net</td>\n",
       "      <td>NaN</td>\n",
       "      <td>events_v2</td>\n",
       "      <td>NaN</td>\n",
       "      <td>NaN</td>\n",
       "      <td>...</td>\n",
       "      <td>NaN</td>\n",
       "      <td>1515801600139000000</td>\n",
       "      <td>1a8feb16-3e30-4f9b-bf74-20037ea8505a</td>\n",
       "      <td>https://dennikn.sk/minuta/969399/</td>\n",
       "      <td>NaN</td>\n",
       "      <td>2dfb3791-a51c-4c7a-819d-f7a94a29c015</td>\n",
       "      <td>16fd6c84-d6c9-4474-b90c-a548f8ab39ba</td>\n",
       "      <td>3a2af47f-c45e-48ec-b2f0-9c4040ebe1b1</td>\n",
       "      <td>inline</td>\n",
       "      <td>remp_campaign</td>\n",
       "    </tr>\n",
       "  </tbody>\n",
       "</table>\n",
       "<p>5 rows × 23 columns</p>\n",
       "</div>"
      ],
      "text/plain": [
       "  action banner_id campaign_id category email  \\\n",
       "0   show       NaN         NaN   banner   NaN   \n",
       "1   show       NaN         NaN   banner   NaN   \n",
       "2   show       NaN         NaN   banner   NaN   \n",
       "3   show       NaN         NaN   banner   NaN   \n",
       "4   show       NaN         NaN   banner   NaN   \n",
       "\n",
       "                               host  mail_job_batch_id       name new_email  \\\n",
       "0  npress-influxdb-n2.ewhs.bntb.net                NaN  events_v2       NaN   \n",
       "1  npress-influxdb-n2.ewhs.bntb.net                NaN  events_v2       NaN   \n",
       "2  npress-influxdb-n2.ewhs.bntb.net                NaN  events_v2       NaN   \n",
       "3  npress-influxdb-n2.ewhs.bntb.net                NaN  events_v2       NaN   \n",
       "4  npress-influxdb-n2.ewhs.bntb.net                NaN  events_v2       NaN   \n",
       "\n",
       "  original_email      ...       template_code                 time  \\\n",
       "0            NaN      ...                 NaN  1515801600121000000   \n",
       "1            NaN      ...                 NaN  1515801600130000000   \n",
       "2            NaN      ...                 NaN  1515801600136000000   \n",
       "3            NaN      ...                 NaN  1515801600138000000   \n",
       "4            NaN      ...                 NaN  1515801600139000000   \n",
       "\n",
       "                                  token  \\\n",
       "0  1a8feb16-3e30-4f9b-bf74-20037ea8505a   \n",
       "1  1a8feb16-3e30-4f9b-bf74-20037ea8505a   \n",
       "2  1a8feb16-3e30-4f9b-bf74-20037ea8505a   \n",
       "3  1a8feb16-3e30-4f9b-bf74-20037ea8505a   \n",
       "4  1a8feb16-3e30-4f9b-bf74-20037ea8505a   \n",
       "\n",
       "                                                 url  user_agent  \\\n",
       "0  https://dennikn.sk/353377/skriniar-odchadza-zo...         NaN   \n",
       "1  https://dennikn.sk/389971/chronicky-stres-uryc...         NaN   \n",
       "2                    https://dennikn.sk/autor/bella/         NaN   \n",
       "3                  https://dennikn.sk/minuta/997484/         NaN   \n",
       "4                  https://dennikn.sk/minuta/969399/         NaN   \n",
       "\n",
       "                                user_id                          utm_campaign  \\\n",
       "0  2dfb3791-a51c-4c7a-819d-f7a94a29c015  16fd6c84-d6c9-4474-b90c-a548f8ab39ba   \n",
       "1  2dfb3791-a51c-4c7a-819d-f7a94a29c015  16fd6c84-d6c9-4474-b90c-a548f8ab39ba   \n",
       "2  2dfb3791-a51c-4c7a-819d-f7a94a29c015  16fd6c84-d6c9-4474-b90c-a548f8ab39ba   \n",
       "3  2dfb3791-a51c-4c7a-819d-f7a94a29c015  16fd6c84-d6c9-4474-b90c-a548f8ab39ba   \n",
       "4  2dfb3791-a51c-4c7a-819d-f7a94a29c015  16fd6c84-d6c9-4474-b90c-a548f8ab39ba   \n",
       "\n",
       "                            utm_content utm_medium     utm_source  \n",
       "0  3a2af47f-c45e-48ec-b2f0-9c4040ebe1b1     inline  remp_campaign  \n",
       "1  3a2af47f-c45e-48ec-b2f0-9c4040ebe1b1     inline  remp_campaign  \n",
       "2  3a2af47f-c45e-48ec-b2f0-9c4040ebe1b1     inline  remp_campaign  \n",
       "3  3a2af47f-c45e-48ec-b2f0-9c4040ebe1b1     inline  remp_campaign  \n",
       "4  3a2af47f-c45e-48ec-b2f0-9c4040ebe1b1     inline  remp_campaign  \n",
       "\n",
       "[5 rows x 23 columns]"
      ]
     },
     "execution_count": 402,
     "metadata": {},
     "output_type": "execute_result"
    }
   ],
   "source": [
    "print(df_dict['events'].columns)\n",
    "df_dict['events'].head()"
   ]
  },
  {
   "cell_type": "code",
   "execution_count": 409,
   "metadata": {
    "collapsed": false,
    "deletable": true,
    "editable": true
   },
   "outputs": [],
   "source": [
    "df_dict['events']['time'] = df_dict['events']['time'].astype(datetime)\n",
    "df_dict['events'].fillna('', inplace = True)"
   ]
  },
  {
   "cell_type": "code",
   "execution_count": 427,
   "metadata": {
    "collapsed": false,
    "deletable": true,
    "editable": true
   },
   "outputs": [
    {
     "data": {
      "text/plain": [
       "action              1.00000\n",
       "banner_id           0.00000\n",
       "campaign_id         0.00000\n",
       "category            1.00000\n",
       "email               0.41400\n",
       "host                1.00000\n",
       "mail_job_batch_id   0.41400\n",
       "name                1.00000\n",
       "new_email           0.00001\n",
       "original_email      0.00001\n",
       "remp_session_id     0.04879\n",
       "signed_in           0.04891\n",
       "social              0.10815\n",
       "template_code       0.41400\n",
       "time                1.00000\n",
       "token               1.00000\n",
       "url                 0.58584\n",
       "user_agent          0.00000\n",
       "user_id             1.00000\n",
       "utm_campaign        0.58459\n",
       "utm_content         0.58459\n",
       "utm_medium          0.58459\n",
       "utm_source          0.58459\n",
       "dtype: float64"
      ]
     },
     "execution_count": 427,
     "metadata": {},
     "output_type": "execute_result"
    }
   ],
   "source": [
    "pd.set_option('display.float_format', lambda x: '%.5f' % x)\n",
    "events_missing_values_share = get_missing_values_share('events')\n",
    "events_missing_values_share"
   ]
  },
  {
   "cell_type": "code",
   "execution_count": 414,
   "metadata": {
    "collapsed": false,
    "deletable": true,
    "editable": true
   },
   "outputs": [
    {
     "data": {
      "text/plain": [
       "25    d7cf7eef-922f-48d5-9773-f36896a7e466\n",
       "26    19267cd2-58f3-4419-80bc-ccd69800edfe\n",
       "31    8814d446-7d13-455a-8278-638f7c3c276c\n",
       "Name: remp_session_id, dtype: object"
      ]
     },
     "execution_count": 414,
     "metadata": {},
     "output_type": "execute_result"
    }
   ],
   "source": [
    "df_dict['events'][df_dict['events']['signed_in'] == 1].head(3)['remp_session_id']"
   ]
  },
  {
   "cell_type": "code",
   "execution_count": 419,
   "metadata": {
    "collapsed": false,
    "deletable": true,
    "editable": true
   },
   "outputs": [
    {
     "data": {
      "text/plain": [
       "                                        218\n",
       "20440db4-2cde-4aab-abce-369b64ba6def     18\n",
       "d54453b4-5242-4d7a-86ce-791ffa3b3b36     16\n",
       "5242d7a0-6ce7-491f-ba3b-3b36d94d0cd4      7\n",
       "53b45242-d7a0-46ce-b91f-fa3b3b36d94d      7\n",
       "Name: remp_session_id, dtype: int64"
      ]
     },
     "execution_count": 419,
     "metadata": {},
     "output_type": "execute_result"
    }
   ],
   "source": [
    "df_dict['events'].loc[df_dict['events']['signed_in'] == 0, 'remp_session_id'].value_counts().head()"
   ]
  },
  {
   "cell_type": "code",
   "execution_count": 422,
   "metadata": {
    "collapsed": false,
    "deletable": true,
    "editable": true
   },
   "outputs": [
    {
     "data": {
      "text/plain": [
       "                                                                                                                       1080714\n",
       "https://dennikn.sk/                                                                                                     849935\n",
       "https://dennikn.sk/?ref=menu                                                                                             11456\n",
       "https://dennikn.sk/980405/nie-sme-vhodni-pre-deti-upozornuje-metalova-kaviaren-v-bratislave-po-zlych-skusenostiach/       9060\n",
       "https://dennikn.sk/977427/vobec-nepotrebujete-predajnu-tiger-rozmyslite-si-ci-tam-nakupujete/                             8590\n",
       "Name: url, dtype: int64"
      ]
     },
     "execution_count": 422,
     "metadata": {},
     "output_type": "execute_result"
    }
   ],
   "source": [
    "df_dict['events']['url'].value_counts().head()"
   ]
  },
  {
   "cell_type": "code",
   "execution_count": 424,
   "metadata": {
    "collapsed": false,
    "deletable": true,
    "editable": true
   },
   "outputs": [
    {
     "data": {
      "text/plain": [
       "                                412\n",
       "radoslav.augustin@dennikn.sk    111\n",
       "a@avenarius.sk                  100\n",
       "talarovic1@gmail.com             99\n",
       "chovan@agropartner.sk            99\n",
       "Name: email, dtype: int64"
      ]
     },
     "execution_count": 424,
     "metadata": {},
     "output_type": "execute_result"
    }
   ],
   "source": [
    "df_dict['events'].loc[df_dict['events']['url'] == '', 'email'].value_counts().head()"
   ]
  },
  {
   "cell_type": "code",
   "execution_count": 425,
   "metadata": {
    "collapsed": false,
    "deletable": true,
    "editable": true
   },
   "outputs": [
    {
     "data": {
      "text/plain": [
       "https://dennikn.sk/                                                                                                    849935\n",
       "https://dennikn.sk/?ref=menu                                                                                            11456\n",
       "https://dennikn.sk/980405/nie-sme-vhodni-pre-deti-upozornuje-metalova-kaviaren-v-bratislave-po-zlych-skusenostiach/      9060\n",
       "https://dennikn.sk/977427/vobec-nepotrebujete-predajnu-tiger-rozmyslite-si-ci-tam-nakupujete/                            8590\n",
       "https://dennikn.sk/976798/jan-figel-schytal-som-to/                                                                      7028\n",
       "Name: url, dtype: int64"
      ]
     },
     "execution_count": 425,
     "metadata": {},
     "output_type": "execute_result"
    }
   ],
   "source": [
    "df_dict['events'].loc[df_dict['events']['email'] == '', 'url'].value_counts().head()"
   ]
  },
  {
   "cell_type": "code",
   "execution_count": 429,
   "metadata": {
    "collapsed": false,
    "deletable": true,
    "editable": true
   },
   "outputs": [
    {
     "data": {
      "text/plain": [
       "    1080302\n",
       "Name: url, dtype: int64"
      ]
     },
     "execution_count": 429,
     "metadata": {},
     "output_type": "execute_result"
    }
   ],
   "source": [
    "df_dict['events'].loc[df_dict['events']['email'] != '', 'url'].value_counts().head()"
   ]
  },
  {
   "cell_type": "code",
   "execution_count": 430,
   "metadata": {
    "collapsed": false,
    "deletable": true,
    "editable": true
   },
   "outputs": [
    {
     "data": {
      "text/plain": [
       "    1528692\n",
       "Name: email, dtype: int64"
      ]
     },
     "execution_count": 430,
     "metadata": {},
     "output_type": "execute_result"
    }
   ],
   "source": [
    "df_dict['events'].loc[df_dict['events']['url'] != '', 'email'].value_counts().head()"
   ]
  },
  {
   "cell_type": "code",
   "execution_count": 426,
   "metadata": {
    "collapsed": false,
    "deletable": true,
    "editable": true
   },
   "outputs": [
    {
     "data": {
      "text/plain": [
       "    1529104\n",
       "Name: mail_job_batch_id, dtype: int64"
      ]
     },
     "execution_count": 426,
     "metadata": {},
     "output_type": "execute_result"
    }
   ],
   "source": [
    "df_dict['events'].loc[df_dict['events']['email'] == '', 'mail_job_batch_id'].value_counts().head()"
   ]
  },
  {
   "cell_type": "code",
   "execution_count": 428,
   "metadata": {
    "collapsed": false,
    "deletable": true,
    "editable": true
   },
   "outputs": [
    {
     "data": {
      "text/plain": [
       "0.99984210966020615"
      ]
     },
     "execution_count": 428,
     "metadata": {},
     "output_type": "execute_result"
    }
   ],
   "source": [
    "events_missing_values_share['email'] + events_missing_values_share['url']"
   ]
  },
  {
   "cell_type": "code",
   "execution_count": 470,
   "metadata": {
    "collapsed": false,
    "deletable": true,
    "editable": true
   },
   "outputs": [
    {
     "name": "stdout",
     "output_type": "stream",
     "text": [
      "Index(['article_id', 'author_id', 'currency', 'funnel_id', 'host', 'name',\n",
      "       'product_ids', 'revenue', 'step', 'time', 'token', 'transaction_id',\n",
      "       'url', 'user_agent', 'user_id', 'utm_campaign', 'utm_content',\n",
      "       'utm_medium', 'utm_source'],\n",
      "      dtype='object')\n"
     ]
    },
    {
     "data": {
      "text/html": [
       "<div>\n",
       "<table border=\"1\" class=\"dataframe\">\n",
       "  <thead>\n",
       "    <tr style=\"text-align: right;\">\n",
       "      <th></th>\n",
       "      <th>article_id</th>\n",
       "      <th>author_id</th>\n",
       "      <th>currency</th>\n",
       "      <th>funnel_id</th>\n",
       "      <th>host</th>\n",
       "      <th>name</th>\n",
       "      <th>product_ids</th>\n",
       "      <th>revenue</th>\n",
       "      <th>step</th>\n",
       "      <th>time</th>\n",
       "      <th>token</th>\n",
       "      <th>transaction_id</th>\n",
       "      <th>url</th>\n",
       "      <th>user_agent</th>\n",
       "      <th>user_id</th>\n",
       "      <th>utm_campaign</th>\n",
       "      <th>utm_content</th>\n",
       "      <th>utm_medium</th>\n",
       "      <th>utm_source</th>\n",
       "    </tr>\n",
       "  </thead>\n",
       "  <tbody>\n",
       "    <tr>\n",
       "      <th>0</th>\n",
       "      <td></td>\n",
       "      <td></td>\n",
       "      <td></td>\n",
       "      <td>19</td>\n",
       "      <td>npress-influxdb-n2.ewhs.bntb.net</td>\n",
       "      <td>commerce</td>\n",
       "      <td></td>\n",
       "      <td>0.00000</td>\n",
       "      <td>checkout</td>\n",
       "      <td>1516060958000000000</td>\n",
       "      <td>1a8feb16-3e30-4f9b-bf74-20037ea8505a</td>\n",
       "      <td></td>\n",
       "      <td></td>\n",
       "      <td></td>\n",
       "      <td>82372</td>\n",
       "      <td>16fd6c84-d6c9-4474-b90c-a548f8ab39ba</td>\n",
       "      <td>3a2af47f-c45e-48ec-b2f0-9c4040ebe1b1</td>\n",
       "      <td>inline</td>\n",
       "      <td>remp_campaign</td>\n",
       "    </tr>\n",
       "    <tr>\n",
       "      <th>1</th>\n",
       "      <td></td>\n",
       "      <td></td>\n",
       "      <td></td>\n",
       "      <td>19</td>\n",
       "      <td>npress-influxdb-n2.ewhs.bntb.net</td>\n",
       "      <td>commerce</td>\n",
       "      <td></td>\n",
       "      <td>0.00000</td>\n",
       "      <td>checkout</td>\n",
       "      <td>1516061009000000000</td>\n",
       "      <td>1a8feb16-3e30-4f9b-bf74-20037ea8505a</td>\n",
       "      <td></td>\n",
       "      <td></td>\n",
       "      <td></td>\n",
       "      <td>94521</td>\n",
       "      <td></td>\n",
       "      <td></td>\n",
       "      <td></td>\n",
       "      <td></td>\n",
       "    </tr>\n",
       "    <tr>\n",
       "      <th>2</th>\n",
       "      <td></td>\n",
       "      <td></td>\n",
       "      <td>EUR</td>\n",
       "      <td>19</td>\n",
       "      <td>npress-influxdb-n2.ewhs.bntb.net</td>\n",
       "      <td>commerce</td>\n",
       "      <td>84</td>\n",
       "      <td>4.99000</td>\n",
       "      <td>payment</td>\n",
       "      <td>1516061273000000000</td>\n",
       "      <td>1a8feb16-3e30-4f9b-bf74-20037ea8505a</td>\n",
       "      <td>7826673105.0</td>\n",
       "      <td>https://dennikn.sk/</td>\n",
       "      <td>Mozilla/5.0 (Windows NT 6.1; WOW64; rv:57.0) G...</td>\n",
       "      <td>56171</td>\n",
       "      <td>1589494e-5a03-4535-a92f-a7c19381f054</td>\n",
       "      <td>3a2af47f-c45e-48ec-b2f0-9c4040ebe1b1</td>\n",
       "      <td>inline</td>\n",
       "      <td>remp_campaign</td>\n",
       "    </tr>\n",
       "    <tr>\n",
       "      <th>3</th>\n",
       "      <td></td>\n",
       "      <td></td>\n",
       "      <td>EUR</td>\n",
       "      <td>19</td>\n",
       "      <td>npress-influxdb-n2.ewhs.bntb.net</td>\n",
       "      <td>commerce</td>\n",
       "      <td>84</td>\n",
       "      <td>4.99000</td>\n",
       "      <td>purchase</td>\n",
       "      <td>1516061341000000000</td>\n",
       "      <td>1a8feb16-3e30-4f9b-bf74-20037ea8505a</td>\n",
       "      <td>7826673105.0</td>\n",
       "      <td>https://dennikn.sk/</td>\n",
       "      <td>Mozilla/5.0 (Windows NT 6.1; WOW64; rv:57.0) G...</td>\n",
       "      <td>56171</td>\n",
       "      <td>1589494e-5a03-4535-a92f-a7c19381f054</td>\n",
       "      <td>3a2af47f-c45e-48ec-b2f0-9c4040ebe1b1</td>\n",
       "      <td>inline</td>\n",
       "      <td>remp_campaign</td>\n",
       "    </tr>\n",
       "    <tr>\n",
       "      <th>4</th>\n",
       "      <td></td>\n",
       "      <td></td>\n",
       "      <td></td>\n",
       "      <td>19</td>\n",
       "      <td>npress-influxdb-n2.ewhs.bntb.net</td>\n",
       "      <td>commerce</td>\n",
       "      <td></td>\n",
       "      <td>0.00000</td>\n",
       "      <td>checkout</td>\n",
       "      <td>1516061529000000000</td>\n",
       "      <td>1a8feb16-3e30-4f9b-bf74-20037ea8505a</td>\n",
       "      <td></td>\n",
       "      <td></td>\n",
       "      <td></td>\n",
       "      <td>14524</td>\n",
       "      <td></td>\n",
       "      <td></td>\n",
       "      <td></td>\n",
       "      <td></td>\n",
       "    </tr>\n",
       "  </tbody>\n",
       "</table>\n",
       "</div>"
      ],
      "text/plain": [
       "  article_id author_id currency funnel_id                              host  \\\n",
       "0                                      19  npress-influxdb-n2.ewhs.bntb.net   \n",
       "1                                      19  npress-influxdb-n2.ewhs.bntb.net   \n",
       "2                           EUR        19  npress-influxdb-n2.ewhs.bntb.net   \n",
       "3                           EUR        19  npress-influxdb-n2.ewhs.bntb.net   \n",
       "4                                      19  npress-influxdb-n2.ewhs.bntb.net   \n",
       "\n",
       "       name product_ids  revenue      step                 time  \\\n",
       "0  commerce              0.00000  checkout  1516060958000000000   \n",
       "1  commerce              0.00000  checkout  1516061009000000000   \n",
       "2  commerce          84  4.99000   payment  1516061273000000000   \n",
       "3  commerce          84  4.99000  purchase  1516061341000000000   \n",
       "4  commerce              0.00000  checkout  1516061529000000000   \n",
       "\n",
       "                                  token transaction_id                  url  \\\n",
       "0  1a8feb16-3e30-4f9b-bf74-20037ea8505a                                       \n",
       "1  1a8feb16-3e30-4f9b-bf74-20037ea8505a                                       \n",
       "2  1a8feb16-3e30-4f9b-bf74-20037ea8505a   7826673105.0  https://dennikn.sk/   \n",
       "3  1a8feb16-3e30-4f9b-bf74-20037ea8505a   7826673105.0  https://dennikn.sk/   \n",
       "4  1a8feb16-3e30-4f9b-bf74-20037ea8505a                                       \n",
       "\n",
       "                                          user_agent user_id  \\\n",
       "0                                                      82372   \n",
       "1                                                      94521   \n",
       "2  Mozilla/5.0 (Windows NT 6.1; WOW64; rv:57.0) G...   56171   \n",
       "3  Mozilla/5.0 (Windows NT 6.1; WOW64; rv:57.0) G...   56171   \n",
       "4                                                      14524   \n",
       "\n",
       "                           utm_campaign                           utm_content  \\\n",
       "0  16fd6c84-d6c9-4474-b90c-a548f8ab39ba  3a2af47f-c45e-48ec-b2f0-9c4040ebe1b1   \n",
       "1                                                                               \n",
       "2  1589494e-5a03-4535-a92f-a7c19381f054  3a2af47f-c45e-48ec-b2f0-9c4040ebe1b1   \n",
       "3  1589494e-5a03-4535-a92f-a7c19381f054  3a2af47f-c45e-48ec-b2f0-9c4040ebe1b1   \n",
       "4                                                                               \n",
       "\n",
       "  utm_medium     utm_source  \n",
       "0     inline  remp_campaign  \n",
       "1                            \n",
       "2     inline  remp_campaign  \n",
       "3     inline  remp_campaign  \n",
       "4                            "
      ]
     },
     "execution_count": 470,
     "metadata": {},
     "output_type": "execute_result"
    }
   ],
   "source": [
    "print(df_dict['commerce'].columns)\n",
    "for column in df_dict['commerce'].columns:\n",
    "    if column not in ['revenue']:\n",
    "        df_dict['commerce'][column] = df_dict['commerce'][column].astype(str)\n",
    "        df_dict['commerce'][column] = df_dict['commerce'][column].str.replace('nan', '')\n",
    "    else:\n",
    "        df_dict['commerce']['revenue'] = df_dict['commerce']['revenue'].astype(float)\n",
    "        df_dict['commerce']['revenue'] = df_dict['commerce']['revenue'].fillna(0)\n",
    "df_dict['commerce'].head()"
   ]
  },
  {
   "cell_type": "code",
   "execution_count": 432,
   "metadata": {
    "collapsed": false,
    "deletable": true,
    "editable": true,
    "scrolled": true
   },
   "outputs": [
    {
     "data": {
      "text/plain": [
       "article_id       0.02961\n",
       "author_id        0.02951\n",
       "currency         0.44585\n",
       "funnel_id        0.77288\n",
       "host             1.00000\n",
       "name             1.00000\n",
       "product_ids      0.44585\n",
       "revenue          0.44585\n",
       "step             1.00000\n",
       "time             1.00000\n",
       "token            1.00000\n",
       "transaction_id   0.44585\n",
       "url              0.22375\n",
       "user_agent       0.22722\n",
       "user_id          1.00000\n",
       "utm_campaign     0.22732\n",
       "utm_content      0.15620\n",
       "utm_medium       0.22729\n",
       "utm_source       0.22729\n",
       "dtype: float64"
      ]
     },
     "execution_count": 432,
     "metadata": {},
     "output_type": "execute_result"
    }
   ],
   "source": [
    "commerce_missing_values_share = get_missing_values_share('commerce')\n",
    "commerce_missing_values_share"
   ]
  },
  {
   "cell_type": "code",
   "execution_count": 471,
   "metadata": {
    "collapsed": false,
    "deletable": true,
    "editable": true
   },
   "outputs": [
    {
     "data": {
      "text/plain": [
       "checkout   0.55415\n",
       "purchase   0.32373\n",
       "payment    0.12212\n",
       "Name: step, dtype: float64"
      ]
     },
     "execution_count": 471,
     "metadata": {},
     "output_type": "execute_result"
    }
   ],
   "source": [
    "df_dict['commerce']['step'].value_counts(normalize=True)"
   ]
  },
  {
   "cell_type": "code",
   "execution_count": 472,
   "metadata": {
    "collapsed": false,
    "deletable": true,
    "editable": true
   },
   "outputs": [
    {
     "data": {
      "text/plain": [
       "purchase    13525\n",
       "payment      5102\n",
       "Name: step, dtype: int64"
      ]
     },
     "execution_count": 472,
     "metadata": {},
     "output_type": "execute_result"
    }
   ],
   "source": [
    "df_dict['commerce']['step'].loc[df_dict['commerce']['product_ids'] != ''].value_counts()"
   ]
  },
  {
   "cell_type": "code",
   "execution_count": 473,
   "metadata": {
    "collapsed": false,
    "deletable": true,
    "editable": true
   },
   "outputs": [
    {
     "data": {
      "text/plain": [
       "purchase    13525\n",
       "payment      5102\n",
       "Name: step, dtype: int64"
      ]
     },
     "execution_count": 473,
     "metadata": {},
     "output_type": "execute_result"
    }
   ],
   "source": [
    "df_dict['commerce']['step'].loc[df_dict['commerce']['revenue'] != 0].value_counts()"
   ]
  },
  {
   "cell_type": "code",
   "execution_count": null,
   "metadata": {
    "collapsed": true,
    "deletable": true,
    "editable": true
   },
   "outputs": [],
   "source": []
  }
 ],
 "metadata": {
  "kernelspec": {
   "display_name": "Python 3",
   "language": "python",
   "name": "python3"
  },
  "language_info": {
   "codemirror_mode": {
    "name": "ipython",
    "version": 3
   },
   "file_extension": ".py",
   "mimetype": "text/x-python",
   "name": "python",
   "nbconvert_exporter": "python",
   "pygments_lexer": "ipython3",
   "version": "3.6.1"
  }
 },
 "nbformat": 4,
 "nbformat_minor": 2
}
